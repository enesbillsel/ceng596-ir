{
  "nbformat": 4,
  "nbformat_minor": 0,
  "metadata": {
    "colab": {
      "provenance": []
    },
    "kernelspec": {
      "name": "python3",
      "display_name": "Python 3"
    },
    "language_info": {
      "name": "python"
    }
  },
  "cells": [
    {
      "cell_type": "code",
      "source": [
        "# Mount Google Drive to access files stored in your Drive from Colab\n",
        "\n",
        "from google.colab import drive\n",
        "drive.mount('/content/drive')"
      ],
      "metadata": {
        "colab": {
          "base_uri": "https://localhost:8080/"
        },
        "id": "7I3_U3sjOgby",
        "outputId": "c3d5e00c-aaf5-496c-eaa4-d8a7b53ebabd"
      },
      "execution_count": null,
      "outputs": [
        {
          "output_type": "stream",
          "name": "stdout",
          "text": [
            "Mounted at /content/drive\n"
          ]
        }
      ]
    },
    {
      "cell_type": "code",
      "execution_count": null,
      "metadata": {
        "id": "7a9S1by-UhFn",
        "colab": {
          "base_uri": "https://localhost:8080/"
        },
        "outputId": "013b9f9e-8614-4d2d-c15f-ceeceeafc20c"
      },
      "outputs": [
        {
          "output_type": "stream",
          "name": "stdout",
          "text": [
            "Collecting python-terrier\n",
            "  Downloading python_terrier-0.13.0-py3-none-any.whl.metadata (11 kB)\n",
            "Requirement already satisfied: numpy in /usr/local/lib/python3.11/dist-packages (from python-terrier) (2.0.2)\n",
            "Requirement already satisfied: pandas in /usr/local/lib/python3.11/dist-packages (from python-terrier) (2.2.2)\n",
            "Requirement already satisfied: more-itertools in /usr/local/lib/python3.11/dist-packages (from python-terrier) (10.7.0)\n",
            "Requirement already satisfied: tqdm in /usr/local/lib/python3.11/dist-packages (from python-terrier) (4.67.1)\n",
            "Requirement already satisfied: requests in /usr/local/lib/python3.11/dist-packages (from python-terrier) (2.32.3)\n",
            "Collecting ir-datasets>=0.3.2 (from python-terrier)\n",
            "  Downloading ir_datasets-0.5.10-py3-none-any.whl.metadata (12 kB)\n",
            "Collecting wget (from python-terrier)\n",
            "  Downloading wget-3.2.zip (10 kB)\n",
            "  Preparing metadata (setup.py) ... \u001b[?25l\u001b[?25hdone\n",
            "Collecting pyjnius>=1.4.2 (from python-terrier)\n",
            "  Downloading pyjnius-1.6.1-cp311-cp311-manylinux_2_17_x86_64.manylinux2014_x86_64.whl.metadata (10 kB)\n",
            "Collecting deprecated (from python-terrier)\n",
            "  Downloading Deprecated-1.2.18-py2.py3-none-any.whl.metadata (5.7 kB)\n",
            "Requirement already satisfied: scipy in /usr/local/lib/python3.11/dist-packages (from python-terrier) (1.15.3)\n",
            "Collecting ir-measures>=0.3.1 (from python-terrier)\n",
            "  Downloading ir_measures-0.3.7-py3-none-any.whl.metadata (7.0 kB)\n",
            "Collecting pytrec-eval-terrier>=0.5.3 (from python-terrier)\n",
            "  Downloading pytrec_eval_terrier-0.5.7-cp311-cp311-manylinux_2_17_x86_64.manylinux2014_x86_64.whl.metadata (984 bytes)\n",
            "Requirement already satisfied: jinja2 in /usr/local/lib/python3.11/dist-packages (from python-terrier) (3.1.6)\n",
            "Requirement already satisfied: statsmodels in /usr/local/lib/python3.11/dist-packages (from python-terrier) (0.14.4)\n",
            "Requirement already satisfied: dill in /usr/local/lib/python3.11/dist-packages (from python-terrier) (0.3.7)\n",
            "Requirement already satisfied: joblib in /usr/local/lib/python3.11/dist-packages (from python-terrier) (1.5.1)\n",
            "Collecting chest (from python-terrier)\n",
            "  Downloading chest-0.2.3.tar.gz (9.6 kB)\n",
            "  Preparing metadata (setup.py) ... \u001b[?25l\u001b[?25hdone\n",
            "Collecting lz4 (from python-terrier)\n",
            "  Downloading lz4-4.4.4-cp311-cp311-manylinux_2_17_x86_64.manylinux2014_x86_64.whl.metadata (3.8 kB)\n",
            "Requirement already satisfied: beautifulsoup4>=4.4.1 in /usr/local/lib/python3.11/dist-packages (from ir-datasets>=0.3.2->python-terrier) (4.13.4)\n",
            "Collecting inscriptis>=2.2.0 (from ir-datasets>=0.3.2->python-terrier)\n",
            "  Downloading inscriptis-2.6.0-py3-none-any.whl.metadata (25 kB)\n",
            "Requirement already satisfied: lxml>=4.5.2 in /usr/local/lib/python3.11/dist-packages (from ir-datasets>=0.3.2->python-terrier) (5.4.0)\n",
            "Requirement already satisfied: pyyaml>=5.3.1 in /usr/local/lib/python3.11/dist-packages (from ir-datasets>=0.3.2->python-terrier) (6.0.2)\n",
            "Collecting trec-car-tools>=2.5.4 (from ir-datasets>=0.3.2->python-terrier)\n",
            "  Downloading trec_car_tools-2.6-py3-none-any.whl.metadata (640 bytes)\n",
            "Collecting warc3-wet>=0.2.3 (from ir-datasets>=0.3.2->python-terrier)\n",
            "  Downloading warc3_wet-0.2.5-py3-none-any.whl.metadata (2.2 kB)\n",
            "Collecting warc3-wet-clueweb09>=0.2.5 (from ir-datasets>=0.3.2->python-terrier)\n",
            "  Downloading warc3-wet-clueweb09-0.2.5.tar.gz (17 kB)\n",
            "  Preparing metadata (setup.py) ... \u001b[?25l\u001b[?25hdone\n",
            "Collecting zlib-state>=0.1.3 (from ir-datasets>=0.3.2->python-terrier)\n",
            "  Downloading zlib_state-0.1.9-cp311-cp311-manylinux_2_17_x86_64.manylinux2014_x86_64.whl.metadata (3.3 kB)\n",
            "Collecting ijson>=3.1.3 (from ir-datasets>=0.3.2->python-terrier)\n",
            "  Downloading ijson-3.4.0-cp311-cp311-manylinux_2_17_x86_64.manylinux2014_x86_64.whl.metadata (21 kB)\n",
            "Collecting unlzw3>=0.2.1 (from ir-datasets>=0.3.2->python-terrier)\n",
            "  Downloading unlzw3-0.2.3-py3-none-any.whl.metadata (2.3 kB)\n",
            "Requirement already satisfied: pyarrow>=16.1.0 in /usr/local/lib/python3.11/dist-packages (from ir-datasets>=0.3.2->python-terrier) (18.1.0)\n",
            "Requirement already satisfied: charset-normalizer<4,>=2 in /usr/local/lib/python3.11/dist-packages (from requests->python-terrier) (3.4.2)\n",
            "Requirement already satisfied: idna<4,>=2.5 in /usr/local/lib/python3.11/dist-packages (from requests->python-terrier) (3.10)\n",
            "Requirement already satisfied: urllib3<3,>=1.21.1 in /usr/local/lib/python3.11/dist-packages (from requests->python-terrier) (2.4.0)\n",
            "Requirement already satisfied: certifi>=2017.4.17 in /usr/local/lib/python3.11/dist-packages (from requests->python-terrier) (2025.4.26)\n",
            "Collecting heapdict (from chest->python-terrier)\n",
            "  Downloading HeapDict-1.0.1-py3-none-any.whl.metadata (1.9 kB)\n",
            "Requirement already satisfied: wrapt<2,>=1.10 in /usr/local/lib/python3.11/dist-packages (from deprecated->python-terrier) (1.17.2)\n",
            "Requirement already satisfied: MarkupSafe>=2.0 in /usr/local/lib/python3.11/dist-packages (from jinja2->python-terrier) (3.0.2)\n",
            "Requirement already satisfied: python-dateutil>=2.8.2 in /usr/local/lib/python3.11/dist-packages (from pandas->python-terrier) (2.9.0.post0)\n",
            "Requirement already satisfied: pytz>=2020.1 in /usr/local/lib/python3.11/dist-packages (from pandas->python-terrier) (2025.2)\n",
            "Requirement already satisfied: tzdata>=2022.7 in /usr/local/lib/python3.11/dist-packages (from pandas->python-terrier) (2025.2)\n",
            "Requirement already satisfied: patsy>=0.5.6 in /usr/local/lib/python3.11/dist-packages (from statsmodels->python-terrier) (1.0.1)\n",
            "Requirement already satisfied: packaging>=21.3 in /usr/local/lib/python3.11/dist-packages (from statsmodels->python-terrier) (24.2)\n",
            "Requirement already satisfied: soupsieve>1.2 in /usr/local/lib/python3.11/dist-packages (from beautifulsoup4>=4.4.1->ir-datasets>=0.3.2->python-terrier) (2.7)\n",
            "Requirement already satisfied: typing-extensions>=4.0.0 in /usr/local/lib/python3.11/dist-packages (from beautifulsoup4>=4.4.1->ir-datasets>=0.3.2->python-terrier) (4.14.0)\n",
            "Requirement already satisfied: six>=1.5 in /usr/local/lib/python3.11/dist-packages (from python-dateutil>=2.8.2->pandas->python-terrier) (1.17.0)\n",
            "Collecting cbor>=1.0.0 (from trec-car-tools>=2.5.4->ir-datasets>=0.3.2->python-terrier)\n",
            "  Downloading cbor-1.0.0.tar.gz (20 kB)\n",
            "  Preparing metadata (setup.py) ... \u001b[?25l\u001b[?25hdone\n",
            "Downloading python_terrier-0.13.0-py3-none-any.whl (163 kB)\n",
            "\u001b[2K   \u001b[90m━━━━━━━━━━━━━━━━━━━━━━━━━━━━━━━━━━━━━━━━\u001b[0m \u001b[32m163.4/163.4 kB\u001b[0m \u001b[31m11.1 MB/s\u001b[0m eta \u001b[36m0:00:00\u001b[0m\n",
            "\u001b[?25hDownloading ir_datasets-0.5.10-py3-none-any.whl (859 kB)\n",
            "\u001b[2K   \u001b[90m━━━━━━━━━━━━━━━━━━━━━━━━━━━━━━━━━━━━━━━━\u001b[0m \u001b[32m859.0/859.0 kB\u001b[0m \u001b[31m16.4 MB/s\u001b[0m eta \u001b[36m0:00:00\u001b[0m\n",
            "\u001b[?25hDownloading ir_measures-0.3.7-py3-none-any.whl (60 kB)\n",
            "\u001b[2K   \u001b[90m━━━━━━━━━━━━━━━━━━━━━━━━━━━━━━━━━━━━━━━━\u001b[0m \u001b[32m60.1/60.1 kB\u001b[0m \u001b[31m4.1 MB/s\u001b[0m eta \u001b[36m0:00:00\u001b[0m\n",
            "\u001b[?25hDownloading lz4-4.4.4-cp311-cp311-manylinux_2_17_x86_64.manylinux2014_x86_64.whl (1.3 MB)\n",
            "\u001b[2K   \u001b[90m━━━━━━━━━━━━━━━━━━━━━━━━━━━━━━━━━━━━━━━━\u001b[0m \u001b[32m1.3/1.3 MB\u001b[0m \u001b[31m39.9 MB/s\u001b[0m eta \u001b[36m0:00:00\u001b[0m\n",
            "\u001b[?25hDownloading pyjnius-1.6.1-cp311-cp311-manylinux_2_17_x86_64.manylinux2014_x86_64.whl (1.6 MB)\n",
            "\u001b[2K   \u001b[90m━━━━━━━━━━━━━━━━━━━━━━━━━━━━━━━━━━━━━━━━\u001b[0m \u001b[32m1.6/1.6 MB\u001b[0m \u001b[31m36.1 MB/s\u001b[0m eta \u001b[36m0:00:00\u001b[0m\n",
            "\u001b[?25hDownloading pytrec_eval_terrier-0.5.7-cp311-cp311-manylinux_2_17_x86_64.manylinux2014_x86_64.whl (287 kB)\n",
            "\u001b[2K   \u001b[90m━━━━━━━━━━━━━━━━━━━━━━━━━━━━━━━━━━━━━━━━\u001b[0m \u001b[32m288.0/288.0 kB\u001b[0m \u001b[31m18.5 MB/s\u001b[0m eta \u001b[36m0:00:00\u001b[0m\n",
            "\u001b[?25hDownloading Deprecated-1.2.18-py2.py3-none-any.whl (10.0 kB)\n",
            "Downloading ijson-3.4.0-cp311-cp311-manylinux_2_17_x86_64.manylinux2014_x86_64.whl (134 kB)\n",
            "\u001b[2K   \u001b[90m━━━━━━━━━━━━━━━━━━━━━━━━━━━━━━━━━━━━━━━━\u001b[0m \u001b[32m135.0/135.0 kB\u001b[0m \u001b[31m4.6 MB/s\u001b[0m eta \u001b[36m0:00:00\u001b[0m\n",
            "\u001b[?25hDownloading inscriptis-2.6.0-py3-none-any.whl (45 kB)\n",
            "\u001b[2K   \u001b[90m━━━━━━━━━━━━━━━━━━━━━━━━━━━━━━━━━━━━━━━━\u001b[0m \u001b[32m45.1/45.1 kB\u001b[0m \u001b[31m3.1 MB/s\u001b[0m eta \u001b[36m0:00:00\u001b[0m\n",
            "\u001b[?25hDownloading trec_car_tools-2.6-py3-none-any.whl (8.4 kB)\n",
            "Downloading unlzw3-0.2.3-py3-none-any.whl (6.7 kB)\n",
            "Downloading warc3_wet-0.2.5-py3-none-any.whl (18 kB)\n",
            "Downloading zlib_state-0.1.9-cp311-cp311-manylinux_2_17_x86_64.manylinux2014_x86_64.whl (21 kB)\n",
            "Downloading HeapDict-1.0.1-py3-none-any.whl (3.9 kB)\n",
            "Building wheels for collected packages: chest, wget, warc3-wet-clueweb09, cbor\n",
            "  Building wheel for chest (setup.py) ... \u001b[?25l\u001b[?25hdone\n",
            "  Created wheel for chest: filename=chest-0.2.3-py3-none-any.whl size=7611 sha256=18e24556202dd10d5a5b9d49da49617e2d1f8d3f7703e6a98b1ef60774682981\n",
            "  Stored in directory: /root/.cache/pip/wheels/48/57/13/28831e81239278141f874ee9b7d6d5490a1b1191c2d07a3e73\n",
            "  Building wheel for wget (setup.py) ... \u001b[?25l\u001b[?25hdone\n",
            "  Created wheel for wget: filename=wget-3.2-py3-none-any.whl size=9655 sha256=9ec51960e90004d2492f35cd3501864582789dd9b3469679023c75fcfc4ade31\n",
            "  Stored in directory: /root/.cache/pip/wheels/40/b3/0f/a40dbd1c6861731779f62cc4babcb234387e11d697df70ee97\n",
            "  Building wheel for warc3-wet-clueweb09 (setup.py) ... \u001b[?25l\u001b[?25hdone\n",
            "  Created wheel for warc3-wet-clueweb09: filename=warc3_wet_clueweb09-0.2.5-py3-none-any.whl size=18919 sha256=0bb51b9941241f911ff5dc5956f19f1214743467ff3bf33728c83e28fdcb863c\n",
            "  Stored in directory: /root/.cache/pip/wheels/63/f9/dc/2dd16d3330e327236e4d407941975c42d5159d200cdb7922d8\n",
            "  Building wheel for cbor (setup.py) ... \u001b[?25l\u001b[?25hdone\n",
            "  Created wheel for cbor: filename=cbor-1.0.0-cp311-cp311-linux_x86_64.whl size=53934 sha256=4e8d54dbaf3eb909ce3cbc93fcc29d20e9b0c59bb66b1183a6b028e761440aaf\n",
            "  Stored in directory: /root/.cache/pip/wheels/21/6b/45/0c34253b1af07d1d9dc524f6d44d74a6b191c43152e6aaf641\n",
            "Successfully built chest wget warc3-wet-clueweb09 cbor\n",
            "Installing collected packages: wget, warc3-wet-clueweb09, warc3-wet, pyjnius, heapdict, cbor, zlib-state, unlzw3, trec-car-tools, pytrec-eval-terrier, lz4, ijson, deprecated, chest, ir-measures, inscriptis, ir-datasets, python-terrier\n",
            "Successfully installed cbor-1.0.0 chest-0.2.3 deprecated-1.2.18 heapdict-1.0.1 ijson-3.4.0 inscriptis-2.6.0 ir-datasets-0.5.10 ir-measures-0.3.7 lz4-4.4.4 pyjnius-1.6.1 python-terrier-0.13.0 pytrec-eval-terrier-0.5.7 trec-car-tools-2.6 unlzw3-0.2.3 warc3-wet-0.2.5 warc3-wet-clueweb09-0.2.5 wget-3.2 zlib-state-0.1.9\n",
            "Collecting python-docx\n",
            "  Downloading python_docx-1.1.2-py3-none-any.whl.metadata (2.0 kB)\n",
            "Requirement already satisfied: lxml>=3.1.0 in /usr/local/lib/python3.11/dist-packages (from python-docx) (5.4.0)\n",
            "Requirement already satisfied: typing-extensions>=4.9.0 in /usr/local/lib/python3.11/dist-packages (from python-docx) (4.14.0)\n",
            "Downloading python_docx-1.1.2-py3-none-any.whl (244 kB)\n",
            "\u001b[2K   \u001b[90m━━━━━━━━━━━━━━━━━━━━━━━━━━━━━━━━━━━━━━━━\u001b[0m \u001b[32m244.3/244.3 kB\u001b[0m \u001b[31m4.5 MB/s\u001b[0m eta \u001b[36m0:00:00\u001b[0m\n",
            "\u001b[?25hInstalling collected packages: python-docx\n",
            "Successfully installed python-docx-1.1.2\n",
            "Requirement already satisfied: gradio in /usr/local/lib/python3.11/dist-packages (5.31.0)\n",
            "Requirement already satisfied: aiofiles<25.0,>=22.0 in /usr/local/lib/python3.11/dist-packages (from gradio) (24.1.0)\n",
            "Requirement already satisfied: anyio<5.0,>=3.0 in /usr/local/lib/python3.11/dist-packages (from gradio) (4.9.0)\n",
            "Requirement already satisfied: fastapi<1.0,>=0.115.2 in /usr/local/lib/python3.11/dist-packages (from gradio) (0.115.12)\n",
            "Requirement already satisfied: ffmpy in /usr/local/lib/python3.11/dist-packages (from gradio) (0.6.0)\n",
            "Requirement already satisfied: gradio-client==1.10.1 in /usr/local/lib/python3.11/dist-packages (from gradio) (1.10.1)\n",
            "Requirement already satisfied: groovy~=0.1 in /usr/local/lib/python3.11/dist-packages (from gradio) (0.1.2)\n",
            "Requirement already satisfied: httpx>=0.24.1 in /usr/local/lib/python3.11/dist-packages (from gradio) (0.28.1)\n",
            "Requirement already satisfied: huggingface-hub>=0.28.1 in /usr/local/lib/python3.11/dist-packages (from gradio) (0.32.4)\n",
            "Requirement already satisfied: jinja2<4.0 in /usr/local/lib/python3.11/dist-packages (from gradio) (3.1.6)\n",
            "Requirement already satisfied: markupsafe<4.0,>=2.0 in /usr/local/lib/python3.11/dist-packages (from gradio) (3.0.2)\n",
            "Requirement already satisfied: numpy<3.0,>=1.0 in /usr/local/lib/python3.11/dist-packages (from gradio) (2.0.2)\n",
            "Requirement already satisfied: orjson~=3.0 in /usr/local/lib/python3.11/dist-packages (from gradio) (3.10.18)\n",
            "Requirement already satisfied: packaging in /usr/local/lib/python3.11/dist-packages (from gradio) (24.2)\n",
            "Requirement already satisfied: pandas<3.0,>=1.0 in /usr/local/lib/python3.11/dist-packages (from gradio) (2.2.2)\n",
            "Requirement already satisfied: pillow<12.0,>=8.0 in /usr/local/lib/python3.11/dist-packages (from gradio) (11.2.1)\n",
            "Requirement already satisfied: pydantic<2.12,>=2.0 in /usr/local/lib/python3.11/dist-packages (from gradio) (2.11.5)\n",
            "Requirement already satisfied: pydub in /usr/local/lib/python3.11/dist-packages (from gradio) (0.25.1)\n",
            "Requirement already satisfied: python-multipart>=0.0.18 in /usr/local/lib/python3.11/dist-packages (from gradio) (0.0.20)\n",
            "Requirement already satisfied: pyyaml<7.0,>=5.0 in /usr/local/lib/python3.11/dist-packages (from gradio) (6.0.2)\n",
            "Requirement already satisfied: ruff>=0.9.3 in /usr/local/lib/python3.11/dist-packages (from gradio) (0.11.12)\n",
            "Requirement already satisfied: safehttpx<0.2.0,>=0.1.6 in /usr/local/lib/python3.11/dist-packages (from gradio) (0.1.6)\n",
            "Requirement already satisfied: semantic-version~=2.0 in /usr/local/lib/python3.11/dist-packages (from gradio) (2.10.0)\n",
            "Requirement already satisfied: starlette<1.0,>=0.40.0 in /usr/local/lib/python3.11/dist-packages (from gradio) (0.46.2)\n",
            "Requirement already satisfied: tomlkit<0.14.0,>=0.12.0 in /usr/local/lib/python3.11/dist-packages (from gradio) (0.13.2)\n",
            "Requirement already satisfied: typer<1.0,>=0.12 in /usr/local/lib/python3.11/dist-packages (from gradio) (0.16.0)\n",
            "Requirement already satisfied: typing-extensions~=4.0 in /usr/local/lib/python3.11/dist-packages (from gradio) (4.14.0)\n",
            "Requirement already satisfied: uvicorn>=0.14.0 in /usr/local/lib/python3.11/dist-packages (from gradio) (0.34.3)\n",
            "Requirement already satisfied: fsspec in /usr/local/lib/python3.11/dist-packages (from gradio-client==1.10.1->gradio) (2025.3.2)\n",
            "Requirement already satisfied: websockets<16.0,>=10.0 in /usr/local/lib/python3.11/dist-packages (from gradio-client==1.10.1->gradio) (15.0.1)\n",
            "Requirement already satisfied: idna>=2.8 in /usr/local/lib/python3.11/dist-packages (from anyio<5.0,>=3.0->gradio) (3.10)\n",
            "Requirement already satisfied: sniffio>=1.1 in /usr/local/lib/python3.11/dist-packages (from anyio<5.0,>=3.0->gradio) (1.3.1)\n",
            "Requirement already satisfied: certifi in /usr/local/lib/python3.11/dist-packages (from httpx>=0.24.1->gradio) (2025.4.26)\n",
            "Requirement already satisfied: httpcore==1.* in /usr/local/lib/python3.11/dist-packages (from httpx>=0.24.1->gradio) (1.0.9)\n",
            "Requirement already satisfied: h11>=0.16 in /usr/local/lib/python3.11/dist-packages (from httpcore==1.*->httpx>=0.24.1->gradio) (0.16.0)\n",
            "Requirement already satisfied: filelock in /usr/local/lib/python3.11/dist-packages (from huggingface-hub>=0.28.1->gradio) (3.18.0)\n",
            "Requirement already satisfied: requests in /usr/local/lib/python3.11/dist-packages (from huggingface-hub>=0.28.1->gradio) (2.32.3)\n",
            "Requirement already satisfied: tqdm>=4.42.1 in /usr/local/lib/python3.11/dist-packages (from huggingface-hub>=0.28.1->gradio) (4.67.1)\n",
            "Requirement already satisfied: hf-xet<2.0.0,>=1.1.2 in /usr/local/lib/python3.11/dist-packages (from huggingface-hub>=0.28.1->gradio) (1.1.2)\n",
            "Requirement already satisfied: python-dateutil>=2.8.2 in /usr/local/lib/python3.11/dist-packages (from pandas<3.0,>=1.0->gradio) (2.9.0.post0)\n",
            "Requirement already satisfied: pytz>=2020.1 in /usr/local/lib/python3.11/dist-packages (from pandas<3.0,>=1.0->gradio) (2025.2)\n",
            "Requirement already satisfied: tzdata>=2022.7 in /usr/local/lib/python3.11/dist-packages (from pandas<3.0,>=1.0->gradio) (2025.2)\n",
            "Requirement already satisfied: annotated-types>=0.6.0 in /usr/local/lib/python3.11/dist-packages (from pydantic<2.12,>=2.0->gradio) (0.7.0)\n",
            "Requirement already satisfied: pydantic-core==2.33.2 in /usr/local/lib/python3.11/dist-packages (from pydantic<2.12,>=2.0->gradio) (2.33.2)\n",
            "Requirement already satisfied: typing-inspection>=0.4.0 in /usr/local/lib/python3.11/dist-packages (from pydantic<2.12,>=2.0->gradio) (0.4.1)\n",
            "Requirement already satisfied: click>=8.0.0 in /usr/local/lib/python3.11/dist-packages (from typer<1.0,>=0.12->gradio) (8.2.1)\n",
            "Requirement already satisfied: shellingham>=1.3.0 in /usr/local/lib/python3.11/dist-packages (from typer<1.0,>=0.12->gradio) (1.5.4)\n",
            "Requirement already satisfied: rich>=10.11.0 in /usr/local/lib/python3.11/dist-packages (from typer<1.0,>=0.12->gradio) (13.9.4)\n",
            "Requirement already satisfied: six>=1.5 in /usr/local/lib/python3.11/dist-packages (from python-dateutil>=2.8.2->pandas<3.0,>=1.0->gradio) (1.17.0)\n",
            "Requirement already satisfied: markdown-it-py>=2.2.0 in /usr/local/lib/python3.11/dist-packages (from rich>=10.11.0->typer<1.0,>=0.12->gradio) (3.0.0)\n",
            "Requirement already satisfied: pygments<3.0.0,>=2.13.0 in /usr/local/lib/python3.11/dist-packages (from rich>=10.11.0->typer<1.0,>=0.12->gradio) (2.19.1)\n",
            "Requirement already satisfied: charset-normalizer<4,>=2 in /usr/local/lib/python3.11/dist-packages (from requests->huggingface-hub>=0.28.1->gradio) (3.4.2)\n",
            "Requirement already satisfied: urllib3<3,>=1.21.1 in /usr/local/lib/python3.11/dist-packages (from requests->huggingface-hub>=0.28.1->gradio) (2.4.0)\n",
            "Requirement already satisfied: mdurl~=0.1 in /usr/local/lib/python3.11/dist-packages (from markdown-it-py>=2.2.0->rich>=10.11.0->typer<1.0,>=0.12->gradio) (0.1.2)\n"
          ]
        }
      ],
      "source": [
        "# Package Installations\n",
        "\n",
        "!pip install python-terrier\n",
        "!pip install python-docx\n",
        "!pip install gradio"
      ]
    },
    {
      "cell_type": "code",
      "source": [
        "# Import Required Libraries\n",
        "\n",
        "import pyterrier as pt\n",
        "import os\n",
        "import re\n",
        "import pandas as pd\n",
        "from docx import Document\n",
        "from sklearn.feature_extraction.text import ENGLISH_STOP_WORDS\n",
        "import gradio as gr\n",
        "import numpy as np\n",
        "import pytrec_eval"
      ],
      "metadata": {
        "id": "1ecjGKzsUi2C"
      },
      "execution_count": null,
      "outputs": []
    },
    {
      "cell_type": "code",
      "source": [
        "# Initializes PyTerrier if it hasn't been started yet.\n",
        "\n",
        "if not pt.started():\n",
        "  pt.init()"
      ],
      "metadata": {
        "id": "ZQtFVXKhZVwR",
        "colab": {
          "base_uri": "https://localhost:8080/"
        },
        "outputId": "2dc1f607-a2c8-4b77-d329-fc1ea8fdf4b3"
      },
      "execution_count": null,
      "outputs": [
        {
          "output_type": "stream",
          "name": "stderr",
          "text": [
            "<ipython-input-4-3090555011>:3: DeprecationWarning: Call to deprecated function (or staticmethod) started. (use pt.java.started() instead) -- Deprecated since version 0.11.0.\n",
            "  if not pt.started():\n"
          ]
        },
        {
          "output_type": "stream",
          "name": "stdout",
          "text": [
            "terrier-assemblies 5.11 jar-with-dependencies not found, downloading to /root/.pyterrier...\n",
            "Done\n",
            "terrier-python-helper 0.0.8 jar not found, downloading to /root/.pyterrier...\n",
            "Done\n"
          ]
        },
        {
          "output_type": "stream",
          "name": "stderr",
          "text": [
            "Java started and loaded: pyterrier.java, pyterrier.terrier.java [version=5.11 (build: craig.macdonald 2025-01-13 21:29), helper_version=0.0.8]\n",
            "<ipython-input-4-3090555011>:4: DeprecationWarning: Call to deprecated method pt.init(). Deprecated since version 0.11.0.\n",
            "java is now started automatically with default settings. To force initialisation early, run:\n",
            "pt.java.init() # optional, forces java initialisation\n",
            "  pt.init()\n"
          ]
        }
      ]
    },
    {
      "cell_type": "code",
      "source": [
        "# Parses TREC-style documents from a folder of text files.\n",
        "# Each <DOC> block is read and fields like DOCNO, FILEID, TEXT etc. are extracted.\n",
        "# Returns a DataFrame containing all parsed documents.\n",
        "\n",
        "\n",
        "def parse_docs_from_file(file_path):\n",
        "    with open(file_path, 'r', encoding='utf-8', errors='ignore') as f:\n",
        "        content = f.read()\n",
        "    docs = re.findall(r'<DOC>(.*?)</DOC>', content, re.DOTALL)\n",
        "    parsed_docs = []\n",
        "\n",
        "    for doc in docs:\n",
        "        def extract(tag):\n",
        "            pattern = f\"<{tag}>(.*?)</{tag}>\"\n",
        "            match = re.search(pattern, doc, re.DOTALL)\n",
        "            return match.group(1).strip() if match else None\n",
        "\n",
        "        parsed_docs.append({\n",
        "            \"docno\": extract(\"DOCNO\"),\n",
        "            \"fileid\": extract(\"FILEID\"),\n",
        "            \"line1\": extract(\"1ST_LINE\"),\n",
        "            \"line2\": extract(\"2ND_LINE\"),\n",
        "            \"head\": extract(\"HEAD\"),\n",
        "            \"dateline\": extract(\"DATELINE\"),\n",
        "            \"text\": extract(\"TEXT\")\n",
        "        })\n",
        "\n",
        "    return parsed_docs\n",
        "\n",
        "def parse_all_docs_from_folder(folder_path):\n",
        "    all_docs = []\n",
        "    for root, dirs, files in os.walk(folder_path):\n",
        "        for filename in files:\n",
        "            file_path = os.path.join(root, filename)\n",
        "            all_docs.extend(parse_docs_from_file(file_path))\n",
        "    return pd.DataFrame(all_docs)"
      ],
      "metadata": {
        "id": "iNzHZtyMUkJX"
      },
      "execution_count": null,
      "outputs": []
    },
    {
      "cell_type": "code",
      "source": [
        "# Loads and parses all documents from the specified folder.\n",
        "# Keeps only 'docno' and 'text' columns and drops rows with missing values.\n",
        "# Prints the total number of documents.\n",
        "\n",
        "folder_path = \"/content/drive/MyDrive/AssociatedPressDataset/AP_collection/coll\"\n",
        "\n",
        "docs_df = parse_all_docs_from_folder(folder_path)\n",
        "docs_df = docs_df[[\"docno\", \"text\"]].dropna()\n",
        "\n",
        "print(\"Total doc count:\", len(docs_df))"
      ],
      "metadata": {
        "colab": {
          "base_uri": "https://localhost:8080/"
        },
        "id": "T4aqPui3UmaQ",
        "outputId": "4d99dab8-f1ce-4e2c-9c8e-552baa86df92"
      },
      "execution_count": null,
      "outputs": [
        {
          "output_type": "stream",
          "name": "stdout",
          "text": [
            "Total doc count: 79922\n"
          ]
        }
      ]
    },
    {
      "cell_type": "code",
      "source": [
        "# Preprocesses input text by lowercasing, removing punctuation, extra spaces, and stop words.\n",
        "\n",
        "def preprocess(text):\n",
        "    text = text.lower()\n",
        "    text = re.sub(r\"[^\\w\\s]\", \" \", text)\n",
        "    text = re.sub(r\"\\s+\", \" \", text).strip()\n",
        "    tokens = text.split()\n",
        "    tokens = [w for w in tokens if w not in ENGLISH_STOP_WORDS]\n",
        "    return \" \".join(tokens)"
      ],
      "metadata": {
        "id": "KhhlMtTglxAV"
      },
      "execution_count": null,
      "outputs": []
    },
    {
      "cell_type": "code",
      "source": [
        "# Applies text preprocessing to all documents in the 'text' column.\n",
        "\n",
        "docs_df[\"text\"] = docs_df[\"text\"].apply(preprocess)"
      ],
      "metadata": {
        "id": "D17lIdUhRJOW"
      },
      "execution_count": null,
      "outputs": []
    },
    {
      "cell_type": "code",
      "source": [
        "# Indexes documents with PyTerrier\n",
        "\n",
        "indexer = pt.IterDictIndexer(\"./pt_index_text_only\")\n",
        "\n",
        "index_ref = indexer.index((row for _, row in docs_df.iterrows()))\n",
        "index = pt.IndexFactory.of(index_ref)\n",
        "\n",
        "print(\"✔️ PyTerrier index created:\", index)"
      ],
      "metadata": {
        "id": "YNhWyl6Zh4Mh",
        "colab": {
          "base_uri": "https://localhost:8080/"
        },
        "outputId": "c384545f-1756-452c-eee2-6e8069cec987"
      },
      "execution_count": null,
      "outputs": [
        {
          "output_type": "stream",
          "name": "stdout",
          "text": [
            "11:32:44.082 [ForkJoinPool-1-worker-3] WARN org.terrier.structures.indexing.Indexer -- Adding an empty document to the index (AP880217-0185) - further warnings are suppressed\n",
            "11:33:52.093 [ForkJoinPool-1-worker-3] WARN org.terrier.structures.indexing.Indexer -- Indexed 210 empty documents\n",
            "✔️ PyTerrier index created: <org.terrier.structures.Index at 0x7ab7e40f3830 jclass=org/terrier/structures/Index jself=<LocalRef obj=0x17a69ec8 at 0x7ab813a278d0>>\n"
          ]
        }
      ]
    },
    {
      "cell_type": "code",
      "source": [
        "# Indexes documents with PyTerrier only if the index does not already exist.\n",
        "\n",
        "if not os.path.exists(\"/content/drive/MyDrive/models/pt_index_text_only\"):\n",
        "    print(\"Index not found, creating new index...\")\n",
        "    indexer = pt.IterDictIndexer(\"/content/drive/MyDrive/models/pt_index_text_only\")\n",
        "    index_ref = indexer.index((row for _, row in docs_df.iterrows()))\n",
        "    index = pt.IndexFactory.of(index_ref)\n",
        "else:\n",
        "    print(\"Index exists, loading...\")\n",
        "    index = pt.IndexFactory.of(\"/content/drive/MyDrive/models/pt_index_text_only\")\n",
        "\n",
        "print(\"✔️ PyTerrier index created:\", index)"
      ],
      "metadata": {
        "colab": {
          "base_uri": "https://localhost:8080/"
        },
        "id": "iyPz2866kSkU",
        "outputId": "7fdf64de-f0be-4a31-f2e5-de9cc9143d72"
      },
      "execution_count": null,
      "outputs": [
        {
          "output_type": "stream",
          "name": "stdout",
          "text": [
            "Index exists, loading...\n",
            "✔️ PyTerrier index created: <org.terrier.structures.Index at 0x79045814e090 jclass=org/terrier/structures/Index jself=<LocalRef obj=0x114b1bd0 at 0x790409695010>>\n"
          ]
        }
      ]
    },
    {
      "cell_type": "code",
      "source": [
        "# This code iterates over the lexicon of an index object, retrieving each term and its associated LexiconEntry.\n",
        "# For each of the first 10 terms, it prints the term itself and the total frequency of the term across the entire collection.\n",
        "# The loop stops after processing 10 terms to avoid printing the entire lexicon.\n",
        "\n",
        "count = 0\n",
        "for term, le in index.getLexicon():\n",
        "    print(term)\n",
        "    print(le.getFrequency())\n",
        "    count += 1\n",
        "    if count == 10:\n",
        "        break"
      ],
      "metadata": {
        "id": "KOa7s6TS5t_b"
      },
      "execution_count": null,
      "outputs": []
    },
    {
      "cell_type": "code",
      "source": [
        "# This code retrieves and prints the terms and their frequencies for a specific document (docid = 10) using the direct index in a Terrier-based IR system.\n",
        "# It first gets the DirectIndex, DocumentIndex, and Lexicon from the index.\n",
        "# Then, it fetches the postings list for the document with docid 10.\n",
        "# For each posting (i.e., term occurrence) in the document, it retrieves the corresponding term ID, looks up the term in the lexicon using that ID, and prints the term along with its frequency in the document.\n",
        "\n",
        "di = index.getDirectIndex()\n",
        "doi = index.getDocumentIndex()\n",
        "lex = index.getLexicon()\n",
        "docid = 10 #docids are 0-based\n",
        "#NB: postings will be null if the document is empty\n",
        "for posting in di.getPostings(doi.getDocumentEntry(docid)):\n",
        "    termid = posting.getId()\n",
        "    lee = lex.getLexiconEntry(termid)\n",
        "    print(\"%s with frequency %d\" % (lee.getKey(),posting.getFrequency()))"
      ],
      "metadata": {
        "id": "ckJltjME7cYs"
      },
      "execution_count": null,
      "outputs": []
    },
    {
      "cell_type": "code",
      "source": [
        "# This code retrieves and prints the document numbers (docnos) where the term \"parti\" appears, along with its frequency in each document.\n",
        "# It uses the Lexicon to get the LexiconEntry for the term \"parti\", which serves as a pointer to access the inverted index postings.\n",
        "# For each posting (i.e., document where the term appears), it gets the document ID, converts it to a human-readable docno using the MetaIndex, and prints the docno and term frequency.\n",
        "\n",
        "\n",
        "meta = index.getMetaIndex()\n",
        "inv = index.getInvertedIndex()\n",
        "\n",
        "le = lex.getLexiconEntry( \"parti\" )\n",
        "# the lexicon entry is also our pointer to access the inverted index posting list\n",
        "for posting in inv.getPostings( le ):\n",
        "    docno = meta.getItem(\"docno\", posting.getId())\n",
        "    print(\"%s with frequency %d \" % (docno, posting.getFrequency()))"
      ],
      "metadata": {
        "id": "4kqwkOdw7oeO"
      },
      "execution_count": null,
      "outputs": []
    },
    {
      "cell_type": "code",
      "source": [
        "stats = index.getCollectionStatistics()\n",
        "print(\"Number of Docs:\", stats.getNumberOfDocuments())\n",
        "print(\"Number of Tokens:\", stats.getNumberOfTokens())\n",
        "print(\"Number of Unique Terms:\", stats.getNumberOfUniqueTerms())\n"
      ],
      "metadata": {
        "colab": {
          "base_uri": "https://localhost:8080/"
        },
        "id": "1cBnAn0S0mI1",
        "outputId": "b087ca4a-3242-409d-909c-e32e5ad4d4ee"
      },
      "execution_count": null,
      "outputs": [
        {
          "output_type": "stream",
          "name": "stdout",
          "text": [
            "Number of Docs: 79922\n",
            "Number of Tokens: 17543101\n",
            "Number of Unique Terms: 123306\n"
          ]
        }
      ]
    },
    {
      "cell_type": "code",
      "source": [
        "# Cleans multi-line text by removing extra whitespace and joining into a single line.\n",
        "\n",
        "def clean_multiline(text):\n",
        "    return \" \".join(text.split()).strip()"
      ],
      "metadata": {
        "id": "gJE2UmZJ8bmF"
      },
      "execution_count": null,
      "outputs": []
    },
    {
      "cell_type": "code",
      "source": [
        "# Parses queries from a TREC-style .docx file and combines <title> and <desc> fields into a single query.\n",
        "\n",
        "def parse_queries_title_desc(docx_path):\n",
        "    document = Document(docx_path)\n",
        "    full_text = \"\\n\".join([p.text for p in document.paragraphs])\n",
        "    blocks = re.findall(r\"<top>(.*?)</top>\", full_text, re.DOTALL)\n",
        "\n",
        "    parsed_queries = []\n",
        "    for block in blocks:\n",
        "        num_match = re.search(r\"<num>\\s*(\\d+)\", block)\n",
        "        title_match = re.search(r\"<title>\\s*(.+)\", block)\n",
        "        desc_match = re.search(r\"<desc>\\s*(.+?)(?=\\n<narr>|$)\", block, re.DOTALL)\n",
        "\n",
        "        if num_match and title_match and desc_match:\n",
        "            qid = num_match.group(1).strip()\n",
        "            title = clean_multiline(title_match.group(1))\n",
        "            desc = clean_multiline(desc_match.group(1)) if desc_match else \"\"\n",
        "            combined_query = title + \" \" + desc\n",
        "            parsed_queries.append({\"qid\": qid, \"query\": combined_query})\n",
        "\n",
        "    return pd.DataFrame(parsed_queries)"
      ],
      "metadata": {
        "id": "emeaZhLm47wJ"
      },
      "execution_count": null,
      "outputs": []
    },
    {
      "cell_type": "code",
      "source": [
        "# Parses queries from a TREC-style .docx file using only the <title> field.\n",
        "\n",
        "def parse_queries_title(docx_path):\n",
        "    document = Document(docx_path)\n",
        "    full_text = \"\\n\".join([p.text for p in document.paragraphs])\n",
        "    blocks = re.findall(r\"<top>(.*?)</top>\", full_text, re.DOTALL)\n",
        "\n",
        "    parsed_queries = []\n",
        "    for block in blocks:\n",
        "        num_match = re.search(r\"<num>\\s*(\\d+)\", block)\n",
        "        title_match = re.search(r\"<title>\\s*(.+)\", block)\n",
        "\n",
        "        if num_match and title_match:\n",
        "            qid = num_match.group(1).strip()\n",
        "            title = clean_multiline(title_match.group(1))\n",
        "            parsed_queries.append({\"qid\": qid, \"query\": title})\n",
        "            #print(f\"[{qid}] {combined_query}\")\n",
        "\n",
        "    return pd.DataFrame(parsed_queries)"
      ],
      "metadata": {
        "id": "mvQ6V4vLRPz5"
      },
      "execution_count": null,
      "outputs": []
    },
    {
      "cell_type": "code",
      "source": [
        "# Sets Pandas display options for better visibility, then parses queries with and without descriptions from a .docx file.\n",
        "\n",
        "pd.set_option('display.max_colwidth', None)\n",
        "pd.set_option('display.width', 300)\n",
        "pd.set_option('display.max_rows', None)\n",
        "\n",
        "\n",
        "queries_df_desc = parse_queries_title_desc(\"/content/drive/MyDrive/AssociatedPressDataset/topics1-50.docx\")\n",
        "queries_df_only_title = parse_queries_title(\"/content/drive/MyDrive/AssociatedPressDataset/topics1-50.docx\")"
      ],
      "metadata": {
        "id": "X9hk2i1O5PkQ"
      },
      "execution_count": null,
      "outputs": []
    },
    {
      "cell_type": "code",
      "source": [
        "# Applies text preprocessing to queries (with and without descriptions).\n",
        "\n",
        "queries_df_desc[\"query\"] = queries_df_desc[\"query\"].apply(preprocess)\n",
        "queries_df_only_title[\"query\"] = queries_df_only_title[\"query\"].apply(preprocess)"
      ],
      "metadata": {
        "id": "dphi7cCRBXSH"
      },
      "execution_count": null,
      "outputs": []
    },
    {
      "cell_type": "code",
      "source": [
        "# Initializes a BM25 retriever to fetch the top 100 documents for each query using the built index.\n",
        "\n",
        "bm25 = pt.BatchRetrieve(index, wmodel=\"BM25\", num_results=100)\n"
      ],
      "metadata": {
        "id": "0-4K-S3Y-Dw-",
        "colab": {
          "base_uri": "https://localhost:8080/"
        },
        "outputId": "2f8b70b2-af3f-4820-b75e-f57b26860eaa"
      },
      "execution_count": null,
      "outputs": [
        {
          "output_type": "stream",
          "name": "stderr",
          "text": [
            "<ipython-input-16-1487413764>:3: DeprecationWarning: Call to deprecated class BatchRetrieve. (use pt.terrier.Retriever() instead) -- Deprecated since version 0.11.0.\n",
            "  bm25 = pt.BatchRetrieve(index, wmodel=\"BM25\", num_results=100)\n"
          ]
        }
      ]
    },
    {
      "cell_type": "code",
      "source": [
        "# Parses relevance judgments (qrels) from a .docx file into a DataFrame.\n",
        "\n",
        "def parse_qrels_from_docx(docx_path):\n",
        "    doc = Document(docx_path)\n",
        "    lines = [p.text.strip() for p in doc.paragraphs if re.match(r'^\\d+ +0 +AP.*? +[01]$', p.text.strip())]\n",
        "\n",
        "    parsed = []\n",
        "    for line in lines:\n",
        "        parts = line.split()\n",
        "        if len(parts) == 4:\n",
        "            qid, iter_, docno, rel = parts\n",
        "            parsed.append({\n",
        "                \"qid\": str(qid),\n",
        "                \"docno\": docno,\n",
        "                \"relevance\": int(rel)\n",
        "            })\n",
        "    return pd.DataFrame(parsed)"
      ],
      "metadata": {
        "id": "PRWTPUkEFIm2"
      },
      "execution_count": null,
      "outputs": []
    },
    {
      "cell_type": "code",
      "source": [
        "# Parses qrels from the .docx file (249 pages: 44 entries per page, 25 on the last page) and prints the total number of relevance judgments.\n",
        "\n",
        "qrels = parse_qrels_from_docx(\"/content/drive/MyDrive/AssociatedPressDataset/qrels1-50ap.docx\")\n",
        "\n",
        "print(len(qrels))"
      ],
      "metadata": {
        "colab": {
          "base_uri": "https://localhost:8080/"
        },
        "id": "wbE-dpP8RCei",
        "outputId": "e319dc06-9f86-46b7-b772-aaadd2273307"
      },
      "execution_count": null,
      "outputs": [
        {
          "output_type": "stream",
          "name": "stdout",
          "text": [
            "10937\n"
          ]
        }
      ]
    },
    {
      "cell_type": "code",
      "source": [
        "#Find best parameters for query with description\n",
        "best_score = 0\n",
        "best_config = None\n",
        "\n",
        "for k1 in [0.6, 0.9, 1.2, 1.5]:\n",
        "    for b in [0.3, 0.5, 0.75, 0.9]:\n",
        "        print(f\"Testing k1={k1}, b={b}\")\n",
        "        bm25_tuned = pt.BatchRetrieve(index, wmodel=\"BM25\", num_results=100,\n",
        "                                      controls={\"bm25.k_1\": str(k1), \"bm25.b\": str(b)})\n",
        "\n",
        "        result = pt.Experiment(\n",
        "            [bm25_tuned],\n",
        "            queries_df_desc,\n",
        "            qrels,\n",
        "            eval_metrics=[\"map\"],\n",
        "            names=[f\"k1={k1}, b={b}\"]\n",
        "        )\n",
        "\n",
        "        current_score = result[\"map\"][0]\n",
        "        print(f\"MAP = {current_score:.4f}\")\n",
        "\n",
        "        if current_score > best_score:\n",
        "            best_score = current_score\n",
        "            best_config = (k1, b)\n",
        "\n",
        "print(f\"\\nBest config: k1={best_config[0]}, b={best_config[1]} with MAP = {best_score:.4f}\")\n",
        "#best k=1.5 and b=0.5"
      ],
      "metadata": {
        "id": "Z1EZxEoaRuy6"
      },
      "execution_count": null,
      "outputs": []
    },
    {
      "cell_type": "code",
      "source": [
        "#Find best parameters for query without description\n",
        "best_score = 0\n",
        "best_config = None\n",
        "\n",
        "for k1 in [0.6, 0.9, 1.2, 1.5]:\n",
        "    for b in [0.3, 0.5, 0.75, 0.9]:\n",
        "        print(f\"Testing k1={k1}, b={b}\")\n",
        "        bm25_tuned = pt.BatchRetrieve(index, wmodel=\"BM25\", num_results=100,\n",
        "                                      controls={\"bm25.k_1\": str(k1), \"bm25.b\": str(b)})\n",
        "\n",
        "        result = pt.Experiment(\n",
        "            [bm25_tuned],\n",
        "            queries_df_only_title,\n",
        "            qrels,\n",
        "            eval_metrics=[\"map\"],\n",
        "            names=[f\"k1={k1}, b={b}\"]\n",
        "        )\n",
        "\n",
        "        current_score = result[\"map\"][0]\n",
        "        print(f\"MAP = {current_score:.4f}\")\n",
        "\n",
        "        if current_score > best_score:\n",
        "            best_score = current_score\n",
        "            best_config = (k1, b)\n",
        "\n",
        "print(f\"\\nBest config: k1={best_config[0]}, b={best_config[1]} with MAP = {best_score:.4f}\")\n",
        "#best k=1.5 and b=0.3"
      ],
      "metadata": {
        "id": "Cm75xn8cRu6I"
      },
      "execution_count": null,
      "outputs": []
    },
    {
      "cell_type": "code",
      "source": [
        "# Initializes a BM25 retriever for desc (with best parameters) to retrieve top 100 documents per query using the index\n",
        "\n",
        "bm25_best_for_with_desc = pt.BatchRetrieve(index, wmodel=\"BM25\", num_results=100, controls={\"bm25.k_1\": \"1.5\", \"bm25.b\": \"0.5\"})"
      ],
      "metadata": {
        "id": "S5PERaejR0hr",
        "colab": {
          "base_uri": "https://localhost:8080/"
        },
        "outputId": "1426b761-c5fe-45e1-ef97-aa65d59c69bf"
      },
      "execution_count": null,
      "outputs": [
        {
          "output_type": "stream",
          "name": "stderr",
          "text": [
            "<ipython-input-19-1883712354>:3: DeprecationWarning: Call to deprecated class BatchRetrieve. (use pt.terrier.Retriever() instead) -- Deprecated since version 0.11.0.\n",
            "  bm25_best_for_with_desc = pt.BatchRetrieve(index, wmodel=\"BM25\", num_results=100, controls={\"bm25.k_1\": \"1.5\", \"bm25.b\": \"0.5\"})\n"
          ]
        }
      ]
    },
    {
      "cell_type": "code",
      "source": [
        "# Initializes a BM25 retriever for only title (with best parameters) to retrieve top 100 documents per query using the index\n",
        "\n",
        "bm25_best_for_only_title = pt.BatchRetrieve(index, wmodel=\"BM25\", num_results=100, controls={\"bm25.k_1\": \"1.5\", \"bm25.b\": \"0.3\"})"
      ],
      "metadata": {
        "id": "c6AJWpY4R0ls",
        "colab": {
          "base_uri": "https://localhost:8080/"
        },
        "outputId": "ef0712a8-74ed-48aa-d638-e6f64204393b"
      },
      "execution_count": null,
      "outputs": [
        {
          "output_type": "stream",
          "name": "stderr",
          "text": [
            "<ipython-input-20-57372737>:3: DeprecationWarning: Call to deprecated class BatchRetrieve. (use pt.terrier.Retriever() instead) -- Deprecated since version 0.11.0.\n",
            "  bm25_best_for_only_title = pt.BatchRetrieve(index, wmodel=\"BM25\", num_results=100, controls={\"bm25.k_1\": \"1.5\", \"bm25.b\": \"0.3\"})\n"
          ]
        }
      ]
    },
    {
      "cell_type": "code",
      "source": [
        "# Evaluates the BM25 retriever (with title + description queries) using qrels and standard IR metrics.\n",
        "\n",
        "\n",
        "eval = pt.Experiment(\n",
        "    [bm25],\n",
        "    topics=queries_df_desc,\n",
        "    qrels=qrels,\n",
        "    eval_metrics=[\"map\", \"P.10\", \"recall.100\", \"ndcg\"],\n",
        "    names=[\"BM25\"]\n",
        ")\n",
        "\n",
        "print(eval)"
      ],
      "metadata": {
        "colab": {
          "base_uri": "https://localhost:8080/"
        },
        "id": "9jng2DhqR3Vw",
        "outputId": "23193d98-bb4d-4a59-b4d7-ab50f286c8b2"
      },
      "execution_count": null,
      "outputs": [
        {
          "output_type": "stream",
          "name": "stdout",
          "text": [
            "   name       map   P.10  recall.100      ndcg\n",
            "0  BM25  0.295927  0.452    0.608792  0.504574\n"
          ]
        }
      ]
    },
    {
      "cell_type": "code",
      "source": [
        "# Evaluates the tuned BM25 retriever (with title + description queries) using qrels and standard IR metrics.\n",
        "\n",
        "\n",
        "eval = pt.Experiment(\n",
        "    [bm25_best_for_with_desc],\n",
        "    topics=queries_df_desc,\n",
        "    qrels=qrels,\n",
        "    eval_metrics=[\"map\", \"P.10\", \"recall.100\", \"ndcg\"],\n",
        "    names=[\"BM25\"]\n",
        ")\n",
        "\n",
        "print(eval)"
      ],
      "metadata": {
        "id": "ZSxgKqk6R6rT",
        "colab": {
          "base_uri": "https://localhost:8080/"
        },
        "outputId": "512b8571-79f8-4794-c731-c0b704fc4dde"
      },
      "execution_count": null,
      "outputs": [
        {
          "output_type": "stream",
          "name": "stdout",
          "text": [
            "   name       map   P.10  recall.100      ndcg\n",
            "0  BM25  0.301375  0.456    0.613607  0.508126\n"
          ]
        }
      ]
    },
    {
      "cell_type": "code",
      "source": [
        "# Evaluates the BM25 retriever (only title queries) using qrels and standard IR metrics.\n",
        "\n",
        "eval = pt.Experiment(\n",
        "    [bm25],\n",
        "    topics=queries_df_only_title,      # qid + query içeren DF\n",
        "    qrels=qrels,            # qid + docno + relevance\n",
        "    eval_metrics=[\"map\", \"P.10\", \"recall.100\", \"ndcg\"],\n",
        "    names=[\"BM25\"]\n",
        ")\n",
        "\n",
        "print(eval)"
      ],
      "metadata": {
        "id": "_H1D-ApzR61t",
        "colab": {
          "base_uri": "https://localhost:8080/"
        },
        "outputId": "61959798-b69a-40f3-cb6b-d1cb85cb42e5"
      },
      "execution_count": null,
      "outputs": [
        {
          "output_type": "stream",
          "name": "stdout",
          "text": [
            "   name       map   P.10  recall.100      ndcg\n",
            "0  BM25  0.250704  0.396    0.525112  0.434295\n"
          ]
        }
      ]
    },
    {
      "cell_type": "code",
      "source": [
        "# Evaluates the tuned BM25 retriever (only title queries) using qrels and standard IR metrics.\n",
        "\n",
        "eval = pt.Experiment(\n",
        "    [bm25_best_for_only_title],\n",
        "    topics=queries_df_only_title,      # qid + query içeren DF\n",
        "    qrels=qrels,            # qid + docno + relevance\n",
        "    eval_metrics=[\"map\", \"P.10\", \"recall.100\", \"ndcg\"],\n",
        "    names=[\"BM25\"]\n",
        ")\n",
        "\n",
        "print(eval)"
      ],
      "metadata": {
        "id": "3AfGJgYER68i",
        "colab": {
          "base_uri": "https://localhost:8080/"
        },
        "outputId": "c3e6918f-2b92-4a32-e8d1-6fb367e64a89"
      },
      "execution_count": null,
      "outputs": [
        {
          "output_type": "stream",
          "name": "stdout",
          "text": [
            "   name      map  P.10  recall.100      ndcg\n",
            "0  BM25  0.26011  0.41    0.539969  0.446874\n"
          ]
        }
      ]
    },
    {
      "cell_type": "code",
      "source": [
        "# Prints the top 10 retrieved documents for a given query ID index from the result DataFrame.\n",
        "\n",
        "def printTopKDoc(qid_index, query):\n",
        "    first_qid = queries_df_only_title.iloc[qid_index][\"qid\"]\n",
        "    first_query_docs = query[\n",
        "        query[\"qid\"] == first_qid\n",
        "    ]\n",
        "    print(f\"🔍 Sorgu ID (qid): {first_qid} — Top 10 Döküman\\n{'='*60}\")\n",
        "    for i, row in first_query_docs.iterrows():\n",
        "        print(f\"\\n📄 Docno: {row['docno']}\")\n",
        "        print(f\"🔎 QID: {row['qid']}\")\n",
        "        print(\"-\" * 60)\n",
        "\n"
      ],
      "metadata": {
        "id": "HvPWMjO6ok4D"
      },
      "execution_count": null,
      "outputs": []
    },
    {
      "cell_type": "code",
      "source": [
        "# For each only-title query, retrieves top-10 documents using both default and tuned BM25, then stores and combines the results into two DataFrames.\n",
        "\n",
        "default_all_top10_docs_only_title = []\n",
        "tuned_all_top10_docs_only_title = []\n",
        "\n",
        "for i, row in queries_df_only_title.iterrows():\n",
        "    qid = row[\"qid\"]\n",
        "    query_text = row[\"query\"]\n",
        "\n",
        "    # Creates a single-row DataFrame with 'qid' and 'query' columns for use with PyTerrier.\n",
        "    query_df = pd.DataFrame([{\"qid\": qid, \"query\": query_text}])\n",
        "\n",
        "    # Rank documents using BM25\n",
        "    default_results = bm25.transform(query_df)\n",
        "    tuned_results = bm25_best_for_only_title.transform(query_df)\n",
        "\n",
        "    # Get the docno of the top 10 retrieved documents\n",
        "    default_top_docnos = default_results.head(10)[\"docno\"].tolist()\n",
        "    tuned_top_docnos = tuned_results.head(10)[\"docno\"].tolist()\n",
        "\n",
        "    # Retrieve the documents from `docs_df` that match the selected docnos\n",
        "    default_top_docs_df = docs_df[docs_df[\"docno\"].isin(default_top_docnos)].copy()\n",
        "    tuned_top_docs_df = docs_df[docs_df[\"docno\"].isin(tuned_top_docnos)].copy()\n",
        "\n",
        "    # Assign the corresponding query ID to each retrieved document\n",
        "    default_top_docs_df[\"qid\"] = qid\n",
        "    tuned_top_docs_df[\"qid\"] = qid\n",
        "\n",
        "    # Append the results to the list\n",
        "    default_all_top10_docs_only_title.append(default_top_docs_df)\n",
        "    tuned_all_top10_docs_only_title.append(tuned_top_docs_df)\n",
        "\n",
        "# Combine the top-10 results of all queries (e.g., 50 queries × 10 docs = 500 rows)\n",
        "default_top10_df_all_queries_only_title = pd.concat(default_all_top10_docs_only_title, ignore_index=True)\n",
        "tuned_top10_df_all_queries_only_title = pd.concat(tuned_all_top10_docs_only_title, ignore_index=True)\n",
        "\n"
      ],
      "metadata": {
        "id": "kfh_gdeLlqXs"
      },
      "execution_count": null,
      "outputs": []
    },
    {
      "cell_type": "code",
      "source": [
        "# Prints the top 10 retrieved documents for the first query using both default and tuned BM25.\n",
        "\n",
        "printTopKDoc(0,default_top10_df_all_queries_only_title)\n",
        "print(\"-\" * 100)\n",
        "printTopKDoc(0,tuned_top10_df_all_queries_only_title)"
      ],
      "metadata": {
        "id": "mTZY2vUkq3-r",
        "colab": {
          "base_uri": "https://localhost:8080/"
        },
        "outputId": "05d4b49f-6554-4943-d277-b6f688c1fe3d"
      },
      "execution_count": null,
      "outputs": [
        {
          "output_type": "stream",
          "name": "stdout",
          "text": [
            "🔍 Sorgu ID (qid): 1 — Top 10 Döküman\n",
            "============================================================\n",
            "\n",
            "📄 Docno: AP880310-0051\n",
            "🔎 QID: 1\n",
            "------------------------------------------------------------\n",
            "\n",
            "📄 Docno: AP880519-0231\n",
            "🔎 QID: 1\n",
            "------------------------------------------------------------\n",
            "\n",
            "📄 Docno: AP880921-0032\n",
            "🔎 QID: 1\n",
            "------------------------------------------------------------\n",
            "\n",
            "📄 Docno: AP880825-0054\n",
            "🔎 QID: 1\n",
            "------------------------------------------------------------\n",
            "\n",
            "📄 Docno: AP881005-0001\n",
            "🔎 QID: 1\n",
            "------------------------------------------------------------\n",
            "\n",
            "📄 Docno: AP881021-0218\n",
            "🔎 QID: 1\n",
            "------------------------------------------------------------\n",
            "\n",
            "📄 Docno: AP881108-0076\n",
            "🔎 QID: 1\n",
            "------------------------------------------------------------\n",
            "\n",
            "📄 Docno: AP881002-0014\n",
            "🔎 QID: 1\n",
            "------------------------------------------------------------\n",
            "\n",
            "📄 Docno: AP881223-0053\n",
            "🔎 QID: 1\n",
            "------------------------------------------------------------\n",
            "\n",
            "📄 Docno: AP881225-0044\n",
            "🔎 QID: 1\n",
            "------------------------------------------------------------\n",
            "----------------------------------------------------------------------------------------------------\n",
            "🔍 Sorgu ID (qid): 1 — Top 10 Döküman\n",
            "============================================================\n",
            "\n",
            "📄 Docno: AP880926-0180\n",
            "🔎 QID: 1\n",
            "------------------------------------------------------------\n",
            "\n",
            "📄 Docno: AP880815-0061\n",
            "🔎 QID: 1\n",
            "------------------------------------------------------------\n",
            "\n",
            "📄 Docno: AP880921-0032\n",
            "🔎 QID: 1\n",
            "------------------------------------------------------------\n",
            "\n",
            "📄 Docno: AP880825-0054\n",
            "🔎 QID: 1\n",
            "------------------------------------------------------------\n",
            "\n",
            "📄 Docno: AP881005-0001\n",
            "🔎 QID: 1\n",
            "------------------------------------------------------------\n",
            "\n",
            "📄 Docno: AP881021-0218\n",
            "🔎 QID: 1\n",
            "------------------------------------------------------------\n",
            "\n",
            "📄 Docno: AP881108-0076\n",
            "🔎 QID: 1\n",
            "------------------------------------------------------------\n",
            "\n",
            "📄 Docno: AP881002-0014\n",
            "🔎 QID: 1\n",
            "------------------------------------------------------------\n",
            "\n",
            "📄 Docno: AP881223-0053\n",
            "🔎 QID: 1\n",
            "------------------------------------------------------------\n",
            "\n",
            "📄 Docno: AP881225-0044\n",
            "🔎 QID: 1\n",
            "------------------------------------------------------------\n"
          ]
        }
      ]
    },
    {
      "cell_type": "code",
      "source": [
        "# For each query with title + description, retrieves top-10 documents using both default and tuned BM25, then stores and combines the results into two DataFrames.\n",
        "\n",
        "default_all_top10_docs_with_desc = []\n",
        "tuned_all_top10_docs_with_desc = []\n",
        "\n",
        "for i, row in queries_df_desc.iterrows():\n",
        "    qid = row[\"qid\"]\n",
        "    query_text = row[\"query\"]\n",
        "\n",
        "    # Creates a single-row DataFrame with 'qid' and 'query' columns for use with PyTerrier.\n",
        "    query_df = pd.DataFrame([{\"qid\": qid, \"query\": query_text}])\n",
        "\n",
        "    # Rank documents using BM25\n",
        "    default_results = bm25.transform(query_df)\n",
        "    tuned_results = bm25_best_for_with_desc.transform(query_df)\n",
        "\n",
        "    # Get the docno of the top 10 retrieved documents\n",
        "    default_top_docnos = default_results.head(10)[\"docno\"].tolist()\n",
        "    tuned_top_docnos = tuned_results.head(10)[\"docno\"].tolist()\n",
        "\n",
        "    # Retrieve the documents from `docs_df` that match the selected docnos\n",
        "    default_top_docs_df = docs_df[docs_df[\"docno\"].isin(default_top_docnos)].copy()\n",
        "    tuned_top_docs_df = docs_df[docs_df[\"docno\"].isin(tuned_top_docnos)].copy()\n",
        "\n",
        "    # Assign the corresponding query ID to each retrieved document\n",
        "    default_top_docs_df[\"qid\"] = qid\n",
        "    tuned_top_docs_df[\"qid\"] = qid\n",
        "\n",
        "    # Append the results to the list\n",
        "    default_all_top10_docs_with_desc.append(default_top_docs_df)\n",
        "    tuned_all_top10_docs_with_desc.append(tuned_top_docs_df)\n",
        "\n",
        "# Combine the top-10 results of all queries (e.g., 50 queries × 10 docs = 500 rows)\n",
        "default_top10_df_all_queries_with_desc = pd.concat(default_all_top10_docs_with_desc, ignore_index=True)\n",
        "tuned_top10_df_all_queries_with_desc = pd.concat(tuned_all_top10_docs_with_desc, ignore_index=True)"
      ],
      "metadata": {
        "id": "GYklMcbprpBw"
      },
      "execution_count": null,
      "outputs": []
    },
    {
      "cell_type": "code",
      "source": [
        "# Prints the top 10 retrieved documents for the first query using both default and tuned BM25.\n",
        "\n",
        "printTopKDoc(0,default_top10_df_all_queries_with_desc)\n",
        "print(\"-\" * 100)\n",
        "printTopKDoc(0,tuned_top10_df_all_queries_with_desc)"
      ],
      "metadata": {
        "id": "J11A823HslwC",
        "colab": {
          "base_uri": "https://localhost:8080/"
        },
        "outputId": "c264e797-1428-4836-c746-7bd923005d5e"
      },
      "execution_count": null,
      "outputs": [
        {
          "output_type": "stream",
          "name": "stdout",
          "text": [
            "🔍 Sorgu ID (qid): 1 — Top 10 Döküman\n",
            "============================================================\n",
            "\n",
            "📄 Docno: AP880726-0173\n",
            "🔎 QID: 1\n",
            "------------------------------------------------------------\n",
            "\n",
            "📄 Docno: AP880814-0089\n",
            "🔎 QID: 1\n",
            "------------------------------------------------------------\n",
            "\n",
            "📄 Docno: AP880815-0061\n",
            "🔎 QID: 1\n",
            "------------------------------------------------------------\n",
            "\n",
            "📄 Docno: AP880825-0054\n",
            "🔎 QID: 1\n",
            "------------------------------------------------------------\n",
            "\n",
            "📄 Docno: AP881005-0001\n",
            "🔎 QID: 1\n",
            "------------------------------------------------------------\n",
            "\n",
            "📄 Docno: AP881206-0124\n",
            "🔎 QID: 1\n",
            "------------------------------------------------------------\n",
            "\n",
            "📄 Docno: AP881108-0076\n",
            "🔎 QID: 1\n",
            "------------------------------------------------------------\n",
            "\n",
            "📄 Docno: AP881002-0014\n",
            "🔎 QID: 1\n",
            "------------------------------------------------------------\n",
            "\n",
            "📄 Docno: AP881223-0053\n",
            "🔎 QID: 1\n",
            "------------------------------------------------------------\n",
            "\n",
            "📄 Docno: AP881225-0044\n",
            "🔎 QID: 1\n",
            "------------------------------------------------------------\n",
            "----------------------------------------------------------------------------------------------------\n",
            "🔍 Sorgu ID (qid): 1 — Top 10 Döküman\n",
            "============================================================\n",
            "\n",
            "📄 Docno: AP880726-0173\n",
            "🔎 QID: 1\n",
            "------------------------------------------------------------\n",
            "\n",
            "📄 Docno: AP880814-0089\n",
            "🔎 QID: 1\n",
            "------------------------------------------------------------\n",
            "\n",
            "📄 Docno: AP880815-0061\n",
            "🔎 QID: 1\n",
            "------------------------------------------------------------\n",
            "\n",
            "📄 Docno: AP880825-0054\n",
            "🔎 QID: 1\n",
            "------------------------------------------------------------\n",
            "\n",
            "📄 Docno: AP881005-0001\n",
            "🔎 QID: 1\n",
            "------------------------------------------------------------\n",
            "\n",
            "📄 Docno: AP881206-0124\n",
            "🔎 QID: 1\n",
            "------------------------------------------------------------\n",
            "\n",
            "📄 Docno: AP881108-0076\n",
            "🔎 QID: 1\n",
            "------------------------------------------------------------\n",
            "\n",
            "📄 Docno: AP881002-0014\n",
            "🔎 QID: 1\n",
            "------------------------------------------------------------\n",
            "\n",
            "📄 Docno: AP881223-0053\n",
            "🔎 QID: 1\n",
            "------------------------------------------------------------\n",
            "\n",
            "📄 Docno: AP881225-0044\n",
            "🔎 QID: 1\n",
            "------------------------------------------------------------\n"
          ]
        }
      ]
    },
    {
      "cell_type": "code",
      "source": [
        "# optional\n",
        "# Install required NLP libraries if not exists in directoy: SentenceTransformers and spaCy\n",
        "\n",
        "!pip install -q sentence-transformers\n",
        "!pip install -q spacy\n",
        "!python -m spacy download en_core_web_sm"
      ],
      "metadata": {
        "id": "tZUQ3u_P7kDP",
        "colab": {
          "base_uri": "https://localhost:8080/"
        },
        "outputId": "3941da43-0123-480b-e77f-efed10652d5d"
      },
      "execution_count": null,
      "outputs": [
        {
          "output_type": "stream",
          "name": "stdout",
          "text": [
            "\u001b[2K   \u001b[90m━━━━━━━━━━━━━━━━━━━━━━━━━━━━━━━━━━━━━━━━\u001b[0m \u001b[32m363.4/363.4 MB\u001b[0m \u001b[31m4.3 MB/s\u001b[0m eta \u001b[36m0:00:00\u001b[0m\n",
            "\u001b[2K   \u001b[90m━━━━━━━━━━━━━━━━━━━━━━━━━━━━━━━━━━━━━━━━\u001b[0m \u001b[32m13.8/13.8 MB\u001b[0m \u001b[31m50.9 MB/s\u001b[0m eta \u001b[36m0:00:00\u001b[0m\n",
            "\u001b[2K   \u001b[90m━━━━━━━━━━━━━━━━━━━━━━━━━━━━━━━━━━━━━━━━\u001b[0m \u001b[32m24.6/24.6 MB\u001b[0m \u001b[31m30.8 MB/s\u001b[0m eta \u001b[36m0:00:00\u001b[0m\n",
            "\u001b[2K   \u001b[90m━━━━━━━━━━━━━━━━━━━━━━━━━━━━━━━━━━━━━━━━\u001b[0m \u001b[32m883.7/883.7 kB\u001b[0m \u001b[31m25.8 MB/s\u001b[0m eta \u001b[36m0:00:00\u001b[0m\n",
            "\u001b[2K   \u001b[90m━━━━━━━━━━━━━━━━━━━━━━━━━━━━━━━━━━━━━━━━\u001b[0m \u001b[32m664.8/664.8 MB\u001b[0m \u001b[31m2.9 MB/s\u001b[0m eta \u001b[36m0:00:00\u001b[0m\n",
            "\u001b[2K   \u001b[90m━━━━━━━━━━━━━━━━━━━━━━━━━━━━━━━━━━━━━━━━\u001b[0m \u001b[32m211.5/211.5 MB\u001b[0m \u001b[31m6.2 MB/s\u001b[0m eta \u001b[36m0:00:00\u001b[0m\n",
            "\u001b[2K   \u001b[90m━━━━━━━━━━━━━━━━━━━━━━━━━━━━━━━━━━━━━━━━\u001b[0m \u001b[32m56.3/56.3 MB\u001b[0m \u001b[31m13.8 MB/s\u001b[0m eta \u001b[36m0:00:00\u001b[0m\n",
            "\u001b[2K   \u001b[90m━━━━━━━━━━━━━━━━━━━━━━━━━━━━━━━━━━━━━━━━\u001b[0m \u001b[32m127.9/127.9 MB\u001b[0m \u001b[31m7.7 MB/s\u001b[0m eta \u001b[36m0:00:00\u001b[0m\n",
            "\u001b[2K   \u001b[90m━━━━━━━━━━━━━━━━━━━━━━━━━━━━━━━━━━━━━━━━\u001b[0m \u001b[32m207.5/207.5 MB\u001b[0m \u001b[31m6.4 MB/s\u001b[0m eta \u001b[36m0:00:00\u001b[0m\n",
            "\u001b[2K   \u001b[90m━━━━━━━━━━━━━━━━━━━━━━━━━━━━━━━━━━━━━━━━\u001b[0m \u001b[32m21.1/21.1 MB\u001b[0m \u001b[31m61.5 MB/s\u001b[0m eta \u001b[36m0:00:00\u001b[0m\n",
            "\u001b[?25hCollecting en-core-web-sm==3.8.0\n",
            "  Downloading https://github.com/explosion/spacy-models/releases/download/en_core_web_sm-3.8.0/en_core_web_sm-3.8.0-py3-none-any.whl (12.8 MB)\n",
            "\u001b[2K     \u001b[90m━━━━━━━━━━━━━━━━━━━━━━━━━━━━━━━━━━━━━━━━\u001b[0m \u001b[32m12.8/12.8 MB\u001b[0m \u001b[31m93.0 MB/s\u001b[0m eta \u001b[36m0:00:00\u001b[0m\n",
            "\u001b[?25h\u001b[38;5;2m✔ Download and installation successful\u001b[0m\n",
            "You can now load the package via spacy.load('en_core_web_sm')\n",
            "\u001b[38;5;3m⚠ Restart to reload dependencies\u001b[0m\n",
            "If you are in a Jupyter or Colab notebook, you may need to restart Python in\n",
            "order to load all the package's dependencies. You can do this by selecting the\n",
            "'Restart kernel' or 'Restart runtime' option.\n"
          ]
        }
      ]
    },
    {
      "cell_type": "code",
      "source": [
        "# Import libraries for SBERT embeddings (SentenceTransformer, torch) and sentence segmentation (spaCy)\n",
        "\n",
        "import torch\n",
        "\n",
        "from sentence_transformers import SentenceTransformer, util\n",
        "import spacy"
      ],
      "metadata": {
        "id": "4F9Pdrrj9iVM"
      },
      "execution_count": null,
      "outputs": []
    },
    {
      "cell_type": "code",
      "source": [
        "# Load Sbert from previously saved model\n",
        "SBERT_PATH = \"/content/drive/MyDrive/models/sbert_all-MiniLM-L6-v2\"\n",
        "SPACY_PATH = \"/content/drive/MyDrive/models/en_core_web_sm\"\n",
        "\n",
        "# Load or install SBERT model\n",
        "if os.path.exists(SBERT_PATH):\n",
        "    print(\"✅ Loading SBERT model from Drive...\")\n",
        "    sbert_model = SentenceTransformer(SBERT_PATH)\n",
        "else:\n",
        "    print(\"⬇️  SBERT model not found, downloading...\")\n",
        "    %pip install -q sentence-transformers\n",
        "    sbert_model = SentenceTransformer(\"all-MiniLM-L6-v2\")\n",
        "    sbert_model.save(SBERT_PATH)\n",
        "    print(\"✅ SBERT model saved to Drive.\")\n",
        "\n",
        "# Load or install spaCy model\n",
        "if os.path.exists(SPACY_PATH):\n",
        "    print(\"✅ Loading spaCy model from Drive...\")\n",
        "    !cp -r \"$SPACY_PATH\" /usr/local/lib/python3.*/dist-packages/\n",
        "else:\n",
        "    print(\"⬇️  spaCy model not found, downloading...\")\n",
        "    %pip install -q spacy\n",
        "    !python -m spacy download en_core_web_sm\n",
        "    !cp -r /usr/local/lib/python3.*/dist-packages/en_core_web_sm \"$SPACY_PATH\"\n",
        "    print(\"✅ spaCy model saved to Drive.\")\n",
        "\n",
        "# Load the spaCy model\n",
        "nlp = spacy.load(\"en_core_web_sm\")\n",
        "print(\"✅ spaCy model loaded.\")"
      ],
      "metadata": {
        "id": "zj8eZn7ACuyA",
        "colab": {
          "base_uri": "https://localhost:8080/"
        },
        "outputId": "ffcd36e0-3139-4bc9-db25-28e497589e66"
      },
      "execution_count": null,
      "outputs": [
        {
          "output_type": "stream",
          "name": "stdout",
          "text": [
            "✅ Loading SBERT model from Drive...\n",
            "✅ Loading spaCy model from Drive...\n",
            "✅ spaCy model loaded.\n"
          ]
        }
      ]
    },
    {
      "cell_type": "code",
      "source": [
        "# Splits input text into sentences using spaCy's sentence segmentation.\n",
        "\n",
        "def get_sentences_spacy(text):\n",
        "    doc = nlp(text)\n",
        "    return [sent.text.strip() for sent in doc.sents]\n"
      ],
      "metadata": {
        "id": "OO0_0y6a9oxj"
      },
      "execution_count": null,
      "outputs": []
    },
    {
      "cell_type": "code",
      "source": [
        "# Retrieves the top-k most similar sentences to the query from a set of documents using SBERT cosine similarity.\n",
        "\n",
        "def get_top_similar_sentences(query_text, doc_df, top_k=5):\n",
        "    sentences = []\n",
        "\n",
        "    for doc in doc_df[\"text\"]:\n",
        "        doc_sentences = get_sentences_spacy(doc)\n",
        "        sentences.extend(doc_sentences)\n",
        "\n",
        "    if not sentences:\n",
        "        return []\n",
        "\n",
        "    query_embedding = sbert_model.encode(query_text, convert_to_tensor=True)\n",
        "    sentence_embeddings = sbert_model.encode(sentences, convert_to_tensor=True)\n",
        "\n",
        "    cos_scores = util.cos_sim(query_embedding, sentence_embeddings)[0]\n",
        "    top_results = torch.topk(cos_scores, k=min(top_k, len(sentences)))\n",
        "\n",
        "    best_sentences = [sentences[i] for i in top_results.indices]\n",
        "    return best_sentences\n",
        "\n"
      ],
      "metadata": {
        "id": "ncEtVfoi5P3g"
      },
      "execution_count": null,
      "outputs": []
    },
    {
      "cell_type": "code",
      "source": [
        "# For each query, finds the top-k most semantically similar sentences from its top-10 documents using SBERT.\n",
        "\n",
        "def extract_top_semantic_sentences_for_all_queries(queries_df, top10_df, top_k_sent=5):\n",
        "    \"\"\"\n",
        "    Return: List of dicts: {\"qid\": ..., \"query\": ..., \"sentences\": [...]}\n",
        "    \"\"\"\n",
        "    results = []\n",
        "\n",
        "    for _, row in queries_df.iterrows():\n",
        "        qid = row[\"qid\"]\n",
        "        query_text = row[\"query\"]\n",
        "\n",
        "        top_docs_df = top10_df[top10_df[\"qid\"] == qid]\n",
        "\n",
        "        best_sentences = get_top_similar_sentences(query_text, top_docs_df, top_k=top_k_sent)\n",
        "\n",
        "        results.append({\n",
        "            \"qid\": qid,\n",
        "            \"query\": query_text,\n",
        "            \"sentences\": best_sentences\n",
        "        })\n",
        "\n",
        "    return results\n",
        "\n"
      ],
      "metadata": {
        "id": "jiQ-knSd5fru"
      },
      "execution_count": null,
      "outputs": []
    },
    {
      "cell_type": "code",
      "source": [
        "# Extracts top-5 semantically similar sentences for each only-title query from default and tuned BM25 results.\n",
        "\n",
        "semantic_sentences_default_only_title = extract_top_semantic_sentences_for_all_queries(\n",
        "    queries_df=queries_df_only_title,\n",
        "    top10_df=default_top10_df_all_queries_only_title,\n",
        "    top_k_sent=5\n",
        ")\n",
        "\n",
        "semantic_sentences_tuned_only_title = extract_top_semantic_sentences_for_all_queries(\n",
        "    queries_df=queries_df_only_title,\n",
        "    top10_df=tuned_top10_df_all_queries_only_title\n",
        ")"
      ],
      "metadata": {
        "id": "wh4m7RR1Anux"
      },
      "execution_count": null,
      "outputs": []
    },
    {
      "cell_type": "code",
      "source": [
        "# Extracts top semantically similar sentences for each title+description query from default and tuned BM25 results.\n",
        "\n",
        "semantic_sentences_default_with_desc = extract_top_semantic_sentences_for_all_queries(\n",
        "    queries_df=queries_df_desc,\n",
        "    top10_df=default_top10_df_all_queries_with_desc\n",
        ")\n",
        "\n",
        "semantic_sentences_tuned_with_desc = extract_top_semantic_sentences_for_all_queries(\n",
        "    queries_df=queries_df_desc,\n",
        "    top10_df=tuned_top10_df_all_queries_with_desc\n",
        ")"
      ],
      "metadata": {
        "id": "K3dJzhvYRitp"
      },
      "execution_count": null,
      "outputs": []
    },
    {
      "cell_type": "code",
      "source": [
        "# Prints query texts and their top semantically similar sentences for the first few queries in the list.\n",
        "\n",
        "def print_semantic_sentences(semantic_list, title=\"\", num_queries=3):\n",
        "    print(f\"\\n{'='*25} {title.upper()} {'='*25}\")\n",
        "    for i in range(min(num_queries, len(semantic_list))):\n",
        "        item = semantic_list[i]\n",
        "        print(f\"\\n🔍 QID: {item['qid']} — Query: {item['query']}\")\n",
        "        for j, sent in enumerate(item[\"sentences\"], 1):\n",
        "            print(f\"{j}. {sent}\")\n",
        "        print(\"=\" * 80)\n"
      ],
      "metadata": {
        "id": "nLoZuelyE5p0"
      },
      "execution_count": null,
      "outputs": []
    },
    {
      "cell_type": "code",
      "source": [
        "# Prints top semantic sentences for the first 3 queries from default and tuned BM25 results (only-title queries).\n",
        "\n",
        "print_semantic_sentences(semantic_sentences_default_only_title, \"Default Only Title\", num_queries=3)\n",
        "print_semantic_sentences(semantic_sentences_tuned_only_title, \"Tuned With Desc\", num_queries=3)"
      ],
      "metadata": {
        "id": "cOSOqVcX5lyj",
        "colab": {
          "base_uri": "https://localhost:8080/"
        },
        "outputId": "e6b1c45d-3ed9-410f-bd0d-3da7a08df43e"
      },
      "execution_count": null,
      "outputs": [
        {
          "output_type": "stream",
          "name": "stdout",
          "text": [
            "\n",
            "========================= DEFAULT ONLY TITLE =========================\n",
            "\n",
            "🔍 QID: 1 — Query: coping overcrowded prisons\n",
            "1. convicts escaped low security prison cutting hole fence inmates rioted police said today second escape prison weeks south yorkshire police said 10 convicts remained large following break late wednesday lindholme prison northern england captured farm near prison said police statement said escapees considered dangerous serving time crimes robbery theft police called prison small number 753 inmates started smashing windows violence spread inmates broke prison kitchen hospital causing minor damage police said 11 cut hole wire mesh fence surrounding compound fled prison guards managed restore order hours 100 policemen aided dogs ringed prison prevent escapes fence repaired officers set roadblocks began searching surrounding countryside escapees injuries reported disturbance july 16 inmates escaped prison cutting hole fence prisoners went hour rampage smashing buildings setting escapees captured britain s overcrowded antiquated prison plagued recent years riots demonstrations prisoners complained overcrowding poor living conditions brutality guards petty restrictions authorities admit living conditions bad prisons say government trying solve problem building new prisons\n",
            "2. inmates desperately overcrowded hall county jail rioted make sure officials knew miserable sheriff said sunday basically saying t home christmas families won t home sheriff dick mecum said saturday night disturbance caused injuries did extensive damage maximum security cellblock authorities calmed prisoners hours transferred 70 rioters north georgia prison lowering population hall jail 175 designed hold 145 mecum said riot began 8 30 p m inmates began burning mattresses blankets flammable items cells electrical duct work ceilings vandalized windows broken mecum said worst damage occurred maximum security block rioting spilled block authorities went hall county swat team mecum said 11 11 30 p m prisoners given hall county administrator mike bryant said early damage estimate coincidentally mecum wrote guest column sunday editions gainesville s daily newspaper times taking state department corrections task allowing prisons jails dangerously overcrowded like county jails state hall jail houses inmates room state prisons county jails desperately overcrowded day faced riots fights injuries near loss control individual county facilities mecum wrote\n",
            "3. justice department sought temporary restraining order wednesday attempt stop district columbia barring newly sentenced prisoners overcrowded jail facilities department filed suit u s district court district failed accept federal government s offer short term help alleviate jail overcrowding exchange commitment district quickly increase space housing prisoners offer associate attorney general frank keating assigned federal prison facilities 200 newly sentenced people offer lasted oct 14 city resumed accepting prisoners oct 17 offer people temporarily housed federal facilities oct 4 oct 14 returned district jan 1 city 3 30 p m wednesday accept offer did said statement issued justice department federal prisons hold nearly 2 000 city prisoners crisis triggered thursday u s district judge william b bryant s ordered corrections department comply court ordered inmate cap jail gave district day grace period decree took effect noon tuesday appeals court decision handed day bryant s ruling requires corrections department bring population overcrowded central facility lorton va line court ordered cap nov 1 d c department corrections closed overcrowded prison new inmates tuesday comply court order placed responsibility housing hands attorney general page letter washington mayor marion barry keating said pace new prison construction district totally inadequate district unwilling obvious emergency measure placing vacant sites district modular facilities jurisdictions used provide quick accommodations excess prison populations said keating city submitted report bryant wednesday morning explaining plan reducing jail population spokeswoman bryant said addition closing prison city announced plans release 350 inmates early transfer 130 penal institutions states hire contractors post bond indigent inmates awaiting trial district columbia federal officials met hours wednesday unsuccessful effort resolve differences\n",
            "4. federal judge friday held state contempt court overcrowding section state prison threatened fines 50 extra inmate day court finally regretfully reached end job like patience overcrowding intake service center adult correctional institution u s district judge raymond j pettine wrote pettine said population intake unit cranston exceeds 250 feb 20 levy fines gave state nov 21 come new plan reducing inmate population center holds prisoners awaiting trail friday morning intake unit s population 431 inmates said corrections department spokesmen joseph dinitto level daily fine 9 050 t foresee s possibility meeting deadline ve 450 recent days said state corrections director john j moran inmates help american civil liberties union sued 1977 correct numerous problems contended\n",
            "5. existed prison john biafore assistant legal counsel gov edward d diprete blamed overcrowding drug related arrests legislation making bail harder obtain biafore said governor s aides met judges speed procedures releasing eligible bail working\n",
            "================================================================================\n",
            "\n",
            "🔍 QID: 2 — Query: accusations cheating contractors u s defense projects\n",
            "1. pentagon slightly relaxed truth contracting regulations imposed summer s disclosure massive fraud investigation refused drop rules altogether industry asked pentagon friday said defense department task force procurement determined certificate contractor business ethics integrity profit recapture clause remain necessary protect government s interests certification profit recapture regulations imposed july 15 defense contractors named search warrants obtained justice department companies currently subject special requirements investigation public june concerns allegations defense contractors hired outside consultants obtain proprietary information bids competing defense companies consultants paid bribes pentagon employees information certification clause requires contractors receive contract worth 100 000 certify obtained inside information profit recapture regulation specifies pentagon reclaim profits company obtained sensitive information improperly pentagon said narrowing application certification rule specifying written pledge required contractor competing firms start new project initial version rule contractor pentagon s list requirement imposed regardless contract sole source competitive regardless start project expand work awarded company earlier pentagon official asked named said change designed lighten somewhat industry fears firms held accountable actions dated years\n",
            "2. lawsuit accusing defense contractor charging government building private plane typing bible computer open way fraud investigations secret projects watchdog group says little wedge black world projects secret don t appear defense budget said dina rasor head washington based project military procurement shows expose fraud waste black program divulging sensitive information said rasor spoke news conference wednesday unseal lawsuit alleging fraud overcharging lockheed missiles space leading defense contractor california s high tech silicon valley lawsuit filed u s district court current employee claims lockheed workers waiting months security clearances goofed ran profitable businesses ran football pool built private plane _ government expense proved charges result suspension defense contracts alleged violations california plant cost government 10 million figure higher plaintiffs attorney said expect additional people going step forward additional examples fraud lockheed said oakland lawyer guy t saperstein lockheed plaintiffs charged told employees various government contracts 40 hours worked charge time contracts worked lockheed denied accusations vigorously deny false claims condoned company said company spokesman george mulhern fact ve strong program past years make sure employees know form mischarging wrong lead disciplinary action including dismissal warranted mulhern said company wait receives copy suit responding specific allegations confident suit goes trial company engaged improper practices said lockheed missiles space 23 700 employees sunnyvale develops spacecraft satellite systems submarine launched missiles subsidiary lockheed corp suit filed federal whistle blower law margaret t newsham 45 lockheed analyst martin overbeek bloem 34 engineer works company united states plaintiff law protects whistle blowers retaliation allows judgments companies convicted cheating government complaint seeks damages jury trial false claims suits involving classified black project national security agency surveillance branch defense department newsham bloem held security clearances nsa worked lockheed project 1981 1984 allege huge time wasted lockheed ice box period ranging year 18 months employees work sensitive projects received security clearance given non classified work time wasted saperstein said end week rolled billed united states government 40 hours work essentially employees allegedly ways busy including selling real estate honey belt buckles working cars playing computer games senior manager suit says lockheed machinists build airplane allowed retire plane project discovered lockheed employee wrote entire bible lockheed computer charging government contracts time suit says newsham fired 1984 said company refused reason defense contract audit agency substantiated allegations newsham called defense department hot line 1984 saperstein said reports agency enforcement power filed suit\n",
            "3. sources said 90 percent defense contractors checked pentagon study year sloppy handling classified documents despite assurances given congress defense secretary caspar weinberger program problems study defense investigative service withheld congress weinberger didn t like conclusions according sources speaking condition named open giving documents consultants apparently widely discussed time mrs chewning testified witness recalled mouth fell open contractor met called ask interpretation document written developments fbi said investigated melvyn paisley prior 1981 confirmation senate assistant navy secretary research engineering systems disclose results check federal investigators stacks classified federal documents paisley security clearance possess searched home office washington post reported today s editions citing unidentified informed officials information rep james florio d\n",
            "4. long forgotten courtroom testimony reveals private defense consultants contractors didn t need underground operation obtain classified information pentagon employees simply asking open door apparently operated alongside clandestine arrangements consultants pentagon employees subject intensive federal investigation investigators believe consultants using secret bribed defense department officials obtain secret information including plans contractor sold tucked away court reporter s records baltimore 1984 description _ defense _ open cooperation consultants contractors pentagon officials information obtained open important contractors seeking bid pentagon projects private lawyers familiar said information usually secret secret consisted pentagon documents contractors came light january 1984\n",
            "5. senate sponsor procurement fraud says legislation s severe penalties prosecutors powerful new tool use defense contractors cheating government defense fraud rips american taxpayers endangers lives fighting forces providing defective parts sen howard m metzenbaum d ohio said senate passed measure voice vote tuesday allow prosecutors seek 10 million fines large scale procurement fraud u s government return house earlier approved similar version defense department estimates procurement fraud cost taxpayers 99 1 million fiscal years 1986 1987 metzenbaum said adding gives government powerful new weapon aimed punishing deterring defense fraud person corporation subject penalties convicted scheme act defraud government connection contract 1 million size fine determined severity offense conviction act fraud result maximum penalties 1 million 10 years prison overall cap 10 million single defendant senate prohibit contractors recovering legal fees proceedings contractors engage wrongdoing language house chamber concur president reagan current law allows contractors recover significant amounts legal fees government allowable cost contract whistleblower protection provision allows fired punished furnishing information government sue reinstatement receive twice lost pay measure authorize 8 million u s attorneys prosecute fraud cases increase statute limitations current years seven years\n",
            "================================================================================\n",
            "\n",
            "🔍 QID: 3 — Query: insurance coverage pays long term care\n",
            "1. insurance cover costs nursing home care promoted increasingly years probably isn t good buy americans national consumer group said tuesday considering coverage study policy carefully consumers union warned insurance sales representatives confused coverage offered officials group said news conference consumers union rates 50 long term care policies edition magazine consumer reports finds fault private insurance spread costs large number people make coverage affordable millions need consumers union president rhoda karpatkin said federal government said calling congressional action provide long term care protection gail shearer consumers group said policies providing long term care quite expensive recommended people moderate income prices range high 100 month 260 month people 60 shouldn t buy policies unless guarantee benefits rise pace inflation ms shearer added nonetheless policies offered people tempted buy said problems watch include _protection available people need _ health problems check policies exclusions disallow coverage pre existing conditions _some policies cover certain types care custodial care potentially longest costly type _more half nursing home patients admitted having hospitalized majority long term care policies checked required prior hospitalization benefits provided _alzheimer s disease accounts half nursing home patients majority policies did specifically state covered company flooded claims decide use vague language policies exclude alzheimer s coverage consumers union warned addition group noted policies require confirmed diagnosis provide coverage alzheimer s confirmed autopsy\n",
            "2. 1992 employers time employees offer health insurance coverage pay unemployment surcharge help state provide coverage uninsured\n",
            "3. private study calls new federal insurance program financed additional payroll taxes pay nursing home bills costs long term care elderly report issued tuesday brookings institution says expansion private insurance help cover costs alice m rivlin head congressional budget office lead author report stopped short saying primary recommendation new government program said main purpose 318 page report compile extensive data congress debate shaping national policy\n",
            "4. d calif chairman house select committee aging sponsor pepper s said virtually medicare insurance coverage available millions people chronic illness long believed seeing rising tide public support federal long term care program harris poll shows americans evne enthusiastic imagined roybal said statement harris survey americans ages professions party affiliations income levels supported financing new home care program increase 1 45 percent medicare payroll tax upper income workers 70 percent people earning 50 000 supported method financing bear brunt survey questioned 82 percent said\n",
            "5. ms rivlin acknowledged report envisions private insurance supplementing government program example private insurance cover payments required beneficiaries medicare like plan government role limited kicking privately financed benefits exhausted long term care shaping major issue 1989 way catastrophic coverage acute illness overriding medicare issue year central question 1989 debate extent payment long term care expenses _ nursing homes home _\n",
            "================================================================================\n",
            "\n",
            "========================= TUNED WITH DESC =========================\n",
            "\n",
            "🔍 QID: 1 — Query: coping overcrowded prisons\n",
            "1. convicts escaped low security prison cutting hole fence inmates rioted police said today second escape prison weeks south yorkshire police said 10 convicts remained large following break late wednesday lindholme prison northern england captured farm near prison said police statement said escapees considered dangerous serving time crimes robbery theft police called prison small number 753 inmates started smashing windows violence spread inmates broke prison kitchen hospital causing minor damage police said 11 cut hole wire mesh fence surrounding compound fled prison guards managed restore order hours 100 policemen aided dogs ringed prison prevent escapes fence repaired officers set roadblocks began searching surrounding countryside escapees injuries reported disturbance july 16 inmates escaped prison cutting hole fence prisoners went hour rampage smashing buildings setting escapees captured britain s overcrowded antiquated prison plagued recent years riots demonstrations prisoners complained overcrowding poor living conditions brutality guards petty restrictions authorities admit living conditions bad prisons say government trying solve problem building new prisons\n",
            "2. inmates desperately overcrowded hall county jail rioted make sure officials knew miserable sheriff said sunday basically saying t home christmas families won t home sheriff dick mecum said saturday night disturbance caused injuries did extensive damage maximum security cellblock authorities calmed prisoners hours transferred 70 rioters north georgia prison lowering population hall jail 175 designed hold 145 mecum said riot began 8 30 p m inmates began burning mattresses blankets flammable items cells electrical duct work ceilings vandalized windows broken mecum said worst damage occurred maximum security block rioting spilled block authorities went hall county swat team mecum said 11 11 30 p m prisoners given hall county administrator mike bryant said early damage estimate coincidentally mecum wrote guest column sunday editions gainesville s daily newspaper times taking state department corrections task allowing prisons jails dangerously overcrowded like county jails state hall jail houses inmates room state prisons county jails desperately overcrowded day faced riots fights injuries near loss control individual county facilities mecum wrote\n",
            "3. riot overcrowded 144 year old jail left people injured institution destroyed prisoners escaped revolt prison 15 miles away authorities said escapees large today inmates essex county jail house correction aggravated sunday s heat upset overcrowding food quality twice set granite jail second blaze destroyed entire wing containing 36 cells quarter prison 500 people relatives friends inmates watched disturbances chanted feed food said barbara martin 45 come visit inmate husband conditions deplorable stinks nearly 200 250 inmates relocated prisons state said jail superintendent william mageary late sunday inmates billerica house correction set work shed inmates escaped scuffle guard recaptured quickly inmates guards sustained minor injuries said middlesex county sheriff john mcgonigle billerica prisons inmates lawrence transfered plans dropped disturbance lawrence group inmates set noon wooden floor east wing broke wing hour later raged 1 hours prisoners pelted firefighters police debris flames poured roof hour uprising escapes reported inmates caught attempting slip said essex county sheriff charles reardon cops got hit firefighters got hit lawrence lt james campbell said threw pipes _\n",
            "4. justice department sought temporary restraining order wednesday attempt stop district columbia barring newly sentenced prisoners overcrowded jail facilities department filed suit u s district court district failed accept federal government s offer short term help alleviate jail overcrowding exchange commitment district quickly increase space housing prisoners offer associate attorney general frank keating assigned federal prison facilities 200 newly sentenced people offer lasted oct 14 city resumed accepting prisoners oct 17 offer people temporarily housed federal facilities oct 4 oct 14 returned district jan 1 city 3 30 p m wednesday accept offer did said statement issued justice department federal prisons hold nearly 2 000 city prisoners crisis triggered thursday u s district judge william b bryant s ordered corrections department comply court ordered inmate cap jail gave district day grace period decree took effect noon tuesday appeals court decision handed day bryant s ruling requires corrections department bring population overcrowded central facility lorton va line court ordered cap nov 1 d c department corrections closed overcrowded prison new inmates tuesday comply court order placed responsibility housing hands attorney general page letter washington mayor marion barry keating said pace new prison construction district totally inadequate district unwilling obvious emergency measure placing vacant sites district modular facilities jurisdictions used provide quick accommodations excess prison populations said keating city submitted report bryant wednesday morning explaining plan reducing jail population spokeswoman bryant said addition closing prison city announced plans release 350 inmates early transfer 130 penal institutions states hire contractors post bond indigent inmates awaiting trial district columbia federal officials met hours wednesday unsuccessful effort resolve differences\n",
            "5. federal judge friday held state contempt court overcrowding section state prison threatened fines 50 extra inmate day court finally regretfully reached end job like patience overcrowding intake service center adult correctional institution u s district judge raymond j pettine wrote pettine said population intake unit cranston exceeds 250 feb 20 levy fines gave state nov 21 come new plan reducing inmate population center holds prisoners awaiting trail friday morning intake unit s population 431 inmates said corrections department spokesmen joseph dinitto level daily fine 9 050 t foresee s possibility meeting deadline ve 450 recent days said state corrections director john j moran inmates help american civil liberties union sued 1977 correct numerous problems contended\n",
            "================================================================================\n",
            "\n",
            "🔍 QID: 2 — Query: accusations cheating contractors u s defense projects\n",
            "1. pentagon slightly relaxed truth contracting regulations imposed summer s disclosure massive fraud investigation refused drop rules altogether industry asked pentagon friday said defense department task force procurement determined certificate contractor business ethics integrity profit recapture clause remain necessary protect government s interests certification profit recapture regulations imposed july 15 defense contractors named search warrants obtained justice department companies currently subject special requirements investigation public june concerns allegations defense contractors hired outside consultants obtain proprietary information bids competing defense companies consultants paid bribes pentagon employees information certification clause requires contractors receive contract worth 100 000 certify obtained inside information profit recapture regulation specifies pentagon reclaim profits company obtained sensitive information improperly pentagon said narrowing application certification rule specifying written pledge required contractor competing firms start new project initial version rule contractor pentagon s list requirement imposed regardless contract sole source competitive regardless start project expand work awarded company earlier pentagon official asked named said change designed lighten somewhat industry fears firms held accountable actions dated years\n",
            "2. lawsuit accusing defense contractor charging government building private plane typing bible computer open way fraud investigations secret projects watchdog group says little wedge black world projects secret don t appear defense budget said dina rasor head washington based project military procurement shows expose fraud waste black program divulging sensitive information said rasor spoke news conference wednesday unseal lawsuit alleging fraud overcharging lockheed missiles space leading defense contractor california s high tech silicon valley lawsuit filed u s district court current employee claims lockheed workers waiting months security clearances goofed ran profitable businesses ran football pool built private plane _ government expense proved charges result suspension defense contracts alleged violations california plant cost government 10 million figure higher plaintiffs attorney said expect additional people going step forward additional examples fraud lockheed said oakland lawyer guy t saperstein lockheed plaintiffs charged told employees various government contracts 40 hours worked charge time contracts worked lockheed denied accusations vigorously deny false claims condoned company said company spokesman george mulhern fact ve strong program past years make sure employees know form mischarging wrong lead disciplinary action including dismissal warranted mulhern said company wait receives copy suit responding specific allegations confident suit goes trial company engaged improper practices said lockheed missiles space 23 700 employees sunnyvale develops spacecraft satellite systems submarine launched missiles subsidiary lockheed corp suit filed federal whistle blower law margaret t newsham 45 lockheed analyst martin overbeek bloem 34 engineer works company united states plaintiff law protects whistle blowers retaliation allows judgments companies convicted cheating government complaint seeks damages jury trial false claims suits involving classified black project national security agency surveillance branch defense department newsham bloem held security clearances nsa worked lockheed project 1981 1984 allege huge time wasted lockheed ice box period ranging year 18 months employees work sensitive projects received security clearance given non classified work time wasted saperstein said end week rolled billed united states government 40 hours work essentially employees allegedly ways busy including selling real estate honey belt buckles working cars playing computer games senior manager suit says lockheed machinists build airplane allowed retire plane project discovered lockheed employee wrote entire bible lockheed computer charging government contracts time suit says newsham fired 1984 said company refused reason defense contract audit agency substantiated allegations newsham called defense department hot line 1984 saperstein said reports agency enforcement power filed suit\n",
            "3. sources said 90 percent defense contractors checked pentagon study year sloppy handling classified documents despite assurances given congress defense secretary caspar weinberger program problems study defense investigative service withheld congress weinberger didn t like conclusions according sources speaking condition named open giving documents consultants apparently widely discussed time mrs chewning testified witness recalled mouth fell open contractor met called ask interpretation document written developments fbi said investigated melvyn paisley prior 1981 confirmation senate assistant navy secretary research engineering systems disclose results check federal investigators stacks classified federal documents paisley security clearance possess searched home office washington post reported today s editions citing unidentified informed officials information rep james florio d\n",
            "4. long forgotten courtroom testimony reveals private defense consultants contractors didn t need underground operation obtain classified information pentagon employees simply asking open door apparently operated alongside clandestine arrangements consultants pentagon employees subject intensive federal investigation investigators believe consultants using secret bribed defense department officials obtain secret information including plans contractor sold tucked away court reporter s records baltimore 1984 description _ defense _ open cooperation consultants contractors pentagon officials information obtained open important contractors seeking bid pentagon projects private lawyers familiar said information usually secret secret consisted pentagon documents contractors came light january 1984\n",
            "5. senate sponsor procurement fraud says legislation s severe penalties prosecutors powerful new tool use defense contractors cheating government defense fraud rips american taxpayers endangers lives fighting forces providing defective parts sen howard m metzenbaum d ohio said senate passed measure voice vote tuesday allow prosecutors seek 10 million fines large scale procurement fraud u s government return house earlier approved similar version defense department estimates procurement fraud cost taxpayers 99 1 million fiscal years 1986 1987 metzenbaum said adding gives government powerful new weapon aimed punishing deterring defense fraud person corporation subject penalties convicted scheme act defraud government connection contract 1 million size fine determined severity offense conviction act fraud result maximum penalties 1 million 10 years prison overall cap 10 million single defendant senate prohibit contractors recovering legal fees proceedings contractors engage wrongdoing language house chamber concur president reagan current law allows contractors recover significant amounts legal fees government allowable cost contract whistleblower protection provision allows fired punished furnishing information government sue reinstatement receive twice lost pay measure authorize 8 million u s attorneys prosecute fraud cases increase statute limitations current years seven years\n",
            "================================================================================\n",
            "\n",
            "🔍 QID: 3 — Query: insurance coverage pays long term care\n",
            "1. insurance cover costs nursing home care promoted increasingly years probably isn t good buy americans national consumer group said tuesday considering coverage study policy carefully consumers union warned insurance sales representatives confused coverage offered officials group said news conference consumers union rates 50 long term care policies edition magazine consumer reports finds fault private insurance spread costs large number people make coverage affordable millions need consumers union president rhoda karpatkin said federal government said calling congressional action provide long term care protection gail shearer consumers group said policies providing long term care quite expensive recommended people moderate income prices range high 100 month 260 month people 60 shouldn t buy policies unless guarantee benefits rise pace inflation ms shearer added nonetheless policies offered people tempted buy said problems watch include _protection available people need _ health problems check policies exclusions disallow coverage pre existing conditions _some policies cover certain types care custodial care potentially longest costly type _more half nursing home patients admitted having hospitalized majority long term care policies checked required prior hospitalization benefits provided _alzheimer s disease accounts half nursing home patients majority policies did specifically state covered company flooded claims decide use vague language policies exclude alzheimer s coverage consumers union warned addition group noted policies require confirmed diagnosis provide coverage alzheimer s confirmed autopsy\n",
            "2. 1992 employers time employees offer health insurance coverage pay unemployment surcharge help state provide coverage uninsured\n",
            "3. private study calls new federal insurance program financed additional payroll taxes pay nursing home bills costs long term care elderly report issued tuesday brookings institution says expansion private insurance help cover costs alice m rivlin head congressional budget office lead author report stopped short saying primary recommendation new government program said main purpose 318 page report compile extensive data congress debate shaping national policy\n",
            "4. d calif chairman house select committee aging sponsor pepper s said virtually medicare insurance coverage available millions people chronic illness long believed seeing rising tide public support federal long term care program harris poll shows americans evne enthusiastic imagined roybal said statement harris survey americans ages professions party affiliations income levels supported financing new home care program increase 1 45 percent medicare payroll tax upper income workers 70 percent people earning 50 000 supported method financing bear brunt survey questioned 82 percent said\n",
            "5. ms rivlin acknowledged report envisions private insurance supplementing government program example private insurance cover payments required beneficiaries medicare like plan government role limited kicking privately financed benefits exhausted long term care shaping major issue 1989 way catastrophic coverage acute illness overriding medicare issue year central question 1989 debate extent payment long term care expenses _ nursing homes home _\n",
            "================================================================================\n"
          ]
        }
      ]
    },
    {
      "cell_type": "code",
      "source": [
        "# Prints top semantic sentences for the first 3 queries from default and tuned BM25 results (title + description queries).\n",
        "\n",
        "print_semantic_sentences(semantic_sentences_default_with_desc, \"Default Only Title\", num_queries=3)\n",
        "print_semantic_sentences(semantic_sentences_tuned_with_desc, \"Tuned With Desc\", num_queries=3)"
      ],
      "metadata": {
        "id": "xApXaxjkRkv1",
        "colab": {
          "base_uri": "https://localhost:8080/"
        },
        "outputId": "d6b4dc54-a79c-4fc1-fa6f-6a1de4ec3360"
      },
      "execution_count": null,
      "outputs": [
        {
          "output_type": "stream",
          "name": "stdout",
          "text": [
            "\n",
            "========================= DEFAULT ONLY TITLE =========================\n",
            "\n",
            "🔍 QID: 1 — Query: coping overcrowded prisons document provide information jail prison overcrowding inmates forced cope conditions reveal plans relieve overcrowded condition\n",
            "1. justice department sought temporary restraining order wednesday attempt stop district columbia barring newly sentenced prisoners overcrowded jail facilities department filed suit u s district court district failed accept federal government s offer short term help alleviate jail overcrowding exchange commitment district quickly increase space housing prisoners offer associate attorney general frank keating assigned federal prison facilities 200 newly sentenced people offer lasted oct 14 city resumed accepting prisoners oct 17 offer people temporarily housed federal facilities oct 4 oct 14 returned district jan 1 city 3 30 p m wednesday accept offer did said statement issued justice department federal prisons hold nearly 2 000 city prisoners crisis triggered thursday u s district judge william b bryant s ordered corrections department comply court ordered inmate cap jail gave district day grace period decree took effect noon tuesday appeals court decision handed day bryant s ruling requires corrections department bring population overcrowded central facility lorton va line court ordered cap nov 1 d c department corrections closed overcrowded prison new inmates tuesday comply court order placed responsibility housing hands attorney general page letter washington mayor marion barry keating said pace new prison construction district totally inadequate district unwilling obvious emergency measure placing vacant sites district modular facilities jurisdictions used provide quick accommodations excess prison populations said keating city submitted report bryant wednesday morning explaining plan reducing jail population spokeswoman bryant said addition closing prison city announced plans release 350 inmates early transfer 130 penal institutions states hire contractors post bond indigent inmates awaiting trial district columbia federal officials met hours wednesday unsuccessful effort resolve differences\n",
            "2. convicts escaped low security prison cutting hole fence inmates rioted police said today second escape prison weeks south yorkshire police said 10 convicts remained large following break late wednesday lindholme prison northern england captured farm near prison said police statement said escapees considered dangerous serving time crimes robbery theft police called prison small number 753 inmates started smashing windows violence spread inmates broke prison kitchen hospital causing minor damage police said 11 cut hole wire mesh fence surrounding compound fled prison guards managed restore order hours 100 policemen aided dogs ringed prison prevent escapes fence repaired officers set roadblocks began searching surrounding countryside escapees injuries reported disturbance july 16 inmates escaped prison cutting hole fence prisoners went hour rampage smashing buildings setting escapees captured britain s overcrowded antiquated prison plagued recent years riots demonstrations prisoners complained overcrowding poor living conditions brutality guards petty restrictions authorities admit living conditions bad prisons say government trying solve problem building new prisons\n",
            "3. inmates desperately overcrowded hall county jail rioted make sure officials knew miserable sheriff said sunday basically saying t home christmas families won t home sheriff dick mecum said saturday night disturbance caused injuries did extensive damage maximum security cellblock authorities calmed prisoners hours transferred 70 rioters north georgia prison lowering population hall jail 175 designed hold 145 mecum said riot began 8 30 p m inmates began burning mattresses blankets flammable items cells electrical duct work ceilings vandalized windows broken mecum said worst damage occurred maximum security block rioting spilled block authorities went hall county swat team mecum said 11 11 30 p m prisoners given hall county administrator mike bryant said early damage estimate coincidentally mecum wrote guest column sunday editions gainesville s daily newspaper times taking state department corrections task allowing prisons jails dangerously overcrowded like county jails state hall jail houses inmates room state prisons county jails desperately overcrowded day faced riots fights injuries near loss control individual county facilities mecum wrote\n",
            "4. hour disturbance involving 150 200 inmates essex county jail erupted just television news broadcast depicting overcrowding jail sheriff charles reardon told reporters lot destruction inside jail said inmates set small fires pulled pipes walls knocked railings said lot water damage reardon said overcrowding probably factor disturbance inmate guard suffered minor injuries authorities said man identified inmate michael robitaille telephoned union news newspaper springfield jail said violence began shortly 8 p m segment wcvb tv s chronicle series focused conditions jail chronicle producer mark mills said program focused overcrowding salem jail elements troubled criminal justice including overcrowded courts boston don t think provocative said mills look conditions live day\n",
            "5. long pipes don t know got _ bricks bottles people including inmates treated hospitals minor injuries smoke inhalation officials said melee drew 150 state local police riot squads plus 100 firefighters immediate cause uprising wasn t known reardon said said prison filled twice capacity 127 prisoners lawrence house correction holds inmates convicted misdemeanors maximum terms 2 years officials said serves jail persons awaiting trial state correction commissioner michael fair said certainly puts tremendous strain overcrowded plans way new essex county house correction middleton replace lawrence prison according state human services secretary philip johnston prison design stage expected cost 30 million 40 million fair said difficult room state relocate scores prisoners displaced lawrence don t room fair said major loss\n",
            "================================================================================\n",
            "\n",
            "🔍 QID: 2 — Query: accusations cheating contractors u s defense projects document refer alleged illegality committed entity seeking contract behalf u s military forces\n",
            "1. wis said carlucci order absolutely contracts signed 60 days weeks companies involved criminal investigation carlucci make dramatic aspin told costello undersecretary defense acquisition policy going write tough language contracts recoup stuff make sure contracts let legal said aspin aspin noted contractors weapons involved investigation include mcdonnell douglas f 18 line navy fighter year investigation public pentagon went ahead contract awards plane aspin said june 23 pentagon announced granting mcdonnell douglas 960 million contract f 18 work aspin noted s clear pentagon hasn t come plan dealing contractors cloud said costello day long meeting house armed services committee repeatedly defended defense department procurement policies reagan administration congress enact new laws pentagon pass new regulations way ensure cheating costello said costello shied away 5 proposal month defense department officials authority prevent searches contractors facilities fraud investigators costello said wouldn t write memo written\n",
            "2. lawsuit accusing defense contractor charging government building private plane typing bible computer open way fraud investigations secret projects watchdog group says little wedge black world projects secret don t appear defense budget said dina rasor head washington based project military procurement shows expose fraud waste black program divulging sensitive information said rasor spoke news conference wednesday unseal lawsuit alleging fraud overcharging lockheed missiles space leading defense contractor california s high tech silicon valley lawsuit filed u s district court current employee claims lockheed workers waiting months security clearances goofed ran profitable businesses ran football pool built private plane _ government expense proved charges result suspension defense contracts alleged violations california plant cost government 10 million figure higher plaintiffs attorney said expect additional people going step forward additional examples fraud lockheed said oakland lawyer guy t saperstein lockheed plaintiffs charged told employees various government contracts 40 hours worked charge time contracts worked lockheed denied accusations vigorously deny false claims condoned company said company spokesman george mulhern fact ve strong program past years make sure employees know form mischarging wrong lead disciplinary action including dismissal warranted mulhern said company wait receives copy suit responding specific allegations confident suit goes trial company engaged improper practices said lockheed missiles space 23 700 employees sunnyvale develops spacecraft satellite systems submarine launched missiles subsidiary lockheed corp suit filed federal whistle blower law margaret t newsham 45 lockheed analyst martin overbeek bloem 34 engineer works company united states plaintiff law protects whistle blowers retaliation allows judgments companies convicted cheating government complaint seeks damages jury trial false claims suits involving classified black project national security agency surveillance branch defense department newsham bloem held security clearances nsa worked lockheed project 1981 1984 allege huge time wasted lockheed ice box period ranging year 18 months employees work sensitive projects received security clearance given non classified work time wasted saperstein said end week rolled billed united states government 40 hours work essentially employees allegedly ways busy including selling real estate honey belt buckles working cars playing computer games senior manager suit says lockheed machinists build airplane allowed retire plane project discovered lockheed employee wrote entire bible lockheed computer charging government contracts time suit says newsham fired 1984 said company refused reason defense contract audit agency substantiated allegations newsham called defense department hot line 1984 saperstein said reports agency enforcement power filed suit\n",
            "3. sources said 90 percent defense contractors checked pentagon study year sloppy handling classified documents despite assurances given congress defense secretary caspar weinberger program problems study defense investigative service withheld congress weinberger didn t like conclusions according sources speaking condition named open giving documents consultants apparently widely discussed time mrs chewning testified witness recalled mouth fell open contractor met called ask interpretation document written developments fbi said investigated melvyn paisley prior 1981 confirmation senate assistant navy secretary research engineering systems disclose results check federal investigators stacks classified federal documents paisley security clearance possess searched home office washington post reported today s editions citing unidentified informed officials information rep james florio d\n",
            "4. investigators pentagon bribery probe videotaped meetings defense department officials allegedly took payoffs consultants sources close year investigation said saturday sources said key figures investigation victor cohen deputy assistant secretary air force tactical systems james gaines deputy assistant secretary navy appear videotapes sources declined say alleged bribes turned recordings pentagon officials consultants shown videotapes include melvyn paisley procurement chief navy office searched june 7 federal authorities investigation sources said nbc news reported friday night cohen leave pentagon defense consultant meetings consultants recorded videotaped money changed hands sources said gaines videotaped meetings consultants highly confidential documents relating pentagon contracts allegedly changed hands washington post reported cohen deputy assistant secretary air force tactical systems cooperating investigation sources close case said past week gaines cooperating investigation sources continued make assertion saturday sources post said gaines gave statement investigators earlier cooperating prosecutors point defense news reported june 27 editions paisley navy s procurement chief navy secretary john lehman initiated change effectively eliminated company key procurement program 1986 change drop plans separate competitions components aegis weapon instead winner scheme protects ships airborne surface underwater missiles result change defense news quoted unidentified industry officials saying hundreds millions dollars navy contracts aegis went sperry corp unisys corp firms involved pentagon bribery investigation defense news quoted sources attributing shift favored unisys paisley s close association william galvin consultant company publication quoted sources saying galvin boasted having wired aegis competition sperry s favor new york times reported sunday s editions investigators probing northrop corp s involvement alleged fraud appeared concentrating company s contract build navy target drone known bqm 74c drone\n",
            "5. nation s largest defense contractors routinely billing pentagon hundreds millions dollars spent outside consultants frequently justifying explaining work perform special audit defense department partly blame procurement regulations vague according report released friday defense contract audit agency internal business discipline expect large company hiring outsiders cases non existent auditors added review 12 100 defense contractors auditors labeled questionable claims 43 million 236 5 million charged government past year consultant services total questionable claims understated audit adds 12 companies picked auditors included boeing general dynamics corp hughes aircraft ibm litton industries lockheed corp martin marietta corp mcdonnell douglas corp northrop corp raytheon unisys corp united technologies corp locations encountered specific facts caused suspect irregular activity referred matters appropriate investigative agencies audit said did identify sites ibm spokeswoman suzanne garvey said company told auditors ibm companies facing criminal investigation use consultants contractors simply explain work consultants performed auditors wrote cases appears consultants performed lobbying publicity work reimbursed dcaa audit spawned massive fraud investigation pentagon paints picture clubby atmosphere major contractors rarely ask consultant contracts writing frequently hire consultants soliciting competitive bids dcaa expressed concern number consultants encountered high level military civilian personnel department contractors spending considerable sums supplementing complementing virtually house activity professional consultant services auditors wrote existing regulations auditors continued defense contractor government expenses outside consultants long evidence nature scope service furnished standard loose does force contractors truly document paying demonstrate work benefits military audit concluded pentagon releasing audit announced written new regulations address dcaa s concerns public comment period new regulations end dec 5 point final pentagon said dcaa audit ordered july 25 defense secretary frank c carlucci aftermath disclosures federal prosecutors conducting wide ranging fraud investigation focusing contractors outside consultants selected pentagon employees 2 year old investigation centers allegations consultants paid bribes defense department officials gather inside information useful companies bidding multimillion dollar projects charges filed indictments expected later month\n",
            "================================================================================\n",
            "\n",
            "🔍 QID: 3 — Query: insurance coverage pays long term care document discuss insurance coverage long term care confinements\n",
            "1. insurance cover costs nursing home care promoted increasingly years probably isn t good buy americans national consumer group said tuesday considering coverage study policy carefully consumers union warned insurance sales representatives confused coverage offered officials group said news conference consumers union rates 50 long term care policies edition magazine consumer reports finds fault private insurance spread costs large number people make coverage affordable millions need consumers union president rhoda karpatkin said federal government said calling congressional action provide long term care protection gail shearer consumers group said policies providing long term care quite expensive recommended people moderate income prices range high 100 month 260 month people 60 shouldn t buy policies unless guarantee benefits rise pace inflation ms shearer added nonetheless policies offered people tempted buy said problems watch include _protection available people need _ health problems check policies exclusions disallow coverage pre existing conditions _some policies cover certain types care custodial care potentially longest costly type _more half nursing home patients admitted having hospitalized majority long term care policies checked required prior hospitalization benefits provided _alzheimer s disease accounts half nursing home patients majority policies did specifically state covered company flooded claims decide use vague language policies exclude alzheimer s coverage consumers union warned addition group noted policies require confirmed diagnosis provide coverage alzheimer s confirmed autopsy\n",
            "2. ms rivlin acknowledged report envisions private insurance supplementing government program example private insurance cover payments required beneficiaries medicare like plan government role limited kicking privately financed benefits exhausted long term care shaping major issue 1989 way catastrophic coverage acute illness overriding medicare issue year central question 1989 debate extent payment long term care expenses _ nursing homes home _\n",
            "3. private study calls new federal insurance program financed additional payroll taxes pay nursing home bills costs long term care elderly report issued tuesday brookings institution says expansion private insurance help cover costs alice m rivlin head congressional budget office lead author report stopped short saying primary recommendation new government program said main purpose 318 page report compile extensive data congress debate shaping national policy\n",
            "4. 10 people private nursing home insurance likely receive benefits restrictions policies says study released today united seniors health cooperative study consumer advocacy group concludes policies offered sale likely pay adequate benefits people need role private insurance industry filling national need long term care protection role include selling bad policies unsuspecting consumers study said jim firman president washington based group william weissert director program aging university north carolina conducted study based findings analysis 77 typical private long term health care insurance plans offered 21 companies common restriction 77 percent plans person hospitalized condition allowed collect benefits subsequent nursing home care percent nursing home admissions come directly hospital qualify coverage plan restriction report said major limitation included 40 percent plans said people receive skilled level nursing home care qualify lower levels long term care requirement excludes 46 percent nursing home residents study said effect exclusions dramatic troubling combined waiting periods restrictions report said average probability collecting benefits 61 percent admitted nursing home 95 percent plans studied said cover patients alzheimer s disease researchers said 81 percent plans contain major restrictions regarding hospitalization skilled care given long duration deteriorating characteristics alzheimer s disease likely patient s period illness restrictions preclude eligibility coverage said study said common type nursing home coverage 50 day indemnity benefit _ labeled grossly inadequate meet expected costs care purchased plan entered nursing home 20 years study said pocket costs reach 130 000 plan inflation protection thirds companies studied did offer inflation protection people nursing home long period time effect plans studied delay prevent eventual impoverishment researchers said plans studied offered home health care coverage substantial restrictions make unlikely persons need home care collect significant benefits study said common restriction requiring prior covered nursing home confinement policy holder tap home care benefits plans require prior hospitalization according report lawmakers introduced long term care insurance schemes involving federal government joint public private efforts congress expected consider matter seriously year\n",
            "5. highlights house senate compromise catastrophic health insurance hospital _ coverage 365 days year hospital bills year deductible estimated 564 1989 deductible indexed rising hospital costs medicare charges deductible hospital stay year provides payment just 59 days year doctor bills _ payment reasonable proper doctor bills 1 370 annual cap met medicare continues pay 80 percent charges 75 deductible initial deductible 20 percent patient payment count 1 370 cap patient remains responsible portion fees exceed allowed medicare drugs _ medicare pays 50 percent outpatient drug costs 600 annual deductible starting 1991 medicare pays 60 percent following year 80 percent 1993 deductible indexed rising drug costs medicare board prescription drug coverage costs _ paid solely medicare beneficiaries current b premium 24 80 increase 4 month 1989 1993 catastrophic monthly premium projected 10 20 addition regular b premium time 60 percent total program costs financed additional supplemental premium linked federal income tax liability supplemental starts 22 50 year 150 tax liability 1989 rising 42 year 150 tax liability 1993 nursing home _ expands number days year skilled nursing facility care 100 days 150 reduces payment 67 50 day 20th day 20 50 day days provision long term custodial care respite care _ 80 hours year home health services relieve unpaid care providers new benefit home health care _ expands present coverage weeks care illness days week 38 days care illness seven days week hospice care _ expands present 210 days year 365 days year long patient certified terminally ill mammograms _ mammogram examination year women 65 new benefit medicaid _ phases years requirement state medicaid programs pay medicare premiums deductibles payments elderly disabled incomes federal poverty line high qualify medicaid coverage improvement varies widely state state depending state does spousal impoverishment _ gradually raises income retained spouse remaining community husband wife nursing home medicaid expense starting oct 1 1989 spouse home 786 month 122 percent federal poverty level person family spouse allowed 12 000 liquid assets\n",
            "================================================================================\n",
            "\n",
            "========================= TUNED WITH DESC =========================\n",
            "\n",
            "🔍 QID: 1 — Query: coping overcrowded prisons document provide information jail prison overcrowding inmates forced cope conditions reveal plans relieve overcrowded condition\n",
            "1. justice department sought temporary restraining order wednesday attempt stop district columbia barring newly sentenced prisoners overcrowded jail facilities department filed suit u s district court district failed accept federal government s offer short term help alleviate jail overcrowding exchange commitment district quickly increase space housing prisoners offer associate attorney general frank keating assigned federal prison facilities 200 newly sentenced people offer lasted oct 14 city resumed accepting prisoners oct 17 offer people temporarily housed federal facilities oct 4 oct 14 returned district jan 1 city 3 30 p m wednesday accept offer did said statement issued justice department federal prisons hold nearly 2 000 city prisoners crisis triggered thursday u s district judge william b bryant s ordered corrections department comply court ordered inmate cap jail gave district day grace period decree took effect noon tuesday appeals court decision handed day bryant s ruling requires corrections department bring population overcrowded central facility lorton va line court ordered cap nov 1 d c department corrections closed overcrowded prison new inmates tuesday comply court order placed responsibility housing hands attorney general page letter washington mayor marion barry keating said pace new prison construction district totally inadequate district unwilling obvious emergency measure placing vacant sites district modular facilities jurisdictions used provide quick accommodations excess prison populations said keating city submitted report bryant wednesday morning explaining plan reducing jail population spokeswoman bryant said addition closing prison city announced plans release 350 inmates early transfer 130 penal institutions states hire contractors post bond indigent inmates awaiting trial district columbia federal officials met hours wednesday unsuccessful effort resolve differences\n",
            "2. convicts escaped low security prison cutting hole fence inmates rioted police said today second escape prison weeks south yorkshire police said 10 convicts remained large following break late wednesday lindholme prison northern england captured farm near prison said police statement said escapees considered dangerous serving time crimes robbery theft police called prison small number 753 inmates started smashing windows violence spread inmates broke prison kitchen hospital causing minor damage police said 11 cut hole wire mesh fence surrounding compound fled prison guards managed restore order hours 100 policemen aided dogs ringed prison prevent escapes fence repaired officers set roadblocks began searching surrounding countryside escapees injuries reported disturbance july 16 inmates escaped prison cutting hole fence prisoners went hour rampage smashing buildings setting escapees captured britain s overcrowded antiquated prison plagued recent years riots demonstrations prisoners complained overcrowding poor living conditions brutality guards petty restrictions authorities admit living conditions bad prisons say government trying solve problem building new prisons\n",
            "3. inmates desperately overcrowded hall county jail rioted make sure officials knew miserable sheriff said sunday basically saying t home christmas families won t home sheriff dick mecum said saturday night disturbance caused injuries did extensive damage maximum security cellblock authorities calmed prisoners hours transferred 70 rioters north georgia prison lowering population hall jail 175 designed hold 145 mecum said riot began 8 30 p m inmates began burning mattresses blankets flammable items cells electrical duct work ceilings vandalized windows broken mecum said worst damage occurred maximum security block rioting spilled block authorities went hall county swat team mecum said 11 11 30 p m prisoners given hall county administrator mike bryant said early damage estimate coincidentally mecum wrote guest column sunday editions gainesville s daily newspaper times taking state department corrections task allowing prisons jails dangerously overcrowded like county jails state hall jail houses inmates room state prisons county jails desperately overcrowded day faced riots fights injuries near loss control individual county facilities mecum wrote\n",
            "4. hour disturbance involving 150 200 inmates essex county jail erupted just television news broadcast depicting overcrowding jail sheriff charles reardon told reporters lot destruction inside jail said inmates set small fires pulled pipes walls knocked railings said lot water damage reardon said overcrowding probably factor disturbance inmate guard suffered minor injuries authorities said man identified inmate michael robitaille telephoned union news newspaper springfield jail said violence began shortly 8 p m segment wcvb tv s chronicle series focused conditions jail chronicle producer mark mills said program focused overcrowding salem jail elements troubled criminal justice including overcrowded courts boston don t think provocative said mills look conditions live day\n",
            "5. long pipes don t know got _ bricks bottles people including inmates treated hospitals minor injuries smoke inhalation officials said melee drew 150 state local police riot squads plus 100 firefighters immediate cause uprising wasn t known reardon said said prison filled twice capacity 127 prisoners lawrence house correction holds inmates convicted misdemeanors maximum terms 2 years officials said serves jail persons awaiting trial state correction commissioner michael fair said certainly puts tremendous strain overcrowded plans way new essex county house correction middleton replace lawrence prison according state human services secretary philip johnston prison design stage expected cost 30 million 40 million fair said difficult room state relocate scores prisoners displaced lawrence don t room fair said major loss\n",
            "================================================================================\n",
            "\n",
            "🔍 QID: 2 — Query: accusations cheating contractors u s defense projects document refer alleged illegality committed entity seeking contract behalf u s military forces\n",
            "1. wis said carlucci order absolutely contracts signed 60 days weeks companies involved criminal investigation carlucci make dramatic aspin told costello undersecretary defense acquisition policy going write tough language contracts recoup stuff make sure contracts let legal said aspin aspin noted contractors weapons involved investigation include mcdonnell douglas f 18 line navy fighter year investigation public pentagon went ahead contract awards plane aspin said june 23 pentagon announced granting mcdonnell douglas 960 million contract f 18 work aspin noted s clear pentagon hasn t come plan dealing contractors cloud said costello day long meeting house armed services committee repeatedly defended defense department procurement policies reagan administration congress enact new laws pentagon pass new regulations way ensure cheating costello said costello shied away 5 proposal month defense department officials authority prevent searches contractors facilities fraud investigators costello said wouldn t write memo written\n",
            "2. lawsuit accusing defense contractor charging government building private plane typing bible computer open way fraud investigations secret projects watchdog group says little wedge black world projects secret don t appear defense budget said dina rasor head washington based project military procurement shows expose fraud waste black program divulging sensitive information said rasor spoke news conference wednesday unseal lawsuit alleging fraud overcharging lockheed missiles space leading defense contractor california s high tech silicon valley lawsuit filed u s district court current employee claims lockheed workers waiting months security clearances goofed ran profitable businesses ran football pool built private plane _ government expense proved charges result suspension defense contracts alleged violations california plant cost government 10 million figure higher plaintiffs attorney said expect additional people going step forward additional examples fraud lockheed said oakland lawyer guy t saperstein lockheed plaintiffs charged told employees various government contracts 40 hours worked charge time contracts worked lockheed denied accusations vigorously deny false claims condoned company said company spokesman george mulhern fact ve strong program past years make sure employees know form mischarging wrong lead disciplinary action including dismissal warranted mulhern said company wait receives copy suit responding specific allegations confident suit goes trial company engaged improper practices said lockheed missiles space 23 700 employees sunnyvale develops spacecraft satellite systems submarine launched missiles subsidiary lockheed corp suit filed federal whistle blower law margaret t newsham 45 lockheed analyst martin overbeek bloem 34 engineer works company united states plaintiff law protects whistle blowers retaliation allows judgments companies convicted cheating government complaint seeks damages jury trial false claims suits involving classified black project national security agency surveillance branch defense department newsham bloem held security clearances nsa worked lockheed project 1981 1984 allege huge time wasted lockheed ice box period ranging year 18 months employees work sensitive projects received security clearance given non classified work time wasted saperstein said end week rolled billed united states government 40 hours work essentially employees allegedly ways busy including selling real estate honey belt buckles working cars playing computer games senior manager suit says lockheed machinists build airplane allowed retire plane project discovered lockheed employee wrote entire bible lockheed computer charging government contracts time suit says newsham fired 1984 said company refused reason defense contract audit agency substantiated allegations newsham called defense department hot line 1984 saperstein said reports agency enforcement power filed suit\n",
            "3. sources said 90 percent defense contractors checked pentagon study year sloppy handling classified documents despite assurances given congress defense secretary caspar weinberger program problems study defense investigative service withheld congress weinberger didn t like conclusions according sources speaking condition named open giving documents consultants apparently widely discussed time mrs chewning testified witness recalled mouth fell open contractor met called ask interpretation document written developments fbi said investigated melvyn paisley prior 1981 confirmation senate assistant navy secretary research engineering systems disclose results check federal investigators stacks classified federal documents paisley security clearance possess searched home office washington post reported today s editions citing unidentified informed officials information rep james florio d\n",
            "4. investigators pentagon bribery probe videotaped meetings defense department officials allegedly took payoffs consultants sources close year investigation said saturday sources said key figures investigation victor cohen deputy assistant secretary air force tactical systems james gaines deputy assistant secretary navy appear videotapes sources declined say alleged bribes turned recordings pentagon officials consultants shown videotapes include melvyn paisley procurement chief navy office searched june 7 federal authorities investigation sources said nbc news reported friday night cohen leave pentagon defense consultant meetings consultants recorded videotaped money changed hands sources said gaines videotaped meetings consultants highly confidential documents relating pentagon contracts allegedly changed hands washington post reported cohen deputy assistant secretary air force tactical systems cooperating investigation sources close case said past week gaines cooperating investigation sources continued make assertion saturday sources post said gaines gave statement investigators earlier cooperating prosecutors point defense news reported june 27 editions paisley navy s procurement chief navy secretary john lehman initiated change effectively eliminated company key procurement program 1986 change drop plans separate competitions components aegis weapon instead winner scheme protects ships airborne surface underwater missiles result change defense news quoted unidentified industry officials saying hundreds millions dollars navy contracts aegis went sperry corp unisys corp firms involved pentagon bribery investigation defense news quoted sources attributing shift favored unisys paisley s close association william galvin consultant company publication quoted sources saying galvin boasted having wired aegis competition sperry s favor new york times reported sunday s editions investigators probing northrop corp s involvement alleged fraud appeared concentrating company s contract build navy target drone known bqm 74c drone\n",
            "5. nation s largest defense contractors routinely billing pentagon hundreds millions dollars spent outside consultants frequently justifying explaining work perform special audit defense department partly blame procurement regulations vague according report released friday defense contract audit agency internal business discipline expect large company hiring outsiders cases non existent auditors added review 12 100 defense contractors auditors labeled questionable claims 43 million 236 5 million charged government past year consultant services total questionable claims understated audit adds 12 companies picked auditors included boeing general dynamics corp hughes aircraft ibm litton industries lockheed corp martin marietta corp mcdonnell douglas corp northrop corp raytheon unisys corp united technologies corp locations encountered specific facts caused suspect irregular activity referred matters appropriate investigative agencies audit said did identify sites ibm spokeswoman suzanne garvey said company told auditors ibm companies facing criminal investigation use consultants contractors simply explain work consultants performed auditors wrote cases appears consultants performed lobbying publicity work reimbursed dcaa audit spawned massive fraud investigation pentagon paints picture clubby atmosphere major contractors rarely ask consultant contracts writing frequently hire consultants soliciting competitive bids dcaa expressed concern number consultants encountered high level military civilian personnel department contractors spending considerable sums supplementing complementing virtually house activity professional consultant services auditors wrote existing regulations auditors continued defense contractor government expenses outside consultants long evidence nature scope service furnished standard loose does force contractors truly document paying demonstrate work benefits military audit concluded pentagon releasing audit announced written new regulations address dcaa s concerns public comment period new regulations end dec 5 point final pentagon said dcaa audit ordered july 25 defense secretary frank c carlucci aftermath disclosures federal prosecutors conducting wide ranging fraud investigation focusing contractors outside consultants selected pentagon employees 2 year old investigation centers allegations consultants paid bribes defense department officials gather inside information useful companies bidding multimillion dollar projects charges filed indictments expected later month\n",
            "================================================================================\n",
            "\n",
            "🔍 QID: 3 — Query: insurance coverage pays long term care document discuss insurance coverage long term care confinements\n",
            "1. insurance cover costs nursing home care promoted increasingly years probably isn t good buy americans national consumer group said tuesday considering coverage study policy carefully consumers union warned insurance sales representatives confused coverage offered officials group said news conference consumers union rates 50 long term care policies edition magazine consumer reports finds fault private insurance spread costs large number people make coverage affordable millions need consumers union president rhoda karpatkin said federal government said calling congressional action provide long term care protection gail shearer consumers group said policies providing long term care quite expensive recommended people moderate income prices range high 100 month 260 month people 60 shouldn t buy policies unless guarantee benefits rise pace inflation ms shearer added nonetheless policies offered people tempted buy said problems watch include _protection available people need _ health problems check policies exclusions disallow coverage pre existing conditions _some policies cover certain types care custodial care potentially longest costly type _more half nursing home patients admitted having hospitalized majority long term care policies checked required prior hospitalization benefits provided _alzheimer s disease accounts half nursing home patients majority policies did specifically state covered company flooded claims decide use vague language policies exclude alzheimer s coverage consumers union warned addition group noted policies require confirmed diagnosis provide coverage alzheimer s confirmed autopsy\n",
            "2. ms rivlin acknowledged report envisions private insurance supplementing government program example private insurance cover payments required beneficiaries medicare like plan government role limited kicking privately financed benefits exhausted long term care shaping major issue 1989 way catastrophic coverage acute illness overriding medicare issue year central question 1989 debate extent payment long term care expenses _ nursing homes home _\n",
            "3. private study calls new federal insurance program financed additional payroll taxes pay nursing home bills costs long term care elderly report issued tuesday brookings institution says expansion private insurance help cover costs alice m rivlin head congressional budget office lead author report stopped short saying primary recommendation new government program said main purpose 318 page report compile extensive data congress debate shaping national policy\n",
            "4. 10 people private nursing home insurance likely receive benefits restrictions policies says study released today united seniors health cooperative study consumer advocacy group concludes policies offered sale likely pay adequate benefits people need role private insurance industry filling national need long term care protection role include selling bad policies unsuspecting consumers study said jim firman president washington based group william weissert director program aging university north carolina conducted study based findings analysis 77 typical private long term health care insurance plans offered 21 companies common restriction 77 percent plans person hospitalized condition allowed collect benefits subsequent nursing home care percent nursing home admissions come directly hospital qualify coverage plan restriction report said major limitation included 40 percent plans said people receive skilled level nursing home care qualify lower levels long term care requirement excludes 46 percent nursing home residents study said effect exclusions dramatic troubling combined waiting periods restrictions report said average probability collecting benefits 61 percent admitted nursing home 95 percent plans studied said cover patients alzheimer s disease researchers said 81 percent plans contain major restrictions regarding hospitalization skilled care given long duration deteriorating characteristics alzheimer s disease likely patient s period illness restrictions preclude eligibility coverage said study said common type nursing home coverage 50 day indemnity benefit _ labeled grossly inadequate meet expected costs care purchased plan entered nursing home 20 years study said pocket costs reach 130 000 plan inflation protection thirds companies studied did offer inflation protection people nursing home long period time effect plans studied delay prevent eventual impoverishment researchers said plans studied offered home health care coverage substantial restrictions make unlikely persons need home care collect significant benefits study said common restriction requiring prior covered nursing home confinement policy holder tap home care benefits plans require prior hospitalization according report lawmakers introduced long term care insurance schemes involving federal government joint public private efforts congress expected consider matter seriously year\n",
            "5. highlights house senate compromise catastrophic health insurance hospital _ coverage 365 days year hospital bills year deductible estimated 564 1989 deductible indexed rising hospital costs medicare charges deductible hospital stay year provides payment just 59 days year doctor bills _ payment reasonable proper doctor bills 1 370 annual cap met medicare continues pay 80 percent charges 75 deductible initial deductible 20 percent patient payment count 1 370 cap patient remains responsible portion fees exceed allowed medicare drugs _ medicare pays 50 percent outpatient drug costs 600 annual deductible starting 1991 medicare pays 60 percent following year 80 percent 1993 deductible indexed rising drug costs medicare board prescription drug coverage costs _ paid solely medicare beneficiaries current b premium 24 80 increase 4 month 1989 1993 catastrophic monthly premium projected 10 20 addition regular b premium time 60 percent total program costs financed additional supplemental premium linked federal income tax liability supplemental starts 22 50 year 150 tax liability 1989 rising 42 year 150 tax liability 1993 nursing home _ expands number days year skilled nursing facility care 100 days 150 reduces payment 67 50 day 20th day 20 50 day days provision long term custodial care respite care _ 80 hours year home health services relieve unpaid care providers new benefit home health care _ expands present coverage weeks care illness days week 38 days care illness seven days week hospice care _ expands present 210 days year 365 days year long patient certified terminally ill mammograms _ mammogram examination year women 65 new benefit medicaid _ phases years requirement state medicaid programs pay medicare premiums deductibles payments elderly disabled incomes federal poverty line high qualify medicaid coverage improvement varies widely state state depending state does spousal impoverishment _ gradually raises income retained spouse remaining community husband wife nursing home medicaid expense starting oct 1 1989 spouse home 786 month 122 percent federal poverty level person family spouse allowed 12 000 liquid assets\n",
            "================================================================================\n"
          ]
        }
      ]
    },
    {
      "cell_type": "code",
      "source": [
        "# Install KeyBERT for keyword extraction\n",
        "\n",
        "!pip install -q keybert\n"
      ],
      "metadata": {
        "colab": {
          "base_uri": "https://localhost:8080/"
        },
        "id": "iYMOJSlSDs-p",
        "outputId": "42b2b7e5-b6d4-4a80-9dfa-b11a2ff82850"
      },
      "execution_count": null,
      "outputs": [
        {
          "output_type": "stream",
          "name": "stdout",
          "text": [
            "\u001b[?25l   \u001b[90m━━━━━━━━━━━━━━━━━━━━━━━━━━━━━━━━━━━━━━━━\u001b[0m \u001b[32m0.0/41.4 kB\u001b[0m \u001b[31m?\u001b[0m eta \u001b[36m-:--:--\u001b[0m\r\u001b[2K   \u001b[90m━━━━━━━━━━━━━━━━━━━━━━━━━━━━━━━━━━━━━━━━\u001b[0m \u001b[32m41.4/41.4 kB\u001b[0m \u001b[31m1.5 MB/s\u001b[0m eta \u001b[36m0:00:00\u001b[0m\n",
            "\u001b[?25h"
          ]
        }
      ]
    },
    {
      "cell_type": "code",
      "source": [
        "# Import KeyBERT and initialize it with the pre-loaded SBERT model.\n",
        "\n",
        "from keybert import KeyBERT\n",
        "\n",
        "keybert_model = KeyBERT(model=sbert_model)\n"
      ],
      "metadata": {
        "id": "RUeEpTz1DupZ"
      },
      "execution_count": null,
      "outputs": []
    },
    {
      "cell_type": "code",
      "source": [
        "# Extracts top-n meaningful keywords from a list of sentences using KeyBERT.\n",
        "\n",
        "def extract_keywords_from_sentences(sentences, top_n=5):\n",
        "    combined_text = \" \".join(sentences)\n",
        "    keywords = keybert_model.extract_keywords(combined_text, keyphrase_ngram_range=(1, 2), stop_words='english', top_n=top_n)\n",
        "    return [kw[0] for kw in keywords]\n"
      ],
      "metadata": {
        "id": "J9HoRfzdDynN"
      },
      "execution_count": null,
      "outputs": []
    },
    {
      "cell_type": "code",
      "source": [
        "# Generates query expansions by extracting keywords from semantically similar sentences for all queries.\n",
        "\n",
        "def generate_query_expansions(semantic_sentences_all_queries, top_n_keywords=5):\n",
        "    expansions = []\n",
        "\n",
        "    for item in semantic_sentences_all_queries:\n",
        "        qid = item[\"qid\"]\n",
        "        query = item[\"query\"]\n",
        "        sentences = item[\"sentences\"]\n",
        "\n",
        "        keywords = extract_keywords_from_sentences(sentences, top_n=top_n_keywords)\n",
        "\n",
        "        expansions.append({\n",
        "            \"qid\": qid,\n",
        "            \"original_query\": query,\n",
        "            \"expanded_terms\": keywords,\n",
        "        })\n",
        "\n",
        "    return expansions\n"
      ],
      "metadata": {
        "id": "W8DwXF6WEEiH"
      },
      "execution_count": null,
      "outputs": []
    },
    {
      "cell_type": "code",
      "source": [
        "# Expansions only title\n",
        "expansions_default_only_title = generate_query_expansions(\n",
        "    semantic_sentences_default_only_title,\n",
        "    top_n_keywords=5\n",
        ")\n",
        "\n",
        "expansions_tuned_only_title = generate_query_expansions(\n",
        "    semantic_sentences_tuned_only_title,\n",
        "    top_n_keywords=5\n",
        ")"
      ],
      "metadata": {
        "id": "qBokpQTEEchz"
      },
      "execution_count": null,
      "outputs": []
    },
    {
      "cell_type": "code",
      "source": [
        "# Expansions title and desc\n",
        "expansions_default_with_desc = generate_query_expansions(\n",
        "    semantic_sentences_default_with_desc,\n",
        "    top_n_keywords=5\n",
        ")\n",
        "\n",
        "\n",
        "expansions_tuned_with_desc = generate_query_expansions(\n",
        "    semantic_sentences_tuned_with_desc,\n",
        "    top_n_keywords=5\n",
        ")"
      ],
      "metadata": {
        "id": "JgLAe1LWkFw8"
      },
      "execution_count": null,
      "outputs": []
    },
    {
      "cell_type": "code",
      "source": [
        "# Prints the first three query expansions with their original queries and expanded terms.\n",
        "\n",
        "def print_query_expansions(expansions_list, title):\n",
        "    print(f\"\\n{'='*20} {title} {'='*20}\")\n",
        "    for exp in expansions_list[:3]:\n",
        "        print(f\"\\n🔍 QID: {exp['qid']}\")\n",
        "        print(f\"🧠 Original Query: {exp['original_query']}\")\n",
        "        print(f\"➕ Expanded Terms: {exp['expanded_terms']}\")\n"
      ],
      "metadata": {
        "id": "9NuflZIkEfVM"
      },
      "execution_count": null,
      "outputs": []
    },
    {
      "cell_type": "code",
      "source": [
        "print_query_expansions(expansions_default_only_title, \"DEFAULT — ONLY TITLE\")\n",
        "print_query_expansions(expansions_tuned_only_title, \"TUNED — ONLY TITLE\")"
      ],
      "metadata": {
        "id": "w_vBEmyXEgrv",
        "colab": {
          "base_uri": "https://localhost:8080/"
        },
        "outputId": "2fe8a94c-2b8d-4fdd-bef4-a15d779ae27b"
      },
      "execution_count": null,
      "outputs": [
        {
          "output_type": "stream",
          "name": "stdout",
          "text": [
            "\n",
            "==================== DEFAULT — ONLY TITLE ====================\n",
            "\n",
            "🔍 QID: 1\n",
            "🧠 Original Query: coping overcrowded prisons\n",
            "➕ Expanded Terms: ['inmates escaped', 'inmates rioted', 'fence inmates', 'fence prisoners', 'security prison']\n",
            "\n",
            "🔍 QID: 2\n",
            "🧠 Original Query: accusations cheating contractors u s defense projects\n",
            "➕ Expanded Terms: ['contractors pentagon', 'contractor pentagon', 'bribes pentagon', 'defense contractors', 'consultants pentagon']\n",
            "\n",
            "🔍 QID: 3\n",
            "🧠 Original Query: insurance coverage pays long term care\n",
            "➕ Expanded Terms: ['care policies', 'insurance coverage', 'coverage consumers', 'medicare insurance', 'alzheimer coverage']\n",
            "\n",
            "==================== TUNED — ONLY TITLE ====================\n",
            "\n",
            "🔍 QID: 1\n",
            "🧠 Original Query: coping overcrowded prisons\n",
            "➕ Expanded Terms: ['inmates escaped', 'inmates rioted', 'prisoners escaped', 'fence inmates', 'fence prisoners']\n",
            "\n",
            "🔍 QID: 2\n",
            "🧠 Original Query: accusations cheating contractors u s defense projects\n",
            "➕ Expanded Terms: ['contractors pentagon', 'contractor pentagon', 'bribes pentagon', 'defense contractors', 'consultants pentagon']\n",
            "\n",
            "🔍 QID: 3\n",
            "🧠 Original Query: insurance coverage pays long term care\n",
            "➕ Expanded Terms: ['care policies', 'insurance coverage', 'coverage consumers', 'medicare insurance', 'alzheimer coverage']\n"
          ]
        }
      ]
    },
    {
      "cell_type": "code",
      "source": [
        "print_query_expansions(expansions_default_with_desc, \"DEFAULT — WITH DESC\")\n",
        "print_query_expansions(expansions_tuned_with_desc, \"TUNED — WITH DESC\")"
      ],
      "metadata": {
        "id": "GNc845ewkJUC",
        "colab": {
          "base_uri": "https://localhost:8080/"
        },
        "outputId": "e13dd41b-92ea-4a20-bbc6-719f7ec2ba51"
      },
      "execution_count": null,
      "outputs": [
        {
          "output_type": "stream",
          "name": "stdout",
          "text": [
            "\n",
            "==================== DEFAULT — WITH DESC ====================\n",
            "\n",
            "🔍 QID: 1\n",
            "🧠 Original Query: coping overcrowded prisons document provide information jail prison overcrowding inmates forced cope conditions reveal plans relieve overcrowded condition\n",
            "➕ Expanded Terms: ['ordered inmate', 'federal prisons', 'closing prison', 'overcrowding jail', 'jail overcrowding']\n",
            "\n",
            "🔍 QID: 2\n",
            "🧠 Original Query: accusations cheating contractors u s defense projects document refer alleged illegality committed entity seeking contract behalf u s military forces\n",
            "➕ Expanded Terms: ['pentagon contracts', 'defense contractors', 'force contractors', 'defense contractor', 'investigation pentagon']\n",
            "\n",
            "🔍 QID: 3\n",
            "🧠 Original Query: insurance coverage pays long term care document discuss insurance coverage long term care confinements\n",
            "➕ Expanded Terms: ['care coverage', 'care insurance', 'medicare premiums', 'care policies', 'covered nursing']\n",
            "\n",
            "==================== TUNED — WITH DESC ====================\n",
            "\n",
            "🔍 QID: 1\n",
            "🧠 Original Query: coping overcrowded prisons document provide information jail prison overcrowding inmates forced cope conditions reveal plans relieve overcrowded condition\n",
            "➕ Expanded Terms: ['ordered inmate', 'federal prisons', 'closing prison', 'overcrowding jail', 'jail overcrowding']\n",
            "\n",
            "🔍 QID: 2\n",
            "🧠 Original Query: accusations cheating contractors u s defense projects document refer alleged illegality committed entity seeking contract behalf u s military forces\n",
            "➕ Expanded Terms: ['pentagon contracts', 'defense contractors', 'force contractors', 'defense contractor', 'investigation pentagon']\n",
            "\n",
            "🔍 QID: 3\n",
            "🧠 Original Query: insurance coverage pays long term care document discuss insurance coverage long term care confinements\n",
            "➕ Expanded Terms: ['care coverage', 'care insurance', 'medicare premiums', 'care policies', 'covered nursing']\n"
          ]
        }
      ]
    },
    {
      "cell_type": "code",
      "source": [
        "# Cleans duplicate and similar keyword phrases; optionally removes single-word phrases.\n",
        "\n",
        "def clean_expansion_terms(phrases, remove_single_word=True):\n",
        "    \"\"\"\n",
        "    Tekrar eden ve benzer kelime kombinasyonuna sahip phrase'leri temizler.\n",
        "    Example: 'insurance coverage' and 'coverage insurance' -> one of them keeps\n",
        "    \"\"\"\n",
        "    seen = set()\n",
        "    cleaned = []\n",
        "    for phrase in phrases:\n",
        "        key = tuple(sorted(phrase.lower().split()))\n",
        "        if key not in seen:\n",
        "            seen.add(key)\n",
        "            cleaned.append(phrase)\n",
        "\n",
        "    # İstenirse tek kelimelik terimleri çıkar\n",
        "    if remove_single_word:\n",
        "        cleaned = [p for p in cleaned if len(p.strip().split()) > 1]\n",
        "\n",
        "    return cleaned\n"
      ],
      "metadata": {
        "id": "Ls3Z3I1liSNj"
      },
      "execution_count": null,
      "outputs": []
    },
    {
      "cell_type": "code",
      "source": [
        "# Expands the original query by appending cleaned and limited duplicate expansion terms.\n",
        "\n",
        "def expand_query(original_query, expansion_terms):\n",
        "    expansion_text = limit_term_duplicates(expansion_terms)\n",
        "    expanded_query = f\"{original_query} {expansion_text}\"\n",
        "\n",
        "    return expanded_query.strip()\n",
        "\n",
        "\n"
      ],
      "metadata": {
        "id": "ZcWafZrKOBjE"
      },
      "execution_count": null,
      "outputs": []
    },
    {
      "cell_type": "code",
      "source": [
        "# Limits the occurrences of each expansion term to a maximum count to avoid over-repetition.\n",
        "\n",
        "from collections import Counter\n",
        "\n",
        "def limit_term_duplicates(expansion_terms, max_occurrences=2):\n",
        "    # Flatten phrases into words\n",
        "    all_tokens = \" \".join(expansion_terms).split()\n",
        "    counts = Counter()\n",
        "    filtered_tokens = []\n",
        "\n",
        "    for token in all_tokens:\n",
        "        if counts[token] < max_occurrences:\n",
        "            filtered_tokens.append(token)\n",
        "            counts[token] += 1\n",
        "\n",
        "    return \" \".join(filtered_tokens)\n"
      ],
      "metadata": {
        "id": "AHHkwAJSn8a3"
      },
      "execution_count": null,
      "outputs": []
    },
    {
      "cell_type": "code",
      "source": [
        "def build_expanded_query(original_query, expanded_terms):\n",
        "    return f'{original_query} OR ' + \" OR \".join(expanded_terms)\n"
      ],
      "metadata": {
        "id": "ZizvkH_tXjn9"
      },
      "execution_count": null,
      "outputs": []
    },
    {
      "cell_type": "code",
      "source": [
        "def update_all_expansions_with_query(expansion_lists):\n",
        "    for expansion_list in expansion_lists:\n",
        "        for item in expansion_list:\n",
        "            query = item[\"original_query\"]\n",
        "            keywords = item[\"expanded_terms\"]\n",
        "            item[\"expanded_query\"] = expand_query(query, keywords) #build_expanded_query(query, keywords)\n"
      ],
      "metadata": {
        "id": "geB8ThRVbiL3"
      },
      "execution_count": null,
      "outputs": []
    },
    {
      "cell_type": "code",
      "source": [
        "update_all_expansions_with_query([\n",
        "    expansions_default_only_title,\n",
        "    expansions_tuned_only_title,\n",
        "])\n"
      ],
      "metadata": {
        "id": "JrdmfM6Nbjuo"
      },
      "execution_count": null,
      "outputs": []
    },
    {
      "cell_type": "code",
      "source": [
        "update_all_expansions_with_query([\n",
        "    expansions_default_with_desc,\n",
        "    expansions_tuned_with_desc\n",
        "])"
      ],
      "metadata": {
        "id": "5Hc5XT_YkO6X"
      },
      "execution_count": null,
      "outputs": []
    },
    {
      "cell_type": "code",
      "source": [
        "def print_query_expansions(expansions_list, title):\n",
        "    print(f\"\\n{'='*20} {title} {'='*20}\")\n",
        "    for exp in expansions_list[:3]:\n",
        "        print(f\"\\n🔍 QID: {exp['qid']}\")\n",
        "        print(f\"🧠 Original Query: {exp['original_query']}\")\n",
        "        print(f\"➕ Expanded Terms: {exp['expanded_terms']}\")\n",
        "        print(f\"➕ Expanded Query: {exp['expanded_query']}\")"
      ],
      "metadata": {
        "id": "mauzvjkBfxFd"
      },
      "execution_count": null,
      "outputs": []
    },
    {
      "cell_type": "code",
      "source": [
        "print_query_expansions(expansions_default_only_title, \"DEFAULT — ONLY TITLE\")\n",
        "print_query_expansions(expansions_tuned_only_title, \"TUNED — ONLY TITLE\")"
      ],
      "metadata": {
        "id": "DIDzyHUAf2Et",
        "colab": {
          "base_uri": "https://localhost:8080/"
        },
        "outputId": "8d31c0f5-2786-4fdf-e09a-a97dea16c882"
      },
      "execution_count": null,
      "outputs": [
        {
          "output_type": "stream",
          "name": "stdout",
          "text": [
            "\n",
            "==================== DEFAULT — ONLY TITLE ====================\n",
            "\n",
            "🔍 QID: 1\n",
            "🧠 Original Query: coping overcrowded prisons\n",
            "➕ Expanded Terms: ['inmates escaped', 'inmates rioted', 'fence inmates', 'fence prisoners', 'security prison']\n",
            "➕ Expanded Query: coping overcrowded prisons inmates escaped inmates rioted fence fence prisoners security prison\n",
            "\n",
            "🔍 QID: 2\n",
            "🧠 Original Query: accusations cheating contractors u s defense projects\n",
            "➕ Expanded Terms: ['contractors pentagon', 'contractor pentagon', 'bribes pentagon', 'defense contractors', 'consultants pentagon']\n",
            "➕ Expanded Query: accusations cheating contractors u s defense projects contractors pentagon contractor pentagon bribes defense contractors consultants\n",
            "\n",
            "🔍 QID: 3\n",
            "🧠 Original Query: insurance coverage pays long term care\n",
            "➕ Expanded Terms: ['care policies', 'insurance coverage', 'coverage consumers', 'medicare insurance', 'alzheimer coverage']\n",
            "➕ Expanded Query: insurance coverage pays long term care care policies insurance coverage coverage consumers medicare insurance alzheimer\n",
            "\n",
            "==================== TUNED — ONLY TITLE ====================\n",
            "\n",
            "🔍 QID: 1\n",
            "🧠 Original Query: coping overcrowded prisons\n",
            "➕ Expanded Terms: ['inmates escaped', 'inmates rioted', 'prisoners escaped', 'fence inmates', 'fence prisoners']\n",
            "➕ Expanded Query: coping overcrowded prisons inmates escaped inmates rioted prisoners escaped fence fence prisoners\n",
            "\n",
            "🔍 QID: 2\n",
            "🧠 Original Query: accusations cheating contractors u s defense projects\n",
            "➕ Expanded Terms: ['contractors pentagon', 'contractor pentagon', 'bribes pentagon', 'defense contractors', 'consultants pentagon']\n",
            "➕ Expanded Query: accusations cheating contractors u s defense projects contractors pentagon contractor pentagon bribes defense contractors consultants\n",
            "\n",
            "🔍 QID: 3\n",
            "🧠 Original Query: insurance coverage pays long term care\n",
            "➕ Expanded Terms: ['care policies', 'insurance coverage', 'coverage consumers', 'medicare insurance', 'alzheimer coverage']\n",
            "➕ Expanded Query: insurance coverage pays long term care care policies insurance coverage coverage consumers medicare insurance alzheimer\n"
          ]
        }
      ]
    },
    {
      "cell_type": "code",
      "source": [
        "print_query_expansions(expansions_default_with_desc, \"DEFAULT — WITH DESC\")\n",
        "print_query_expansions(expansions_tuned_with_desc, \"TUNED — WITH DESC\")"
      ],
      "metadata": {
        "id": "5U53BrbPkSlx"
      },
      "execution_count": null,
      "outputs": []
    },
    {
      "cell_type": "code",
      "source": [
        "# 1. Default BM25 + only_title expanded\n",
        "df_exp_default_only_title = pd.DataFrame([\n",
        "    {\"qid\": item[\"qid\"], \"query\": item[\"expanded_query\"]}\n",
        "    for item in expansions_default_only_title\n",
        "])\n",
        "\n",
        "# 2. Tuned BM25 + only_title expanded\n",
        "df_exp_tuned_only_title = pd.DataFrame([\n",
        "    {\"qid\": item[\"qid\"], \"query\": item[\"expanded_query\"]}\n",
        "    for item in expansions_tuned_only_title\n",
        "])"
      ],
      "metadata": {
        "id": "9isVqzGiVPut"
      },
      "execution_count": null,
      "outputs": []
    },
    {
      "cell_type": "code",
      "source": [
        "\n",
        "# 3. Default BM25 + with_desc expanded\n",
        "df_exp_default_with_desc = pd.DataFrame([\n",
        "    {\"qid\": item[\"qid\"], \"query\": item[\"expanded_query\"]}\n",
        "    for item in expansions_default_with_desc\n",
        "])\n",
        "\n",
        "# 4. Tuned BM25 + with_desc expanded\n",
        "df_exp_tuned_with_desc = pd.DataFrame([\n",
        "    {\"qid\": item[\"qid\"], \"query\": item[\"expanded_query\"]}\n",
        "    for item in expansions_tuned_with_desc\n",
        "])\n"
      ],
      "metadata": {
        "id": "QSw0PlXYkVnz"
      },
      "execution_count": null,
      "outputs": []
    },
    {
      "cell_type": "code",
      "source": [
        "# Evaluates the BM25 retriever (only expanded title queries) using qrels and standard IR metrics.\n",
        "\n",
        "eval = pt.Experiment(\n",
        "    [bm25],\n",
        "    topics=df_exp_default_only_title,\n",
        "    qrels=qrels,\n",
        "    eval_metrics=[\"map\", \"P.10\", \"recall.100\", \"ndcg\"],\n",
        "    names=[\"BM25\"]\n",
        ")\n",
        "\n",
        "print(eval)"
      ],
      "metadata": {
        "colab": {
          "base_uri": "https://localhost:8080/"
        },
        "id": "N4IDReELU6co",
        "outputId": "f1eb30ba-734c-4d3a-e923-41dd86436f82"
      },
      "execution_count": null,
      "outputs": [
        {
          "output_type": "stream",
          "name": "stdout",
          "text": [
            "   name       map  P.10  recall.100      ndcg\n",
            "0  BM25  0.265549  0.39    0.519095  0.443074\n"
          ]
        }
      ]
    },
    {
      "cell_type": "code",
      "source": [
        "# Evaluates the tuned BM25 retriever (only expanded title queries) using qrels and standard IR metrics.\n",
        "\n",
        "eval = pt.Experiment(\n",
        "    [bm25_best_for_only_title],\n",
        "    topics=df_exp_tuned_only_title,\n",
        "    qrels=qrels,\n",
        "    eval_metrics=[\"map\", \"P.10\", \"recall.100\", \"ndcg\"],\n",
        "    names=[\"BM25\"]\n",
        ")\n",
        "\n",
        "print(eval)"
      ],
      "metadata": {
        "colab": {
          "base_uri": "https://localhost:8080/"
        },
        "id": "SmWanJgCU6j1",
        "outputId": "ad827cc9-44ad-49a8-a0cb-c60dc65e2d9e"
      },
      "execution_count": null,
      "outputs": [
        {
          "output_type": "stream",
          "name": "stdout",
          "text": [
            "   name       map   P.10  recall.100      ndcg\n",
            "0  BM25  0.276782  0.408    0.511983  0.453036\n"
          ]
        }
      ]
    },
    {
      "cell_type": "code",
      "source": [
        "# Evaluates the BM25 retriever (expanded title and desc queries) using qrels and standard IR metrics.\n",
        "\n",
        "eval = pt.Experiment(\n",
        "    [bm25],\n",
        "    topics=df_exp_default_with_desc,\n",
        "    qrels=qrels,\n",
        "    eval_metrics=[\"map\", \"P.10\", \"recall.100\", \"ndcg\"],\n",
        "    names=[\"BM25\"]\n",
        ")\n",
        "\n",
        "print(eval)"
      ],
      "metadata": {
        "colab": {
          "base_uri": "https://localhost:8080/"
        },
        "id": "Fal53iDSU5p_",
        "outputId": "a5873afa-4141-42e3-e002-a3a67813ea0d"
      },
      "execution_count": null,
      "outputs": [
        {
          "output_type": "stream",
          "name": "stdout",
          "text": [
            "   name       map   P.10  recall.100      ndcg\n",
            "0  BM25  0.325146  0.436     0.62471  0.535099\n"
          ]
        }
      ]
    },
    {
      "cell_type": "code",
      "source": [
        "# Evaluates the tunedBM25 retriever (expanded title and desc queries) using qrels and standard IR metrics.\n",
        "\n",
        "eval = pt.Experiment(\n",
        "    [bm25_best_for_with_desc],\n",
        "    topics=df_exp_tuned_with_desc,\n",
        "    qrels=qrels,\n",
        "    eval_metrics=[\"map\", \"P.10\", \"recall.100\", \"ndcg\"],\n",
        "    names=[\"BM25\"]\n",
        ")\n",
        "\n",
        "print(eval)"
      ],
      "metadata": {
        "colab": {
          "base_uri": "https://localhost:8080/"
        },
        "id": "XAFeRxc0U6Vx",
        "outputId": "b1a56eab-9b3f-41b8-efac-8c4d1af2adca"
      },
      "execution_count": null,
      "outputs": [
        {
          "output_type": "stream",
          "name": "stdout",
          "text": [
            "   name       map  P.10  recall.100     ndcg\n",
            "0  BM25  0.320018  0.44    0.624196  0.53306\n"
          ]
        }
      ]
    },
    {
      "cell_type": "code",
      "source": [
        "# Expands queries by extracting top TF-IDF keywords from their top semantic sentences.\n",
        "\n",
        "from sklearn.feature_extraction.text import TfidfVectorizer\n",
        "\n",
        "def expand_queries_tfidf(semantic_list, top_k_terms=5):\n",
        "    expanded = []\n",
        "\n",
        "    for item in semantic_list:\n",
        "        qid = item[\"qid\"]\n",
        "        original_query = item[\"query\"]\n",
        "        sentences = item[\"sentences\"]\n",
        "\n",
        "        tfidf = TfidfVectorizer(stop_words='english', max_features=100)\n",
        "        X = tfidf.fit_transform(sentences)\n",
        "        feature_array = tfidf.get_feature_names_out()\n",
        "\n",
        "        summed_tfidf = X.sum(axis=0).A1\n",
        "        top_indices = summed_tfidf.argsort()[::-1][:top_k_terms]\n",
        "        top_keywords = [feature_array[i] for i in top_indices]\n",
        "\n",
        "        # Expand query\n",
        "        expanded_query = original_query + \" \" + \" \".join(top_keywords)\n",
        "        expanded.append({\n",
        "            \"qid\": qid,\n",
        "            \"original_query\": original_query,\n",
        "            \"expanded_query\": expanded_query,\n",
        "            \"keywords_added\": top_keywords\n",
        "        })\n",
        "\n",
        "    return expanded\n"
      ],
      "metadata": {
        "id": "43s4rL_HPUIZ"
      },
      "execution_count": null,
      "outputs": []
    },
    {
      "cell_type": "code",
      "source": [
        "# Get top 10 most similar sentences with SBERT\n",
        "semantic_sentences_default_only_title_10s = extract_top_semantic_sentences_for_all_queries(\n",
        "    queries_df=queries_df_only_title,\n",
        "    top10_df=default_top10_df_all_queries_only_title,\n",
        "    top_k_sent=10\n",
        ")\n",
        "\n",
        "semantic_sentences_tuned_only_title_10s = extract_top_semantic_sentences_for_all_queries(\n",
        "    queries_df=queries_df_only_title,\n",
        "    top10_df=tuned_top10_df_all_queries_only_title,\n",
        "    top_k_sent=10\n",
        ")"
      ],
      "metadata": {
        "id": "A4aYVl_rXRdq"
      },
      "execution_count": null,
      "outputs": []
    },
    {
      "cell_type": "code",
      "source": [
        "#Expand queries by choosing expansion terms with TF-IDF from SBERT sentences for parameter tuned BM25\n",
        "sbert_exp_tuned_only_title_tfidf = expand_queries_tfidf(semantic_sentences_tuned_only_title_10s)\n",
        "\n",
        "for item in sbert_exp_tuned_only_title_tfidf[:3]:\n",
        "    print(f\"\\n🔍 QID: {item['qid']}\")\n",
        "    print(f\"Original : {item['original_query']}\")\n",
        "    print(f\"Expanded : {item['expanded_query']}\")\n",
        "    print(f\"Keywords : {item['keywords_added']}\")\n"
      ],
      "metadata": {
        "id": "tvCiFYMqPZC8",
        "colab": {
          "base_uri": "https://localhost:8080/"
        },
        "outputId": "b409945d-0f6b-48af-faea-562b770bbfc9"
      },
      "execution_count": null,
      "outputs": [
        {
          "output_type": "stream",
          "name": "stdout",
          "text": [
            "\n",
            "🔍 QID: 1\n",
            "Original : coping overcrowded prisons\n",
            "Expanded : coping overcrowded prisons said prison inmates police state\n",
            "Keywords : ['said', 'prison', 'inmates', 'police', 'state']\n",
            "\n",
            "🔍 QID: 2\n",
            "Original : accusations cheating contractors u s defense projects\n",
            "Expanded : accusations cheating contractors u s defense projects defense said pentagon contractors information\n",
            "Keywords : ['defense', 'said', 'pentagon', 'contractors', 'information']\n",
            "\n",
            "🔍 QID: 3\n",
            "Original : insurance coverage pays long term care\n",
            "Expanded : insurance coverage pays long term care care said coverage percent insurance\n",
            "Keywords : ['care', 'said', 'coverage', 'percent', 'insurance']\n"
          ]
        }
      ]
    },
    {
      "cell_type": "code",
      "source": [
        "#Expand queries by choosing expansion terms with TF-IDF from SBERT sentences for default BM25\n",
        "sbert_exp_default_only_title_tfidf = expand_queries_tfidf(semantic_sentences_default_only_title_10s)\n",
        "\n",
        "for item in sbert_exp_default_only_title_tfidf[:3]:\n",
        "    print(f\"\\n🔍 QID: {item['qid']}\")\n",
        "    print(f\"Original : {item['original_query']}\")\n",
        "    print(f\"Expanded : {item['expanded_query']}\")\n",
        "    print(f\"Keywords : {item['keywords_added']}\")\n"
      ],
      "metadata": {
        "id": "K3PjFrVqSFP0",
        "colab": {
          "base_uri": "https://localhost:8080/"
        },
        "outputId": "c2903899-2779-4cb7-d77d-925a320fa6a4"
      },
      "execution_count": null,
      "outputs": [
        {
          "output_type": "stream",
          "name": "stdout",
          "text": [
            "\n",
            "🔍 QID: 1\n",
            "Original : coping overcrowded prisons\n",
            "Expanded : coping overcrowded prisons said prison police inmates prisoners\n",
            "Keywords : ['said', 'prison', 'police', 'inmates', 'prisoners']\n",
            "\n",
            "🔍 QID: 2\n",
            "Original : accusations cheating contractors u s defense projects\n",
            "Expanded : accusations cheating contractors u s defense projects defense said pentagon contractors information\n",
            "Keywords : ['defense', 'said', 'pentagon', 'contractors', 'information']\n",
            "\n",
            "🔍 QID: 3\n",
            "Original : insurance coverage pays long term care\n",
            "Expanded : insurance coverage pays long term care care said coverage percent insurance\n",
            "Keywords : ['care', 'said', 'coverage', 'percent', 'insurance']\n"
          ]
        }
      ]
    },
    {
      "cell_type": "code",
      "source": [
        "#Run parameter tuned BM25 with expanded queries\n",
        "\n",
        "df_sbert_exp_tuned_only_title_tfidf = pd.DataFrame([\n",
        "    {\"qid\": item[\"qid\"], \"query\": item[\"expanded_query\"]}\n",
        "    for item in sbert_exp_tuned_only_title_tfidf  # output of expand_queries_tfidf()\n",
        "])\n",
        "eval = pt.Experiment(\n",
        "    [bm25_best_for_only_title],\n",
        "    topics=df_sbert_exp_tuned_only_title_tfidf,      # qid + query içeren DF\n",
        "    qrels=qrels,            # qid + docno + relevance\n",
        "    eval_metrics=[\"map\", \"P.10\", \"recall.100\", \"ndcg\"],\n",
        "    names=[\"BM25\"]\n",
        ")\n",
        "\n",
        "print(eval)"
      ],
      "metadata": {
        "colab": {
          "base_uri": "https://localhost:8080/"
        },
        "id": "DOQv5eTVPuHK",
        "outputId": "195bd9f1-d0c7-45da-e4db-2be86aecea40"
      },
      "execution_count": null,
      "outputs": [
        {
          "output_type": "stream",
          "name": "stdout",
          "text": [
            "   name       map   P.10  recall.100      ndcg\n",
            "0  BM25  0.290716  0.434    0.544269  0.468388\n"
          ]
        }
      ]
    },
    {
      "cell_type": "code",
      "source": [
        "#Run default BM25 with expanded queries\n",
        "\n",
        "df_sbert_exp_default_only_title_tfidf = pd.DataFrame([\n",
        "    {\"qid\": item[\"qid\"], \"query\": item[\"expanded_query\"]}\n",
        "    for item in sbert_exp_default_only_title_tfidf  # output of expand_queries_tfidf()\n",
        "])\n",
        "eval = pt.Experiment(\n",
        "    [bm25],\n",
        "    topics=df_sbert_exp_default_only_title_tfidf,      # qid + query içeren DF\n",
        "    qrels=qrels,            # qid + docno + relevance\n",
        "    eval_metrics=[\"map\", \"P.10\", \"recall.100\", \"ndcg\"],\n",
        "    names=[\"BM25\"]\n",
        ")\n",
        "\n",
        "print(eval)"
      ],
      "metadata": {
        "colab": {
          "base_uri": "https://localhost:8080/"
        },
        "id": "VqfwuSmCSLRM",
        "outputId": "80f23dfe-086d-4ce6-a89c-cdc1742cdbb8"
      },
      "execution_count": null,
      "outputs": [
        {
          "output_type": "stream",
          "name": "stdout",
          "text": [
            "   name       map   P.10  recall.100      ndcg\n",
            "0  BM25  0.279171  0.428    0.518044  0.445057\n"
          ]
        }
      ]
    },
    {
      "cell_type": "code",
      "source": [
        "# Expands queries by extracting top TF-IDF keywords from their top-10 retrieved documents.\n",
        "\n",
        "from sklearn.feature_extraction.text import TfidfVectorizer\n",
        "\n",
        "def expand_queries_with_tfidf_from_top10(queries_df, top10_df, top_k_terms=5):\n",
        "    results = []\n",
        "\n",
        "    for _, row in queries_df.iterrows():\n",
        "        qid = row[\"qid\"]\n",
        "        query_text = row[\"query\"]\n",
        "        original_tokens = set(query_text.lower().split())\n",
        "\n",
        "        # Get top-10 docs for that query\n",
        "        doc_df = top10_df[top10_df[\"qid\"] == qid]\n",
        "        documents = doc_df[\"text\"].dropna().tolist()  # field = \"text\", \"title\", etc.\n",
        "\n",
        "        if not documents:\n",
        "            results.append({\n",
        "                \"qid\": qid,\n",
        "                \"query\": query_text,\n",
        "                \"expanded_query\": query_text,\n",
        "                \"keywords_added\": []\n",
        "            })\n",
        "            continue\n",
        "\n",
        "        # TF-IDF on top-10 docs' texts\n",
        "        tfidf = TfidfVectorizer(stop_words=\"english\", max_features=100)\n",
        "        X = tfidf.fit_transform(documents)\n",
        "        feature_array = tfidf.get_feature_names_out()\n",
        "        summed_tfidf = X.sum(axis=0).A1\n",
        "\n",
        "        top_indices = summed_tfidf.argsort()[::-1][:top_k_terms]\n",
        "        top_keywords = [feature_array[i] for i in top_indices]\n",
        "\n",
        "        # Expand query\n",
        "        expanded_query = query_text + \" \" + \" \".join(top_keywords)\n",
        "        results.append({\n",
        "            \"qid\": qid,\n",
        "            \"query\": query_text,\n",
        "            \"expanded_query\": expanded_query,\n",
        "            \"keywords_added\": top_keywords\n",
        "        })\n",
        "\n",
        "    return results\n"
      ],
      "metadata": {
        "id": "qkFCQSr6Q_Yq"
      },
      "execution_count": null,
      "outputs": []
    },
    {
      "cell_type": "code",
      "source": [
        "#Expand queries by choosing expansion terms with TF-IDF from top 10 retrieved docs for parameter tuned BM25\n",
        "exp_tuned_only_title_only_tfidf = expand_queries_with_tfidf_from_top10(\n",
        "    queries_df=queries_df_only_title,\n",
        "    top10_df=tuned_top10_df_all_queries_only_title,\n",
        "    top_k_terms=5\n",
        ")\n",
        "\n",
        "\n",
        "for item in exp_tuned_only_title_only_tfidf[:3]:\n",
        "    print(f\"\\n🔍 QID: {item['qid']}\")\n",
        "    print(f\"Original Query : {item['query']}\")\n",
        "    print(f\"Expanded Query : {item['expanded_query']}\")\n",
        "    print(f\"Added Keywords : {item['keywords_added']}\")\n"
      ],
      "metadata": {
        "id": "wncsdbqGRDcV",
        "colab": {
          "base_uri": "https://localhost:8080/"
        },
        "outputId": "9ddbd540-9d8e-4a00-a030-762193a31a95"
      },
      "execution_count": null,
      "outputs": [
        {
          "output_type": "stream",
          "name": "stdout",
          "text": [
            "\n",
            "🔍 QID: 1\n",
            "Original Query : coping overcrowded prisons\n",
            "Expanded Query : coping overcrowded prisons said prison inmates state prisoners\n",
            "Added Keywords : ['said', 'prison', 'inmates', 'state', 'prisoners']\n",
            "\n",
            "🔍 QID: 2\n",
            "Original Query : accusations cheating contractors u s defense projects\n",
            "Expanded Query : accusations cheating contractors u s defense projects pentagon said defense contractors lockheed\n",
            "Added Keywords : ['pentagon', 'said', 'defense', 'contractors', 'lockheed']\n",
            "\n",
            "🔍 QID: 3\n",
            "Original Query : insurance coverage pays long term care\n",
            "Expanded Query : insurance coverage pays long term care care said health medicare insurance\n",
            "Added Keywords : ['care', 'said', 'health', 'medicare', 'insurance']\n"
          ]
        }
      ]
    },
    {
      "cell_type": "code",
      "source": [
        "#Expand queries by choosing expansion terms with TF-IDF from top 10 retrieved docs for default BM25\n",
        "\n",
        "exp_default_only_title_only_tfidf = expand_queries_with_tfidf_from_top10(\n",
        "    queries_df=queries_df_only_title,\n",
        "    top10_df=default_top10_df_all_queries_only_title,\n",
        "    top_k_terms=5\n",
        ")\n",
        "\n",
        "\n",
        "for item in exp_default_only_title_only_tfidf[:3]:\n",
        "    print(f\"\\n🔍 QID: {item['qid']}\")\n",
        "    print(f\"Original Query : {item['query']}\")\n",
        "    print(f\"Expanded Query : {item['expanded_query']}\")\n",
        "    print(f\"Added Keywords : {item['keywords_added']}\")\n"
      ],
      "metadata": {
        "id": "WBhepxLGTLJG",
        "colab": {
          "base_uri": "https://localhost:8080/"
        },
        "outputId": "a29084a2-3dfa-46a0-df0d-224d657b1369"
      },
      "execution_count": null,
      "outputs": [
        {
          "output_type": "stream",
          "name": "stdout",
          "text": [
            "\n",
            "🔍 QID: 1\n",
            "Original Query : coping overcrowded prisons\n",
            "Expanded Query : coping overcrowded prisons said prison military inmates overcrowding\n",
            "Added Keywords : ['said', 'prison', 'military', 'inmates', 'overcrowding']\n",
            "\n",
            "🔍 QID: 2\n",
            "Original Query : accusations cheating contractors u s defense projects\n",
            "Expanded Query : accusations cheating contractors u s defense projects pentagon fraud contractors defense said\n",
            "Added Keywords : ['pentagon', 'fraud', 'contractors', 'defense', 'said']\n",
            "\n",
            "🔍 QID: 3\n",
            "Original Query : insurance coverage pays long term care\n",
            "Expanded Query : insurance coverage pays long term care care said medicare health home\n",
            "Added Keywords : ['care', 'said', 'medicare', 'health', 'home']\n"
          ]
        }
      ]
    },
    {
      "cell_type": "code",
      "source": [
        "#Run parameter tuned BM25 with expanded queries\n",
        "\n",
        "df_exp_tuned_only_title_only_tfidf = pd.DataFrame([\n",
        "    {\"qid\": item[\"qid\"], \"query\": item[\"expanded_query\"]}\n",
        "    for item in exp_tuned_only_title_only_tfidf  # output of expand_queries_tfidf()\n",
        "])\n",
        "eval = pt.Experiment(\n",
        "    [bm25_best_for_only_title],\n",
        "    topics=df_exp_tuned_only_title_only_tfidf,      # qid + query içeren DF\n",
        "    qrels=qrels,            # qid + docno + relevance\n",
        "    eval_metrics=[\"map\", \"P.10\", \"recall.100\", \"ndcg\"],\n",
        "    names=[\"BM25\"]\n",
        ")\n",
        "\n",
        "print(eval)"
      ],
      "metadata": {
        "colab": {
          "base_uri": "https://localhost:8080/"
        },
        "id": "gjcGkQroSWeK",
        "outputId": "d9872b35-e526-4b52-b15a-c685533d94af"
      },
      "execution_count": null,
      "outputs": [
        {
          "output_type": "stream",
          "name": "stdout",
          "text": [
            "   name      map   P.10  recall.100      ndcg\n",
            "0  BM25  0.29017  0.426    0.564452  0.476746\n"
          ]
        }
      ]
    },
    {
      "cell_type": "code",
      "source": [
        "#Run default BM25 with expanded queries\n",
        "\n",
        "df_exp_default_only_title_only_tfidf= pd.DataFrame([\n",
        "    {\"qid\": item[\"qid\"], \"query\": item[\"expanded_query\"]}\n",
        "    for item in exp_default_only_title_only_tfidf  # output of expand_queries_tfidf()\n",
        "])\n",
        "eval = pt.Experiment(\n",
        "    [bm25],\n",
        "    topics=df_exp_default_only_title_only_tfidf,      # qid + query içeren DF\n",
        "    qrels=qrels,            # qid + docno + relevance\n",
        "    eval_metrics=[\"map\", \"P.10\", \"recall.100\", \"ndcg\"],\n",
        "    names=[\"BM25\"]\n",
        ")\n",
        "\n",
        "print(eval)"
      ],
      "metadata": {
        "colab": {
          "base_uri": "https://localhost:8080/"
        },
        "id": "pEsvvJb6Tiu8",
        "outputId": "a59bd228-1516-48de-e3d5-03b0bf830794"
      },
      "execution_count": null,
      "outputs": [
        {
          "output_type": "stream",
          "name": "stdout",
          "text": [
            "   name       map   P.10  recall.100      ndcg\n",
            "0  BM25  0.288468  0.426    0.549451  0.471048\n"
          ]
        }
      ]
    },
    {
      "cell_type": "code",
      "source": [
        "# KeyBert query expansion with 10 sentences retrieved with SBERT\n",
        "expansions_default_only_title_10s = generate_query_expansions(\n",
        "    semantic_sentences_default_only_title_10s,\n",
        "    top_n_keywords=5\n",
        ")\n",
        "\n",
        "expansions_tuned_only_title_10s = generate_query_expansions(\n",
        "    semantic_sentences_tuned_only_title_10s,\n",
        "    top_n_keywords=5\n",
        ")\n",
        "update_all_expansions_with_query([\n",
        "    expansions_default_only_title_10s,\n",
        "    expansions_tuned_only_title_10s\n",
        "])"
      ],
      "metadata": {
        "id": "R1OfJLN7dvB8"
      },
      "execution_count": null,
      "outputs": []
    },
    {
      "cell_type": "code",
      "source": [
        "print_query_expansions(expansions_default_only_title_10s, \"DEFAULT — ONLY TITLE\")\n",
        "print_query_expansions(expansions_tuned_only_title_10s, \"TUNED — ONLY TITLE\")"
      ],
      "metadata": {
        "id": "i4bY37VHeUIa",
        "colab": {
          "base_uri": "https://localhost:8080/"
        },
        "outputId": "73457c61-db11-4a1a-d08e-3f1c44b03bd7"
      },
      "execution_count": null,
      "outputs": [
        {
          "output_type": "stream",
          "name": "stdout",
          "text": [
            "\n",
            "==================== DEFAULT — ONLY TITLE ====================\n",
            "\n",
            "🔍 QID: 1\n",
            "🧠 Original Query: coping overcrowded prisons\n",
            "➕ Expanded Terms: ['inmates escaped', 'inmates rioted', 'prison escaped', 'fence inmates', 'fence prisoners']\n",
            "\n",
            "🔍 QID: 2\n",
            "🧠 Original Query: accusations cheating contractors u s defense projects\n",
            "➕ Expanded Terms: ['contractors pentagon', 'pentagon contracts', 'industry pentagon', 'contractor pentagon', 'investigation pentagon']\n",
            "\n",
            "🔍 QID: 3\n",
            "🧠 Original Query: insurance coverage pays long term care\n",
            "➕ Expanded Terms: ['care coverage', 'care insurance', 'medicare premiums', 'care policies', 'covered nursing']\n",
            "\n",
            "==================== TUNED — ONLY TITLE ====================\n",
            "\n",
            "🔍 QID: 1\n",
            "🧠 Original Query: coping overcrowded prisons\n",
            "➕ Expanded Terms: ['inmates escaped', 'inmates rioted', 'increase prison', 'prisoners escaped', 'fence inmates']\n",
            "\n",
            "🔍 QID: 2\n",
            "🧠 Original Query: accusations cheating contractors u s defense projects\n",
            "➕ Expanded Terms: ['contractors pentagon', 'pentagon contracts', 'industry pentagon', 'contractor pentagon', 'investigation pentagon']\n",
            "\n",
            "🔍 QID: 3\n",
            "🧠 Original Query: insurance coverage pays long term care\n",
            "➕ Expanded Terms: ['care coverage', 'care insurance', 'medicare premiums', 'care policies', 'covered nursing']\n"
          ]
        }
      ]
    },
    {
      "cell_type": "code",
      "source": [
        "#Put query expansion results in DataFrame\n",
        "df_exp_default_only_title_ten_sentences = pd.DataFrame([\n",
        "    {\"qid\": item[\"qid\"], \"query\": item[\"expanded_query\"]}\n",
        "    for item in expansions_default_only_title_10s\n",
        "])\n",
        "\n",
        "df_exp_tuned_only_title_ten_sentences = pd.DataFrame([\n",
        "    {\"qid\": item[\"qid\"], \"query\": item[\"expanded_query\"]}\n",
        "    for item in expansions_tuned_only_title_10s\n",
        "])"
      ],
      "metadata": {
        "id": "OiRH5OxgebqG"
      },
      "execution_count": null,
      "outputs": []
    },
    {
      "cell_type": "code",
      "source": [
        "#Run parameter tuned BM25 with expanded queries\n",
        "eval = pt.Experiment(\n",
        "    [bm25_best_for_only_title],\n",
        "    topics=df_exp_tuned_only_title_ten_sentences,      # qid + query içeren DF\n",
        "    qrels=qrels,            # qid + docno + relevance\n",
        "    eval_metrics=[\"map\", \"P.10\", \"recall.100\", \"ndcg\"],\n",
        "    names=[\"BM25\"]\n",
        ")\n",
        "\n",
        "print(eval)"
      ],
      "metadata": {
        "colab": {
          "base_uri": "https://localhost:8080/"
        },
        "id": "ASSQp2jSevDP",
        "outputId": "79d660df-f929-4953-82c4-2bc6f79a47ce"
      },
      "execution_count": null,
      "outputs": [
        {
          "output_type": "stream",
          "name": "stdout",
          "text": [
            "   name       map  P.10  recall.100      ndcg\n",
            "0  BM25  0.281266  0.42    0.522922  0.459968\n"
          ]
        }
      ]
    },
    {
      "cell_type": "code",
      "source": [
        "#Run default BM25 with expanded queries\n",
        "eval = pt.Experiment(\n",
        "    [bm25],\n",
        "    topics=df_exp_default_only_title_ten_sentences,      # qid + query içeren DF\n",
        "    qrels=qrels,            # qid + docno + relevance\n",
        "    eval_metrics=[\"map\", \"P.10\", \"recall.100\", \"ndcg\"],\n",
        "    names=[\"BM25\"]\n",
        ")\n",
        "\n",
        "print(eval)"
      ],
      "metadata": {
        "colab": {
          "base_uri": "https://localhost:8080/"
        },
        "id": "QVmOKPKAe0fY",
        "outputId": "3d38c7da-1210-45d3-a607-823aa3acbd7b"
      },
      "execution_count": null,
      "outputs": [
        {
          "output_type": "stream",
          "name": "stdout",
          "text": [
            "   name       map   P.10  recall.100      ndcg\n",
            "0  BM25  0.264243  0.402    0.522616  0.443722\n"
          ]
        }
      ]
    },
    {
      "cell_type": "code",
      "source": [
        "# Interface with Gradio\n",
        "import gradio as gr\n",
        "import pandas as pd\n",
        "import pytrec_eval\n",
        "\n",
        "qrels_dict = {(str(row.qid), row.docno): int(row.relevance) for _, row in qrels.iterrows()}\n",
        "def get_doc_preview(docno): return doc_preview_dict.get(docno, \"N/A\")\n",
        "doc_preview_dict = docs_df.set_index(\"docno\")[\"text\"].apply(lambda t: \" \".join(t.split()[:10]) + \" ...\").to_dict()\n",
        "exp_tfidf_lookup = {str(item[\"qid\"]): item for item in exp_tuned_only_title_only_tfidf}\n",
        "sbert_lookup = {str(item[\"qid\"]): item for item in sbert_exp_tuned_only_title_tfidf}\n",
        "keybert_exp_tuned_only_title_10s = {str(item[\"qid\"]): item for item in expansions_tuned_only_title_10s}\n",
        "\n",
        "#Method for querying with test queries\n",
        "def evaluate_test_query_with_prf(qid, method):\n",
        "    qid = str(qid).split(\" - \")[0]  # extract just the QID\n",
        "    query_text = queries_df_only_title[queries_df_only_title[\"qid\"] == qid][\"query\"].values[0]\n",
        "\n",
        "    if method == \"BM25 only\":\n",
        "        expanded_query = query_text\n",
        "        expanded_terms = []\n",
        "    elif method == \"TF-IDF PRF\":\n",
        "        item = exp_tfidf_lookup.get(qid)\n",
        "        expanded_query = item['expanded_query'] if item else query_text\n",
        "        expanded_terms = item['keywords_added'] if item else []\n",
        "    elif method == \"SBERT PRF\":\n",
        "        item = sbert_lookup.get(qid)\n",
        "        expanded_query = item['expanded_query'] if item else query_text\n",
        "        expanded_terms = item['keywords_added'] if item else []\n",
        "    elif method == \"KeyBERT and SBERT PRF\":\n",
        "        item = keybert_exp_tuned_only_title_10s.get(qid)\n",
        "        expanded_query = item['expanded_query'] if item else query_text\n",
        "        expanded_terms = item['expanded_terms'] if item else []\n",
        "\n",
        "    query_df = pd.DataFrame([{\"qid\": qid, \"query\": expanded_query}])\n",
        "    results = bm25_best_for_only_title.transform(query_df)\n",
        "    scores = dict(zip(results[\"docno\"], results[\"score\"]))\n",
        "\n",
        "    evaluator = pytrec_eval.RelevanceEvaluator({qid: {k: v for (q, k), v in qrels_dict.items() if q == qid}},\n",
        "                                               {'map', 'P_10', 'recall_100', 'ndcg_cut.10'})\n",
        "    metrics = evaluator.evaluate({qid: scores})[qid]\n",
        "\n",
        "    results[\"relevance\"] = results[\"docno\"].apply(lambda d: qrels_dict.get((qid, d), 0))\n",
        "    results[\"doc_text\"] = results[\"docno\"].apply(get_doc_preview)\n",
        "\n",
        "    results_display = results[[\"docno\", \"score\", \"relevance\", \"doc_text\"]].head(10)\n",
        "    results_display.columns = [\"Doc ID\", \"Score\", \"Relevance\", \"Preview\"]\n",
        "\n",
        "    metrics_md = f\"\"\"**Query:** {query_text}\n",
        "**Expanded Query:** {expanded_query}\n",
        "**Expanded Terms:** {', '.join(expanded_terms) or 'None'}\n",
        "\n",
        "**MAP:** {metrics['map']:.4f}\n",
        "**P@10:** {metrics['P_10']:.4f}\n",
        "**Recall@100:** {metrics['recall_100']:.4f}\n",
        "**nDCG@10:** {metrics['ndcg_cut_10']:.4f}\"\"\"\n",
        "\n",
        "    return metrics_md, results_display\n",
        "\n",
        "#Method for free search\n",
        "def evaluate_free_search_with_prf(query_text, method):\n",
        "    # Step 1: Initial BM25 to get top-10 docs\n",
        "    query_text = preprocess(query_text)\n",
        "    query_df = pd.DataFrame([{\"qid\": \"free\", \"query\": query_text}])\n",
        "    initial_results = bm25_best_for_only_title.transform(query_df).head(10)\n",
        "\n",
        "    top_docs = initial_results[\"docno\"].tolist()\n",
        "    top_doc_texts = [\n",
        "        docs_df.set_index(\"docno\").loc[docno, \"text\"]\n",
        "        for docno in top_docs if docno in docs_df[\"docno\"].values\n",
        "    ]\n",
        "\n",
        "    if not top_doc_texts:\n",
        "        return \"No top documents found.\", pd.DataFrame()\n",
        "\n",
        "    if method == \"BM25 only\":\n",
        "        initial_results[\"doc_text\"] = initial_results[\"docno\"].apply(get_doc_preview)\n",
        "        results_display = initial_results[[\"docno\", \"score\", \"doc_text\"]].head(10)\n",
        "        results_display.columns = [\"Doc ID\", \"Score\", \"Preview\"]\n",
        "        return \"No relevance info (free search mode)\", results_display\n",
        "\n",
        "    queries_df = pd.DataFrame([{\"qid\": \"free\", \"query\": query_text}])\n",
        "    top10_df = pd.DataFrame({\n",
        "        \"qid\": [\"free\"] * len(top_docs),\n",
        "        \"docno\": top_docs,\n",
        "        \"text\": top_doc_texts\n",
        "    })\n",
        "\n",
        "    # Step 2: Find expansion terms if PRF methods are selected\n",
        "    if method == \"TF-IDF PRF\":\n",
        "        tfidf_expanded = expand_queries_with_tfidf_from_top10(queries_df, top10_df, top_k_terms=5)\n",
        "        item = tfidf_expanded[0]\n",
        "        expanded_query = item[\"expanded_query\"]\n",
        "        top_keywords = item[\"keywords_added\"]\n",
        "\n",
        "    elif method == \"SBERT PRF\":\n",
        "        semantic_list = extract_top_semantic_sentences_for_all_queries(queries_df, top10_df, top_k_sent=10)\n",
        "        tfidf_expanded = expand_queries_tfidf(semantic_list, top_k_terms=5)\n",
        "        item = tfidf_expanded[0]\n",
        "        expanded_query = item[\"expanded_query\"]\n",
        "        top_keywords = item[\"keywords_added\"]\n",
        "    elif method == \"KeyBERT and SBERT PRF\":\n",
        "        semantic_list = extract_top_semantic_sentences_for_all_queries(queries_df, top10_df, top_k_sent=10)\n",
        "        keyBERT_expanded = generate_query_expansions(semantic_list,top_n_keywords=5)\n",
        "        update_all_expansions_with_query([keyBERT_expanded])\n",
        "        item = keyBERT_expanded[0]\n",
        "        expanded_query = item[\"expanded_query\"]\n",
        "        top_keywords = item[\"expanded_terms\"]\n",
        "    else:\n",
        "        return \"Invalid method\", pd.DataFrame()\n",
        "\n",
        "    # Final BM25 with expanded query\n",
        "    rerun_df = pd.DataFrame([{\"qid\": \"free\", \"query\": expanded_query}])\n",
        "    final_results = bm25_best_for_only_title.transform(rerun_df)\n",
        "    final_results[\"doc_text\"] = final_results[\"docno\"].apply(get_doc_preview)\n",
        "\n",
        "    results_display = final_results[[\"docno\", \"score\", \"doc_text\"]].head(10)\n",
        "    results_display.columns = [\"Doc ID\", \"Score\", \"Preview\"]\n",
        "\n",
        "    display_expansion = f\"\"\"**Original Query:** {query_text}\n",
        "**Expanded Query:** {expanded_query}\n",
        "**Expanded Terms:** {', '.join(top_keywords) if top_keywords else 'None'}\"\"\"\n",
        "\n",
        "    return display_expansion, results_display\n",
        "\n",
        "\n",
        "\n",
        "def gradio_interface(mode, selected_qid, free_query, prf_method):\n",
        "    if mode == \"Test query\":\n",
        "        return evaluate_test_query_with_prf(selected_qid, prf_method)\n",
        "    else:\n",
        "        return evaluate_free_search_with_prf(free_query, prf_method)\n",
        "\n",
        "with gr.Blocks() as demo:\n",
        "    gr.Markdown(\"## IR Demo: Semantic Query Expansion via SBERT-Enhanced Pseudo-Relevance Feedback\")\n",
        "\n",
        "    with gr.Row():\n",
        "        mode_radio = gr.Radio([\"Test query\", \"Free search\"], label=\"Mode\", value=\"Test query\")\n",
        "        prf_method_radio = gr.Radio([\"BM25 only\", \"TF-IDF PRF\", \"SBERT PRF\", \"KeyBERT and SBERT PRF\"], label=\"Query Expansion Method\", value=\"BM25 only\")\n",
        "\n",
        "    with gr.Row():\n",
        "        qid_to_query = {str(row.qid): row.query for _, row in queries_df_only_title.iterrows()}\n",
        "        test_qid_dropdown = gr.Dropdown(choices=[f\"{qid} - {query}\" for qid, query in qid_to_query.items()],\n",
        "                                        label=\"Select test query\", visible=True)\n",
        "        free_query_textbox = gr.Textbox(lines=1, placeholder=\"Enter your query\", label=\"Custom Query\", visible=False)\n",
        "\n",
        "    with gr.Row():\n",
        "        search_button = gr.Button(\"Search\")\n",
        "        clear_button = gr.Button(\"Clear Input\")\n",
        "\n",
        "    eval_output = gr.Markdown()\n",
        "    result_table = gr.Dataframe(headers=[\"Doc ID\", \"Score\", \"Relevance\", \"Preview\"], interactive=True)\n",
        "    full_doc_view = gr.Textbox(label=\"Full Document Text\", lines=10, visible=False)\n",
        "\n",
        "    mode_radio.change(fn=lambda mode: (\n",
        "        gr.update(visible=(mode == \"Test query\")),\n",
        "        gr.update(visible=(mode == \"Free search\"))\n",
        "    ), inputs=mode_radio, outputs=[test_qid_dropdown, free_query_textbox])\n",
        "\n",
        "    clear_button.click(fn=lambda mode: (\n",
        "        \"\" if mode == \"Free search\" else gr.update(value=None),\n",
        "        \"\" if mode == \"Free search\" else gr.update(value=\"\")\n",
        "    ), inputs=mode_radio, outputs=[test_qid_dropdown, free_query_textbox])\n",
        "\n",
        "    search_button.click(\n",
        "        fn=gradio_interface,\n",
        "        inputs=[mode_radio, test_qid_dropdown, free_query_textbox, prf_method_radio],\n",
        "        outputs=[eval_output, result_table]\n",
        "    )\n",
        "    def show_full_doc(evt: gr.SelectData):\n",
        "        docno = evt.value\n",
        "        full_text = docs_df.set_index(\"docno\").loc[docno, \"text\"] if docno in docs_df[\"docno\"].values else \"Document not found\"\n",
        "        return gr.update(value=full_text, visible=True)\n",
        "\n",
        "    result_table.select(fn=show_full_doc, outputs=full_doc_view)\n",
        "\n",
        "    demo.launch()\n",
        "\n"
      ],
      "metadata": {
        "colab": {
          "base_uri": "https://localhost:8080/",
          "height": 648
        },
        "id": "a6_dYVE6gFMB",
        "outputId": "4dec3fae-00e7-4d26-d23b-b86e20b367e8"
      },
      "execution_count": 80,
      "outputs": [
        {
          "output_type": "stream",
          "name": "stdout",
          "text": [
            "It looks like you are running Gradio on a hosted a Jupyter notebook. For the Gradio app to work, sharing must be enabled. Automatically setting `share=True` (you can turn this off by setting `share=False` in `launch()` explicitly).\n",
            "\n",
            "Colab notebook detected. To show errors in colab notebook, set debug=True in launch()\n",
            "* Running on public URL: https://829da6f19c4e60130c.gradio.live\n",
            "\n",
            "This share link expires in 1 week. For free permanent hosting and GPU upgrades, run `gradio deploy` from the terminal in the working directory to deploy to Hugging Face Spaces (https://huggingface.co/spaces)\n"
          ]
        },
        {
          "output_type": "display_data",
          "data": {
            "text/plain": [
              "<IPython.core.display.HTML object>"
            ],
            "text/html": [
              "<div><iframe src=\"https://829da6f19c4e60130c.gradio.live\" width=\"100%\" height=\"500\" allow=\"autoplay; camera; microphone; clipboard-read; clipboard-write;\" frameborder=\"0\" allowfullscreen></iframe></div>"
            ]
          },
          "metadata": {}
        }
      ]
    },
    {
      "cell_type": "code",
      "source": [
        "# Graphics\n",
        "import matplotlib.pyplot as plt\n",
        "import seaborn as sns\n",
        "\n",
        "# Data\n",
        "data = {\n",
        "    \"Model\": [\n",
        "        \"BM25 (desc, tuned)\",\n",
        "        \"BM25 (title only, tuned)\",\n",
        "        \"PRF - KeyBERT with SBERT (10 sentences)\",\n",
        "        \"PRF - TF-IDF with SBERT (10 sentences)\",\n",
        "        \"PRF - only TF-IDF\"\n",
        "    ],\n",
        "    \"MAP\": [0.301375, 0.26011, 0.281266, 0.290716, 0.29017],\n",
        "    \"P@10\": [0.456, 0.41, 0.42, 0.434, 0.426],\n",
        "    \"Recall@100\": [0.613607, 0.539969, 0.522922, 0.544269, 0.564452],\n",
        "    \"nDCG\": [0.508126, 0.446874, 0.459968, 0.468388, 0.476746]\n",
        "}\n",
        "\n",
        "\n",
        "\n",
        "\n",
        "# Data\n",
        "data = {\n",
        "    \"Model\": [\n",
        "        \"BM25 (with desc)\",\n",
        "        \"BM25 (title only)\",\n",
        "        \"PRF KeyBERT (10)\",\n",
        "        \"PRF SBERT (10)\",\n",
        "        \"PRF TF-IDF\"\n",
        "    ],\n",
        "    \"MAP\": [0.301375, 0.26011, 0.281266, 0.290716, 0.29017],\n",
        "    \"P@10\": [0.456, 0.41, 0.42, 0.434, 0.426],\n",
        "    \"Recall@100\": [0.613607, 0.539969, 0.522922, 0.544269, 0.564452],\n",
        "    \"nDCG\": [0.508126, 0.446874, 0.459968, 0.468388, 0.476746]\n",
        "}\n",
        "\n",
        "df = pd.DataFrame(data)\n",
        "\n",
        "# Radar Chart Preparation\n",
        "categories = list(df.columns[1:])\n",
        "N = len(categories)\n",
        "\n",
        "# Add first value to close the loop for radar\n",
        "values_list = [df.loc[i, categories].tolist() + [df.loc[i, categories[0]]] for i in range(len(df))]\n",
        "\n",
        "# Setup angles for radar chart\n",
        "angles = [n / float(N) * 2 * np.pi for n in range(N)]\n",
        "angles += angles[:1]\n",
        "\n",
        "# Bar Plot for Each Metric\n",
        "df_melted = df.melt(id_vars=\"Model\", var_name=\"Metric\", value_name=\"Score\")\n",
        "plt.figure(figsize=(10, 6))\n",
        "sns.barplot(x=\"Metric\", y=\"Score\", hue=\"Model\", data=df_melted)\n",
        "plt.title(\"Metric Scores by Model\")\n",
        "plt.legend(bbox_to_anchor=(1.05, 1), loc='upper left')\n",
        "plt.tight_layout()\n",
        "plt.show()\n",
        "\n"
      ],
      "metadata": {
        "colab": {
          "base_uri": "https://localhost:8080/",
          "height": 607
        },
        "id": "Du7b6a5tBOJm",
        "outputId": "154c0e2e-17ed-423c-b9c5-40e20897cdd6"
      },
      "execution_count": null,
      "outputs": [
        {
          "output_type": "display_data",
          "data": {
            "text/plain": [
              "<Figure size 1000x600 with 1 Axes>"
            ],
            "image/png": "[encoded data removed]"
          },
          "metadata": {}
        }
      ]
    },
    {
      "cell_type": "code",
      "source": [
        "# Graphics to compare performance of models with short and long queries\n",
        "tfidf_results = pt.Experiment(\n",
        "    [bm25_best_for_only_title],\n",
        "    topics=df_exp_tuned_only_title_only_tfidf,      # qid + query içeren DF\n",
        "    qrels=qrels,            # qid + docno + relevance\n",
        "    eval_metrics=[\"map\", \"P.10\", \"recall.100\", \"ndcg\"],\n",
        "    names=[\"BM25\"],\n",
        "    perquery=True\n",
        ")\n",
        "\n",
        "sbert_results = pt.Experiment(\n",
        "    [bm25_best_for_only_title],\n",
        "    topics=df_sbert_exp_tuned_only_title_tfidf,      # qid + query içeren DF\n",
        "    qrels=qrels,            # qid + docno + relevance\n",
        "    eval_metrics=[\"map\", \"P.10\", \"recall.100\", \"ndcg\"],\n",
        "    names=[\"BM25\"],\n",
        "    perquery=True\n",
        ")\n",
        "\n",
        "bm25_results = pt.Experiment(\n",
        "    [bm25_best_for_only_title],\n",
        "    topics=queries_df_only_title,      # qid + query içeren DF\n",
        "    qrels=qrels,            # qid + docno + relevance\n",
        "    eval_metrics=[\"map\", \"P.10\", \"recall.100\", \"ndcg\"],\n",
        "    names=[\"BM25\"],\n",
        "    perquery=True\n",
        ")\n",
        "# Convert evaluation results from PyTerrier\n",
        "bm25_df = pd.DataFrame(bm25_results)\n",
        "tfidf_df = pd.DataFrame(tfidf_results)\n",
        "sbert_df = pd.DataFrame(sbert_results)\n",
        "\n",
        "# Ensure qid is string for consistent merging\n",
        "bm25_df[\"qid\"] = bm25_df[\"qid\"].astype(str)\n",
        "tfidf_df[\"qid\"] = tfidf_df[\"qid\"].astype(str)\n",
        "sbert_df[\"qid\"] = sbert_df[\"qid\"].astype(str)\n",
        "queries_df_only_title[\"qid\"] = queries_df_only_title[\"qid\"].astype(str)\n",
        "\n",
        "# Merge with original query text\n",
        "bm25_df = bm25_df.merge(queries_df_only_title, on=\"qid\")\n",
        "tfidf_df = tfidf_df.merge(queries_df_only_title, on=\"qid\")\n",
        "sbert_df = sbert_df.merge(queries_df_only_title, on=\"qid\")\n",
        "\n",
        "# Add query length and query type classification\n",
        "for df in [bm25_df, tfidf_df, sbert_df]:\n",
        "    df[\"query_len\"] = df[\"query\"].apply(lambda q: len(q.split()))\n",
        "    df[\"Query Length\"] = df[\"query_len\"].apply(lambda l: \"Short (≤2)\" if l <= 2 else \"Long (>2)\")\n",
        "\n",
        "# Filter only P@10 scores\n",
        "bm25_p10 = bm25_df[bm25_df[\"measure\"] == \"P.10\"]\n",
        "tfidf_p10 = tfidf_df[tfidf_df[\"measure\"] == \"P.10\"]\n",
        "sbert_p10 = sbert_df[sbert_df[\"measure\"] == \"P.10\"]\n",
        "\n",
        "# Group by query type and calculate average value\n",
        "bm25_avg = bm25_p10.groupby(\"Query Length\")[\"value\"].mean().rename(\"BM25\")\n",
        "tfidf_avg = tfidf_p10.groupby(\"Query Length\")[\"value\"].mean().rename(\"TF-IDF PRF\")\n",
        "sbert_avg = sbert_p10.groupby(\"Query Length\")[\"value\"].mean().rename(\"SBERT PRF\")\n",
        "\n",
        "# Combine into one summary table\n",
        "summary = pd.concat([bm25_avg, tfidf_avg, sbert_avg], axis=1)\n",
        "\n",
        "\n",
        "ax = summary.T.plot(kind=\"bar\", figsize=(8, 5))\n",
        "plt.title(\"Average P@10 for Short vs. Long Queries\")\n",
        "plt.ylabel(\"P@10\")\n",
        "plt.xlabel(\"Method\")\n",
        "plt.xticks(rotation=0)\n",
        "plt.legend(loc='upper left')\n",
        "plt.grid(axis='y', linestyle=\"--\", alpha=0.7)\n",
        "plt.tight_layout()\n",
        "plt.show()"
      ],
      "metadata": {
        "colab": {
          "base_uri": "https://localhost:8080/",
          "height": 507
        },
        "id": "tSfDSWJNJ2oA",
        "outputId": "6d22985b-7588-45b2-da43-7e42d5904fa4"
      },
      "execution_count": null,
      "outputs": [
        {
          "output_type": "display_data",
          "data": {
            "text/plain": [
              "<Figure size 800x500 with 1 Axes>"
            ],
            "image/png": "[encoded data removed]"
          },
          "metadata": {}
        }
      ]
    }
  ]
}